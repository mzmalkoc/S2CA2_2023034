{
 "cells": [
  {
   "cell_type": "code",
   "execution_count": null,
   "id": "cbf5b36e",
   "metadata": {},
   "outputs": [],
   "source": [
    "sc"
   ]
  },
  {
   "cell_type": "markdown",
   "id": "09369a9a",
   "metadata": {},
   "source": [
    "# ================================\n",
    "# READ TO CSV FROM HDFS VIA SPARK\n",
    "# ================================"
   ]
  },
  {
   "cell_type": "code",
   "execution_count": null,
   "id": "96ad9133",
   "metadata": {},
   "outputs": [],
   "source": [
    "%%time\n",
    "from pyspark.sql import SparkSession\n",
    "\n",
    "# Create Spark Session\n",
    "spark = SparkSession.builder.appName(\"HDFSToCSV\").getOrCreate()\n",
    "\n",
    "# Read CSV file with Spark DataFrame\n",
    "df = spark.read.csv(\"/ProjectTweets.csv\", header=False, inferSchema=True)"
   ]
  },
  {
   "cell_type": "code",
   "execution_count": null,
   "id": "4f876af7",
   "metadata": {},
   "outputs": [],
   "source": [
    "# Show DataFrame First 5 Rows\n",
    "df.show(5)"
   ]
  },
  {
   "cell_type": "code",
   "execution_count": null,
   "id": "b74e9815",
   "metadata": {},
   "outputs": [],
   "source": [
    "df.printSchema()"
   ]
  },
  {
   "cell_type": "code",
   "execution_count": null,
   "id": "23c856f8",
   "metadata": {},
   "outputs": [],
   "source": [
    "# The first method for renamed the column names\n",
    "# df = df.withColumnRenamed(\"_c0\", \"id\").withColumnRenamed(\"_c1\", \"stamp\").withColumnRenamed(\"_c2\", \"date\").withColumnRenamed(\"_c3\", \"flag\").withColumnRenamed(\"_c4\", \"user\").withColumnRenamed(\"_c5\", \"text\")\n",
    "\n",
    "# The second method for renamed the column names\n",
    "df = df.selectExpr(\"_c0 as ID\", \"_c1 as STAMP\", \"_c2 as DATE\", \"_c3 as FLAG\", \"_c4 as USER\", \"_c5 as TEXT\")\n",
    "df.show(5)"
   ]
  },
  {
   "cell_type": "code",
   "execution_count": null,
   "id": "b55ae87a",
   "metadata": {},
   "outputs": [],
   "source": [
    "# How many rows does the dataframe \n",
    "row_count = df.count()\n",
    "# Print row_count\n",
    "print(\"DataFrame has {} rows.\".format(row_count))"
   ]
  },
  {
   "cell_type": "code",
   "execution_count": null,
   "id": "16ae8b46",
   "metadata": {},
   "outputs": [],
   "source": [
    "from pyspark.sql.functions import col\n",
    "\n",
    "columns = [\"ID\", \"STAMP\", \"DATE\", \"FLAG\", \"USER\", \"TEXT\"]\n",
    "\n",
    "Columns = df.columns\n",
    "\n",
    "# Check out the each column and Count unique values\n",
    "for column in Columns:\n",
    "    unique_values = df.select(column).distinct()\n",
    "    unique_count = unique_values.count()\n",
    "    \n",
    "    if unique_count > 0:\n",
    "        print(f\"{column} has {unique_count} unique values:\")\n",
    "    else:\n",
    "        print(f\"{column} has no unique value.\")"
   ]
  },
  {
   "cell_type": "code",
   "execution_count": null,
   "id": "b8bbe08a",
   "metadata": {},
   "outputs": [],
   "source": [
    "from pyspark.sql.functions import col\n",
    "\n",
    "columns = [\"ID\", \"STAMP\", \"DATE\", \"FLAG\", \"USER\", \"TEXT\"]\n",
    "\n",
    "Columns = df.columns\n",
    "\n",
    "# Check out the each column and Count duplicate values\n",
    "for column in Columns:\n",
    "    count_df = df.groupBy(column).count()\n",
    "    duplicate_values = count_df.filter(col(\"count\") > 1).count()\n",
    "    \n",
    "    if duplicate_values > 0:\n",
    "        print(f\"{column} has {duplicate_values} duplicate values.\")\n",
    "    else:\n",
    "        print(f\"{column} has no duplicate value.\")"
   ]
  },
  {
   "cell_type": "code",
   "execution_count": null,
   "id": "9d2ebf24",
   "metadata": {},
   "outputs": [],
   "source": [
    "# Drop the selected columns\n",
    "df = df.drop(\"ID\", \"STAMP\", \"FLAG\", \"USER\")\n",
    "df.show(5)"
   ]
  },
  {
   "cell_type": "code",
   "execution_count": null,
   "id": "af53e15e",
   "metadata": {},
   "outputs": [],
   "source": [
    "df.describe().show()"
   ]
  },
  {
   "cell_type": "code",
   "execution_count": null,
   "id": "74ca4568",
   "metadata": {},
   "outputs": [],
   "source": [
    "df.summary().show()"
   ]
  },
  {
   "cell_type": "code",
   "execution_count": null,
   "id": "5a848ea0",
   "metadata": {},
   "outputs": [],
   "source": [
    "from pyspark.sql.functions import col\n",
    "\n",
    "# Do a grouping and counting operation to find duplicate values in the \"TEXT\" column\n",
    "count_df = df.groupBy(\"TEXT\").count()\n",
    "\n",
    "# Filter rows containing duplicate values\n",
    "duplicate_values = count_df.filter(col(\"count\") > 1)\n",
    "\n",
    "# If there are duplicate values, show them\n",
    "if duplicate_values.count() > 0:\n",
    "    print(\"Duplicate values:\")\n",
    "    duplicate_values.show(truncate=False)  # Display column values in full length\n",
    "else:\n",
    "    print(\"No duplicate values found.\")"
   ]
  },
  {
   "cell_type": "code",
   "execution_count": null,
   "id": "b8f12ca9",
   "metadata": {},
   "outputs": [],
   "source": [
    "# How many rows does the dataframe \n",
    "row_count = df.count()\n",
    "# Print row_count\n",
    "print(\"DataFrame has {} rows.\".format(row_count))"
   ]
  },
  {
   "cell_type": "code",
   "execution_count": null,
   "id": "62cf6457",
   "metadata": {},
   "outputs": [],
   "source": [
    "df.printSchema()"
   ]
  },
  {
   "cell_type": "markdown",
   "id": "8988dd02",
   "metadata": {},
   "source": [
    "# =====================\n",
    "# TEXT PRE-PROCESSING\n",
    "# ====================="
   ]
  },
  {
   "cell_type": "code",
   "execution_count": null,
   "id": "e62f5211",
   "metadata": {},
   "outputs": [],
   "source": [
    "from pyspark.sql.functions import col, udf, lower, regexp_replace\n",
    "from pyspark.sql.types import ArrayType, StringType, FloatType\n",
    "\n",
    "import string\n",
    "import nltk\n",
    "import re\n",
    "import contractions\n",
    "import torch\n",
    "\n",
    "from nltk.corpus import stopwords\n",
    "from nltk.tokenize import word_tokenize\n",
    "from nltk.stem import WordNetLemmatizer, SnowballStemmer \n",
    "\n",
    "from textblob import TextBlob\n",
    "from nltk.sentiment import SentimentIntensityAnalyzer\n",
    "from nltk import word_tokenize"
   ]
  },
  {
   "cell_type": "code",
   "execution_count": null,
   "id": "59bc460d",
   "metadata": {},
   "outputs": [],
   "source": [
    "df.select(\"TEXT\").show(3, truncate=False)"
   ]
  },
  {
   "cell_type": "markdown",
   "id": "7ba8ac18",
   "metadata": {},
   "source": [
    "#### TEXT CLEANING"
   ]
  },
  {
   "cell_type": "code",
   "execution_count": null,
   "id": "ebafbd3e",
   "metadata": {},
   "outputs": [],
   "source": [
    "import re\n",
    "\n",
    "# Cleaning Function\n",
    "def clean_text(text):\n",
    "    text = text.strip()\n",
    "    text = re.sub(r\"http\\S+|www\\S+|https\\S+\", '', text, flags=re.MULTILINE)\n",
    "    text = re.sub(r'\\@\\w+|\\#','', text)\n",
    "    text = re.sub(r'\\d+', '', text)\n",
    "    text = re.sub(r'\\s\\s+', ' ', text)\n",
    "    text = re.sub(r'[@_!#$%^&*()<>?/\\|}{~:]', '', text)\n",
    "    text = text.lower()\n",
    "    return text\n",
    "\n",
    "# Save as UDF\n",
    "clean_text_udf = udf(clean_text, StringType())\n",
    "\n",
    "# Create new column\n",
    "df = df.withColumn(\"TEXT_C1\", clean_text_udf(col(\"text\")))\n",
    "df.select(\"TEXT\", \"TEXT_C1\").show(3, truncate=False)"
   ]
  },
  {
   "cell_type": "markdown",
   "id": "8ca560f3",
   "metadata": {},
   "source": [
    "#### EXPAND CONTRACTIONS"
   ]
  },
  {
   "cell_type": "code",
   "execution_count": null,
   "id": "104ba5b0",
   "metadata": {},
   "outputs": [],
   "source": [
    "import contractions\n",
    "\n",
    "# Function to expand contractions\n",
    "def expand_contractions(text):\n",
    "    expanded_text = contractions.fix(text)\n",
    "    return expanded_text\n",
    "\n",
    "# Save as UDF\n",
    "expand_contractions_udf = udf(expand_contractions, StringType())\n",
    "\n",
    "# Use the UDF and Create new column\n",
    "df = df.withColumn(\"TEXT_C2\", expand_contractions_udf(col(\"TEXT_C1\")))\n",
    "\n",
    "# Show the dataframe\n",
    "df.select(\"TEXT\", \"TEXT_C1\", \"TEXT_C2\").show(3, truncate=False)"
   ]
  },
  {
   "cell_type": "markdown",
   "id": "e2fb546a",
   "metadata": {},
   "source": [
    "#### CLEAN THE PUNCTUATION CHARACTERS"
   ]
  },
  {
   "cell_type": "code",
   "execution_count": null,
   "id": "22b970ed",
   "metadata": {},
   "outputs": [],
   "source": [
    "# Define punctuation characters\n",
    "punctuation_characters = r'[!\\\"#\\$%&\\'\\(\\)\\*\\+,\\-./:;<=>\\?@[\\\\]\\^_`{|}~]'\n",
    "\n",
    "# Remove punctuation characters\n",
    "df = df.withColumn(\"TEXT_C3\", regexp_replace(col(\"TEXT_C2\"), punctuation_characters, \"\"))\n",
    "\n",
    "# Show the dataframe\n",
    "df.select(\"TEXT\", \"TEXT_C1\", \"TEXT_C2\", \"TEXT_C3\").show(3, truncate=False)"
   ]
  },
  {
   "cell_type": "markdown",
   "id": "dc3af04d",
   "metadata": {},
   "source": [
    "#### CLEAN THE STOPWORDS"
   ]
  },
  {
   "cell_type": "code",
   "execution_count": null,
   "id": "bc0f7eec",
   "metadata": {},
   "outputs": [],
   "source": [
    "# Download \"stopwords\" from nltk dictionary\n",
    "nltk.download(\"stopwords\")\n",
    "\n",
    "# Configure the language as english\n",
    "stop_words = set(stopwords.words(\"english\"))\n",
    "\n",
    "# Define the udf \n",
    "remove_stopwords_udf = udf(lambda text: \" \".join([word for word in text.split() if word not in stop_words]), StringType())\n",
    "\n",
    "# Use the UDF in order to remove stopwords and Create new column\n",
    "df = df.withColumn(\"TEXT_C4\", remove_stopwords_udf(col(\"TEXT_C3\")))\n",
    "\n",
    "# Show the dataframe\n",
    "df.select(\"TEXT\", \"TEXT_C1\", \"TEXT_C2\", \"TEXT_C3\", \"TEXT_C4\").show(3, truncate=False)"
   ]
  },
  {
   "cell_type": "markdown",
   "id": "8bad341b",
   "metadata": {},
   "source": [
    "#### IMPLEMENT LEMMATIZATION"
   ]
  },
  {
   "cell_type": "code",
   "execution_count": null,
   "id": "66a6c09f",
   "metadata": {},
   "outputs": [],
   "source": [
    "from nltk.tokenize import word_tokenize\n",
    "from nltk.stem import WordNetLemmatizer\n",
    "\n",
    "# Download 'punkt','averaged_perceptron_tagger','wordnet' from nltk dictionary\n",
    "nltk.download('punkt')\n",
    "nltk.download('averaged_perceptron_tagger')\n",
    "nltk.download('wordnet')\n",
    "\n",
    "# Defining the function that implements the Lemmatization operation as a UDF\n",
    "def lemmatize_text(text):\n",
    "    lemmatizer = WordNetLemmatizer()\n",
    "    lemmatized_sentence = []\n",
    "    words = word_tokenize(text)\n",
    "    for w in words:\n",
    "        lemma = lemmatizer.lemmatize(w)\n",
    "        lemmatized_sentence.append(lemma)\n",
    "    lemmatized_text = \" \".join(lemmatized_sentence)\n",
    "    return lemmatized_text\n",
    "\n",
    "# Define the UDF\n",
    "lemmatize_text_udf = udf(lemmatize_text, StringType())\n",
    "\n",
    "# Use the UDF and Create new column\n",
    "df = df.withColumn(\"TEXT_C5\", lemmatize_text_udf(df[\"TEXT_C4\"]))\n",
    "\n",
    "# Show the dataframe\n",
    "df.select(\"TEXT\", \"TEXT_C1\", \"TEXT_C2\", \"TEXT_C3\", \"TEXT_C4\", \"TEXT_C5\").show(3, truncate=False)"
   ]
  },
  {
   "cell_type": "markdown",
   "id": "932161f9",
   "metadata": {},
   "source": [
    "#### IMPLEMENT STEMMING"
   ]
  },
  {
   "cell_type": "code",
   "execution_count": null,
   "id": "d3c676df",
   "metadata": {},
   "outputs": [],
   "source": [
    "from nltk.stem import SnowballStemmer\n",
    "\n",
    "# Defining the function that finds word roots as UDF \n",
    "def stem_text(text):\n",
    "    snow = SnowballStemmer('english')\n",
    "    stemmed_sentence = []\n",
    "    words = word_tokenize(text)\n",
    "    for w in words:\n",
    "        stemmed_sentence.append(snow.stem(w))\n",
    "    stemmed_text = \" \".join(stemmed_sentence)\n",
    "    return stemmed_text\n",
    "\n",
    "# Define the UDF\n",
    "stem_text_udf = udf(stem_text, StringType())\n",
    "\n",
    "# Use the UDF and Create new column\n",
    "df = df.withColumn(\"TEXT_C6\", stem_text_udf(df[\"TEXT_C5\"]))\n",
    "\n",
    "# Show the dataframe\n",
    "df.select(\"TEXT\", \"TEXT_C1\", \"TEXT_C2\", \"TEXT_C3\", \"TEXT_C4\", \"TEXT_C5\", \"TEXT_C6\").show(3, truncate=False)"
   ]
  },
  {
   "cell_type": "markdown",
   "id": "7e6e4dc6",
   "metadata": {},
   "source": [
    "#### IMPLEMENT TOKENIZATION"
   ]
  },
  {
   "cell_type": "code",
   "execution_count": null,
   "id": "8581422c",
   "metadata": {},
   "outputs": [],
   "source": [
    "from pyspark.sql.types import ArrayType, StringType\n",
    "from nltk.tokenize import word_tokenize\n",
    "\n",
    "# Function that splits text into tokens using NLTK\n",
    "def tokenize_text(text):\n",
    "    words = word_tokenize(text)\n",
    "    return words\n",
    "\n",
    "# Define the UDF\n",
    "tokenize_text_udf = udf(tokenize_text, ArrayType(StringType()))\n",
    "\n",
    "# Use the UDF and Create new column\n",
    "df = df.withColumn(\"TOKENS\", tokenize_text_udf(df[\"TEXT_C6\"]))\n",
    "\n",
    "# Show the selected dataframe\n",
    "df.select(\"TEXT\", \"TEXT_C6\", \"TOKENS\").show(3, truncate=False)"
   ]
  },
  {
   "cell_type": "markdown",
   "id": "f18a12f5",
   "metadata": {},
   "source": [
    "#### DROP THE REDUNDANT COLUMNS"
   ]
  },
  {
   "cell_type": "code",
   "execution_count": null,
   "id": "88222d6c",
   "metadata": {},
   "outputs": [],
   "source": [
    "df.show(5)"
   ]
  },
  {
   "cell_type": "code",
   "execution_count": null,
   "id": "ce561c86",
   "metadata": {},
   "outputs": [],
   "source": [
    "# Drop the selected columns\n",
    "df = df.drop(\"TEXT_C1\", \"TEXT_C2\", \"TEXT_C3\", \"TEXT_C4\", \"TEXT_C5\")\n",
    "df.show(5)"
   ]
  },
  {
   "cell_type": "markdown",
   "id": "2e720fc7",
   "metadata": {},
   "source": [
    "#### IMPLEMENT TOKENIZATION AND SPLIT WORDS TO ROWS"
   ]
  },
  {
   "cell_type": "code",
   "execution_count": null,
   "id": "665a378e",
   "metadata": {},
   "outputs": [],
   "source": [
    "from pyspark.ml.feature import Tokenizer\n",
    "from pyspark.sql.functions import explode, col\n",
    "\n",
    "# Create The Tokenizer\n",
    "tokenizer = Tokenizer(inputCol=\"TEXT_C6\", outputCol=\"words\")\n",
    "tokenizer_df = tokenizer.transform(df)\n",
    "\n",
    "# Separate words into individual lines\n",
    "tokenizer_df = tokenizer_df.select(explode(col(\"words\")).alias(\"word\"))\n",
    "\n",
    "# Show the dataframe\n",
    "tokenizer_df.show(3, truncate=False)"
   ]
  },
  {
   "cell_type": "markdown",
   "id": "056f10c9",
   "metadata": {},
   "source": [
    "#### Table 1: Count The Tokenizer Words"
   ]
  },
  {
   "cell_type": "code",
   "execution_count": null,
   "id": "aace1722",
   "metadata": {},
   "outputs": [],
   "source": [
    "%%time\n",
    "# Count the tokenizer words\n",
    "tokenizer_df_count = tokenizer_df.groupBy(\"word\").count().orderBy(\"count\", ascending=False)\n",
    "\n",
    "# Show the dataframe\n",
    "tokenizer_df_count.show(50)"
   ]
  },
  {
   "cell_type": "markdown",
   "id": "1c860e25",
   "metadata": {},
   "source": [
    "#### Figure 1: WordCloud The Tokenizer Words"
   ]
  },
  {
   "cell_type": "code",
   "execution_count": null,
   "id": "79779bc8",
   "metadata": {
    "scrolled": false
   },
   "outputs": [],
   "source": [
    "%%time\n",
    "import pandas as pd\n",
    "import matplotlib.pyplot as plt\n",
    "from wordcloud import WordCloud\n",
    "\n",
    "# Convert the Spark DataFrame to Pandas DataFrame\n",
    "pandas_df_count = tokenizer_df_count.toPandas()\n",
    "\n",
    "# Create a dictionary from the Pandas DataFrame for word frequencies\n",
    "word_freq_dict = dict(zip(pandas_df_count['word'], pandas_df_count['count']))\n",
    "\n",
    "# Generate WordCloud for positive sentiments\n",
    "plt.figure(figsize=(20, 20))\n",
    "wc = WordCloud(max_words=2000, width=1600, height=800).generate_from_frequencies(word_freq_dict)\n",
    "plt.imshow(wc, interpolation='bilinear')\n",
    "plt.axis('off')\n",
    "plt.show()"
   ]
  },
  {
   "cell_type": "markdown",
   "id": "5cf963ad",
   "metadata": {},
   "source": [
    "## ==============\n",
    "## Text Blob Method\n",
    "## ==============\n",
    "#### SENTIMENT SCORES AND SENTIMENT LABEL"
   ]
  },
  {
   "cell_type": "code",
   "execution_count": null,
   "id": "00c03903",
   "metadata": {},
   "outputs": [],
   "source": [
    "%%time\n",
    "\n",
    "from textblob import TextBlob\n",
    "\n",
    "# Sentimental Analysis Function\n",
    "def get_sentiment(text):\n",
    "    analysis = TextBlob(text)\n",
    "    return analysis.sentiment.polarity\n",
    "\n",
    "# Sentiment Label Function\n",
    "def label_sentiment(score):\n",
    "    if score > 0:\n",
    "        return 'positive'\n",
    "    elif score < 0:\n",
    "        return 'negative'\n",
    "    else:\n",
    "        return 'neutral'\n",
    "\n",
    "#=========================================================================================#\n",
    "\n",
    "from pyspark.sql.types import FloatType, StringType\n",
    "\n",
    "# Define the UDF with Functions\n",
    "sentiment_udf = udf(get_sentiment, FloatType())\n",
    "label_udf = udf(label_sentiment, StringType())\n",
    "\n",
    "# Use the UDF and Create new columns\n",
    "df = df.withColumn('SentimentScores', sentiment_udf(df['TEXT_C6']))\n",
    "df = df.withColumn('SentimentLabels', label_udf(df['SentimentScores']))\n",
    "\n",
    "# Show the Selected Columns\n",
    "df.select(\"TEXT_C6\", \"SentimentLabels\", \"SentimentScores\").show(truncate=False)"
   ]
  },
  {
   "cell_type": "markdown",
   "id": "c6357502",
   "metadata": {},
   "source": [
    "#### TABLE 2: SENTIMENT LABEL COUNT ( POSITIVE - NEGATIVE - NEUTRAL )"
   ]
  },
  {
   "cell_type": "code",
   "execution_count": null,
   "id": "3a9ad318",
   "metadata": {},
   "outputs": [],
   "source": [
    "# Count and Show the 'sentiment_label' column\n",
    "df.groupBy('SentimentLabels').count().show()"
   ]
  },
  {
   "cell_type": "markdown",
   "id": "5dd1cdb2",
   "metadata": {},
   "source": [
    "## ==================\n",
    "## Vader Lexicon Method\n",
    "## ==================\n",
    "#### SENTIMENT SCORES"
   ]
  },
  {
   "cell_type": "code",
   "execution_count": null,
   "id": "d6379003",
   "metadata": {},
   "outputs": [],
   "source": [
    "from nltk import word_tokenize\n",
    "from nltk.sentiment import SentimentIntensityAnalyzer\n",
    "\n",
    "nltk.download('vader_lexicon')\n",
    "nltk.download('punkt')"
   ]
  },
  {
   "cell_type": "code",
   "execution_count": null,
   "id": "e00d1a18",
   "metadata": {},
   "outputs": [],
   "source": [
    "%%time\n",
    "\n",
    "# Define a function\n",
    "def filter_sentiment_words(text):\n",
    "    sia = SentimentIntensityAnalyzer()\n",
    "    words = word_tokenize(text)\n",
    "    filtered_words = [word for word in words if sia.polarity_scores(word)['compound'] != 0]\n",
    "    return filtered_words\n",
    "\n",
    "# Define the UDF to get the sentiment score\n",
    "filter_sentiment_udf = udf(filter_sentiment_words, ArrayType(StringType()))\n",
    "sentiment_score_udf = udf(lambda text: SentimentIntensityAnalyzer().polarity_scores(text)['compound'], FloatType())\n",
    "\n",
    "# Apply the UDFs to the 'TEXT_C6' column\n",
    "df = df.withColumn(\"SentimentWords\", filter_sentiment_udf(col(\"TEXT_C6\")))\n",
    "df = df.withColumn(\"NewSentimentScores\", sentiment_score_udf(col(\"TEXT_C6\")))\n",
    "\n",
    "# Show the Selected Columns\n",
    "df.select(\"TEXT_C6\", \"SentimentWords\", \"NewSentimentScores\").show(truncate=False)"
   ]
  },
  {
   "cell_type": "markdown",
   "id": "95e63310",
   "metadata": {},
   "source": [
    "#### TABLE 3: NEW SENTIMENT LABEL COUNT ( POSITIVE - NEGATIVE - NEUTRAL )"
   ]
  },
  {
   "cell_type": "code",
   "execution_count": null,
   "id": "8cc21e7b",
   "metadata": {},
   "outputs": [],
   "source": [
    "%%time\n",
    "\n",
    "# Sentiment Label Function\n",
    "def new_label_sentiment(score):\n",
    "    if score > 0:\n",
    "        return 'positive'\n",
    "    elif score < 0:\n",
    "        return 'negative'\n",
    "    else:\n",
    "        return 'neutral'\n",
    "\n",
    "# Define the UDF with Function\n",
    "new_label_udf = udf(new_label_sentiment, StringType())\n",
    "\n",
    "# Use the UDF and Create new column\n",
    "df = df.withColumn('NewSentimentLabels', new_label_udf(df['NewSentimentScores']))\n",
    "\n",
    "# Count and Show the 'NewSentimentLabels' column\n",
    "df.select('NewSentimentLabels').show()"
   ]
  },
  {
   "cell_type": "code",
   "execution_count": null,
   "id": "68f1b96c",
   "metadata": {},
   "outputs": [],
   "source": [
    "df.show(3)"
   ]
  },
  {
   "cell_type": "markdown",
   "id": "f50c0963",
   "metadata": {},
   "source": [
    "## Sentiment Score Comparison of TextBlob and Vader Methods "
   ]
  },
  {
   "cell_type": "code",
   "execution_count": null,
   "id": "993e7d1f",
   "metadata": {},
   "outputs": [],
   "source": [
    "df.select(\"TEXT\", \"SentimentScores\", \"NewSentimentScores\").show(50, truncate=False)"
   ]
  },
  {
   "cell_type": "markdown",
   "id": "3de13332",
   "metadata": {},
   "source": [
    "#### FIGURE 2: POSITIVE WORDS"
   ]
  },
  {
   "cell_type": "code",
   "execution_count": null,
   "id": "9f9d2831",
   "metadata": {},
   "outputs": [],
   "source": [
    "from wordcloud import WordCloud\n",
    "\n",
    "plt.figure(figsize = (20,20)) \n",
    "wc = WordCloud(max_words = 2000 , width = 1600 , height = 800).generate(\" \".join(df[df.NewSentimentScores > 0].TEXT_C6))\n",
    "plt.imshow(wc , interpolation = 'bilinear')"
   ]
  },
  {
   "cell_type": "markdown",
   "id": "aa2cd6c8",
   "metadata": {},
   "source": [
    "#### FIGURE 3: NEGATIVE WORDS"
   ]
  },
  {
   "cell_type": "code",
   "execution_count": null,
   "id": "17f633d6",
   "metadata": {},
   "outputs": [],
   "source": [
    "plt.figure(figsize = (20,20)) \n",
    "wc = WordCloud(max_words = 2000 , width = 1600 , height = 800).generate(\" \".join(df[df.NewSentimentScores < 0].TEXT_C6))\n",
    "plt.imshow(wc , interpolation = 'bilinear')"
   ]
  },
  {
   "cell_type": "markdown",
   "id": "617eb45f",
   "metadata": {},
   "source": [
    "#### The Positive, Neutral and Negative Rate"
   ]
  },
  {
   "cell_type": "code",
   "execution_count": null,
   "id": "6b3de32f",
   "metadata": {},
   "outputs": [],
   "source": [
    "%%time\n",
    "# Count the whole text \n",
    "total_count = df.count()\n",
    "# Count the positive sentiment label\n",
    "positive_count = df.filter(df.NewSentimentScores > 0).count()\n",
    "# Calculate the positive rate\n",
    "positive_rate = (positive_count / total_count) * 100\n",
    "# Print the positive rate\n",
    "print(f\"Positive count: {positive_count}\")\n",
    "print(f\"Positive rate : {positive_rate}%\")"
   ]
  },
  {
   "cell_type": "code",
   "execution_count": null,
   "id": "207fb7f3",
   "metadata": {},
   "outputs": [],
   "source": [
    "%%time\n",
    "# Count the whole text \n",
    "total_count = df.count()\n",
    "# Count the neutral sentiment label\n",
    "neutral_count = df.filter(df.NewSentimentScores == 0).count()\n",
    "# Calculate the neutral rate\n",
    "neutral_rate = (neutral_count / total_count) * 100\n",
    "# Print the neutral rate\n",
    "print(f\"Neutral count: {neutral_count}\")\n",
    "print(f\"Neutral rate : {neutral_rate}%\")"
   ]
  },
  {
   "cell_type": "code",
   "execution_count": null,
   "id": "f7ba76e9",
   "metadata": {},
   "outputs": [],
   "source": [
    "%%time\n",
    "# Count the whole text \n",
    "total_count = df.count()\n",
    "# Count the negative sentiment label\n",
    "negative_count = df.filter(df.NewSentimentScores < 0).count()\n",
    "# Calculate the negative rate\n",
    "negative_rate = (negative_count / total_count) * 100\n",
    "# Print the negative rate\n",
    "print(f\"Negative count: {negative_count}\")\n",
    "print(f\"Negative rate : {negative_rate}%\")"
   ]
  },
  {
   "cell_type": "code",
   "execution_count": null,
   "id": "0c2d7f71",
   "metadata": {},
   "outputs": [],
   "source": [
    "df.show(1)"
   ]
  },
  {
   "cell_type": "markdown",
   "id": "84f4c559",
   "metadata": {},
   "source": [
    "#### DROP THE REDUNDANT COLUMNS"
   ]
  },
  {
   "cell_type": "code",
   "execution_count": null,
   "id": "a4266dff",
   "metadata": {},
   "outputs": [],
   "source": [
    "# Drop the selected columns\n",
    "date_df = df.drop(\"TEXT\", \"TEXT_C6\", \"TOKENS\", \"SentimentScores\", \"SentimentLabels\",\"SentimentWords\")\n",
    "date_df.show()"
   ]
  },
  {
   "cell_type": "code",
   "execution_count": null,
   "id": "6db0f7da",
   "metadata": {},
   "outputs": [],
   "source": [
    "date_df.printSchema()"
   ]
  },
  {
   "cell_type": "markdown",
   "id": "d29a33c2",
   "metadata": {},
   "source": [
    "## WRITE \"ProjectTweets_SentimentScores.csv\" TO HDFS"
   ]
  },
  {
   "cell_type": "code",
   "execution_count": null,
   "id": "3a73c6ad",
   "metadata": {},
   "outputs": [],
   "source": [
    "from pyspark.sql import SparkSession\n",
    "\n",
    "# Create Spark Session\n",
    "spark = SparkSession.builder.appName(\"Write\").getOrCreate()\n",
    "\n",
    "# Write .CSV to HDFS\n",
    "date_df.write.csv(\"/ProjectTweets_SentimentScores.csv\", header=False)"
   ]
  },
  {
   "cell_type": "markdown",
   "id": "84e6fff9",
   "metadata": {},
   "source": [
    "# ===============================================\n",
    "# TIMESTAMP PREPARATION FOR TIME SERIES ANALYSIS\n",
    "# ================================================"
   ]
  },
  {
   "cell_type": "code",
   "execution_count": 1,
   "id": "b446773b",
   "metadata": {},
   "outputs": [
    {
     "name": "stderr",
     "output_type": "stream",
     "text": [
      "                                                                                \r"
     ]
    },
    {
     "name": "stdout",
     "output_type": "stream",
     "text": [
      "+--------------------+-------+\n",
      "|                 _c0|    _c1|\n",
      "+--------------------+-------+\n",
      "|Mon Apr 06 22:19:...|-0.3818|\n",
      "|Mon Apr 06 22:19:...|-0.4588|\n",
      "|Mon Apr 06 22:19:...| 0.4939|\n",
      "|Mon Apr 06 22:19:...| 0.0258|\n",
      "|Mon Apr 06 22:19:...|-0.4939|\n",
      "|Mon Apr 06 22:20:...|    0.0|\n",
      "|Mon Apr 06 22:20:...| 0.4767|\n",
      "|Mon Apr 06 22:20:...| 0.8316|\n",
      "|Mon Apr 06 22:20:...|    0.0|\n",
      "|Mon Apr 06 22:20:...|    0.0|\n",
      "|Mon Apr 06 22:20:...|    0.0|\n",
      "|Mon Apr 06 22:20:...|    0.0|\n",
      "|Mon Apr 06 22:20:...|-0.5423|\n",
      "|Mon Apr 06 22:20:...|    0.0|\n",
      "|Mon Apr 06 22:20:...|  -0.34|\n",
      "|Mon Apr 06 22:20:...| 0.2732|\n",
      "|Mon Apr 06 22:20:...|-0.8555|\n",
      "|Mon Apr 06 22:20:...|    0.0|\n",
      "|Mon Apr 06 22:20:...| 0.6705|\n",
      "|Mon Apr 06 22:20:...| 0.1779|\n",
      "+--------------------+-------+\n",
      "only showing top 20 rows\n",
      "\n",
      "CPU times: user 7.14 ms, sys: 1.18 ms, total: 8.32 ms\n",
      "Wall time: 13.6 s\n"
     ]
    }
   ],
   "source": [
    "%%time\n",
    "from pyspark.sql import SparkSession\n",
    "\n",
    "# Create Spark Session\n",
    "spark = SparkSession.builder.appName(\"HDFSToCSV\").getOrCreate()\n",
    "\n",
    "# Read CSV file with Spark DataFrame\n",
    "df1 = spark.read.csv(\"/ProjectTweets_SentimentScores.csv/part-00000-1bab3b24-a8f0-438e-a034-bc9fa42bc4cf-c000.csv\", header=False, inferSchema=True)\n",
    "df1.show()"
   ]
  },
  {
   "cell_type": "code",
   "execution_count": 2,
   "id": "4f0ac159",
   "metadata": {},
   "outputs": [
    {
     "name": "stderr",
     "output_type": "stream",
     "text": [
      "                                                                                \r"
     ]
    },
    {
     "name": "stdout",
     "output_type": "stream",
     "text": [
      "+--------------------+-------+\n",
      "|                 _c0|    _c1|\n",
      "+--------------------+-------+\n",
      "|Wed May 13 21:36:...|  0.802|\n",
      "|Wed May 13 21:36:...|    0.0|\n",
      "|Wed May 13 21:36:...| 0.4939|\n",
      "|Wed May 13 21:36:...|-0.5423|\n",
      "|Wed May 13 21:48:...|    0.0|\n",
      "|Wed May 13 21:48:...|    0.0|\n",
      "|Wed May 13 21:48:...| 0.4215|\n",
      "|Wed May 13 21:48:...|    0.0|\n",
      "|Wed May 13 21:48:...| 0.6369|\n",
      "|Wed May 13 21:48:...|    0.0|\n",
      "|Wed May 13 21:48:...| 0.6486|\n",
      "|Wed May 13 21:48:...| 0.4404|\n",
      "|Wed May 13 21:48:...|    0.0|\n",
      "|Wed May 13 21:48:...| 0.9001|\n",
      "|Wed May 13 21:48:...|-0.5702|\n",
      "|Wed May 13 21:48:...|  0.296|\n",
      "|Wed May 13 21:48:...| 0.6369|\n",
      "|Wed May 13 21:48:...|   0.25|\n",
      "|Wed May 13 21:48:...|    0.0|\n",
      "|Wed May 13 21:48:...|    0.0|\n",
      "+--------------------+-------+\n",
      "only showing top 20 rows\n",
      "\n",
      "CPU times: user 4.74 ms, sys: 780 µs, total: 5.52 ms\n",
      "Wall time: 2.62 s\n"
     ]
    }
   ],
   "source": [
    "%%time\n",
    "from pyspark.sql import SparkSession\n",
    "\n",
    "# Create Spark Session\n",
    "spark = SparkSession.builder.appName(\"HDFSToCSV\").getOrCreate()\n",
    "\n",
    "# Read CSV file with Spark DataFrame\n",
    "df2 = spark.read.csv(\"/ProjectTweets_SentimentScores.csv/part-00001-1bab3b24-a8f0-438e-a034-bc9fa42bc4cf-c000.csv\", header=False, inferSchema=True)\n",
    "df2.show()"
   ]
  },
  {
   "cell_type": "code",
   "execution_count": 3,
   "id": "595c5a26",
   "metadata": {},
   "outputs": [
    {
     "name": "stdout",
     "output_type": "stream",
     "text": [
      "+--------------------+-------+\n",
      "|                 _c0|    _c1|\n",
      "+--------------------+-------+\n",
      "|Mon Apr 06 22:19:...|-0.3818|\n",
      "|Mon Apr 06 22:19:...|-0.4588|\n",
      "|Mon Apr 06 22:19:...| 0.4939|\n",
      "|Mon Apr 06 22:19:...| 0.0258|\n",
      "|Mon Apr 06 22:19:...|-0.4939|\n",
      "|Mon Apr 06 22:20:...|    0.0|\n",
      "|Mon Apr 06 22:20:...| 0.4767|\n",
      "|Mon Apr 06 22:20:...| 0.8316|\n",
      "|Mon Apr 06 22:20:...|    0.0|\n",
      "|Mon Apr 06 22:20:...|    0.0|\n",
      "|Mon Apr 06 22:20:...|    0.0|\n",
      "|Mon Apr 06 22:20:...|    0.0|\n",
      "|Mon Apr 06 22:20:...|-0.5423|\n",
      "|Mon Apr 06 22:20:...|    0.0|\n",
      "|Mon Apr 06 22:20:...|  -0.34|\n",
      "|Mon Apr 06 22:20:...| 0.2732|\n",
      "|Mon Apr 06 22:20:...|-0.8555|\n",
      "|Mon Apr 06 22:20:...|    0.0|\n",
      "|Mon Apr 06 22:20:...| 0.6705|\n",
      "|Mon Apr 06 22:20:...| 0.1779|\n",
      "+--------------------+-------+\n",
      "only showing top 20 rows\n",
      "\n"
     ]
    }
   ],
   "source": [
    "# İki DataFrame'i birleştir\n",
    "combined_df = df1.union(df2)\n",
    "combined_df.show()"
   ]
  },
  {
   "cell_type": "code",
   "execution_count": 4,
   "id": "efc6f3eb",
   "metadata": {},
   "outputs": [
    {
     "name": "stdout",
     "output_type": "stream",
     "text": [
      "root\n",
      " |-- _c0: string (nullable = true)\n",
      " |-- _c1: double (nullable = true)\n",
      "\n"
     ]
    }
   ],
   "source": [
    "# Show the schema of the dataframe\n",
    "combined_df.printSchema()"
   ]
  },
  {
   "cell_type": "code",
   "execution_count": 5,
   "id": "4fac515b",
   "metadata": {},
   "outputs": [
    {
     "name": "stdout",
     "output_type": "stream",
     "text": [
      "+--------------------+--------+\n",
      "|                DATE|SenSCORE|\n",
      "+--------------------+--------+\n",
      "|Mon Apr 06 22:19:...| -0.3818|\n",
      "|Mon Apr 06 22:19:...| -0.4588|\n",
      "|Mon Apr 06 22:19:...|  0.4939|\n",
      "|Mon Apr 06 22:19:...|  0.0258|\n",
      "|Mon Apr 06 22:19:...| -0.4939|\n",
      "|Mon Apr 06 22:20:...|     0.0|\n",
      "|Mon Apr 06 22:20:...|  0.4767|\n",
      "|Mon Apr 06 22:20:...|  0.8316|\n",
      "|Mon Apr 06 22:20:...|     0.0|\n",
      "|Mon Apr 06 22:20:...|     0.0|\n",
      "|Mon Apr 06 22:20:...|     0.0|\n",
      "|Mon Apr 06 22:20:...|     0.0|\n",
      "|Mon Apr 06 22:20:...| -0.5423|\n",
      "|Mon Apr 06 22:20:...|     0.0|\n",
      "|Mon Apr 06 22:20:...|   -0.34|\n",
      "|Mon Apr 06 22:20:...|  0.2732|\n",
      "|Mon Apr 06 22:20:...| -0.8555|\n",
      "|Mon Apr 06 22:20:...|     0.0|\n",
      "|Mon Apr 06 22:20:...|  0.6705|\n",
      "|Mon Apr 06 22:20:...|  0.1779|\n",
      "+--------------------+--------+\n",
      "only showing top 20 rows\n",
      "\n"
     ]
    }
   ],
   "source": [
    "DF = combined_df.withColumnRenamed(\"_c0\", \"DATE\").withColumnRenamed(\"_c1\", \"SenSCORE\")\n",
    "DF.show()"
   ]
  },
  {
   "cell_type": "code",
   "execution_count": 6,
   "id": "7c26b758",
   "metadata": {},
   "outputs": [
    {
     "name": "stdout",
     "output_type": "stream",
     "text": [
      "+----------------------------+-------------------+\n",
      "|DATE                        |TIMESTAMP          |\n",
      "+----------------------------+-------------------+\n",
      "|Mon Apr 06 22:19:45 PDT 2009|2009-04-07 06:19:45|\n",
      "|Mon Apr 06 22:19:49 PDT 2009|2009-04-07 06:19:49|\n",
      "|Mon Apr 06 22:19:53 PDT 2009|2009-04-07 06:19:53|\n",
      "|Mon Apr 06 22:19:57 PDT 2009|2009-04-07 06:19:57|\n",
      "|Mon Apr 06 22:19:57 PDT 2009|2009-04-07 06:19:57|\n",
      "|Mon Apr 06 22:20:00 PDT 2009|2009-04-07 06:20:00|\n",
      "|Mon Apr 06 22:20:03 PDT 2009|2009-04-07 06:20:03|\n",
      "|Mon Apr 06 22:20:03 PDT 2009|2009-04-07 06:20:03|\n",
      "|Mon Apr 06 22:20:05 PDT 2009|2009-04-07 06:20:05|\n",
      "|Mon Apr 06 22:20:09 PDT 2009|2009-04-07 06:20:09|\n",
      "|Mon Apr 06 22:20:16 PDT 2009|2009-04-07 06:20:16|\n",
      "|Mon Apr 06 22:20:17 PDT 2009|2009-04-07 06:20:17|\n",
      "|Mon Apr 06 22:20:19 PDT 2009|2009-04-07 06:20:19|\n",
      "|Mon Apr 06 22:20:19 PDT 2009|2009-04-07 06:20:19|\n",
      "|Mon Apr 06 22:20:20 PDT 2009|2009-04-07 06:20:20|\n",
      "|Mon Apr 06 22:20:20 PDT 2009|2009-04-07 06:20:20|\n",
      "|Mon Apr 06 22:20:22 PDT 2009|2009-04-07 06:20:22|\n",
      "|Mon Apr 06 22:20:25 PDT 2009|2009-04-07 06:20:25|\n",
      "|Mon Apr 06 22:20:31 PDT 2009|2009-04-07 06:20:31|\n",
      "|Mon Apr 06 22:20:34 PDT 2009|2009-04-07 06:20:34|\n",
      "+----------------------------+-------------------+\n",
      "only showing top 20 rows\n",
      "\n"
     ]
    }
   ],
   "source": [
    "# Update Dataframe\n",
    "spark.conf.set(\"spark.sql.legacy.timeParserPolicy\", \"LEGACY\")\n",
    "\n",
    "from pyspark.sql.functions import col, to_timestamp\n",
    "\n",
    "# Convert to 'yyyy-MM-dd HH:mm:ss' format\n",
    "DF = DF.withColumn(\"TIMESTAMP\", to_timestamp(col(\"DATE\"), \"EEE MMM dd HH:mm:ss zzz yyyy\"))\n",
    "\n",
    "# Show the selected columns\n",
    "DF.select(\"DATE\", \"TIMESTAMP\").show(truncate=False)"
   ]
  },
  {
   "cell_type": "code",
   "execution_count": 7,
   "id": "251c1da2",
   "metadata": {},
   "outputs": [
    {
     "name": "stdout",
     "output_type": "stream",
     "text": [
      "+----------------------------+-------------------+-------------+\n",
      "|DATE                        |TIMESTAMP          |YearMonthDate|\n",
      "+----------------------------+-------------------+-------------+\n",
      "|Mon Apr 06 22:19:45 PDT 2009|2009-04-07 06:19:45|2009-04-07   |\n",
      "|Mon Apr 06 22:19:49 PDT 2009|2009-04-07 06:19:49|2009-04-07   |\n",
      "|Mon Apr 06 22:19:53 PDT 2009|2009-04-07 06:19:53|2009-04-07   |\n",
      "|Mon Apr 06 22:19:57 PDT 2009|2009-04-07 06:19:57|2009-04-07   |\n",
      "|Mon Apr 06 22:19:57 PDT 2009|2009-04-07 06:19:57|2009-04-07   |\n",
      "|Mon Apr 06 22:20:00 PDT 2009|2009-04-07 06:20:00|2009-04-07   |\n",
      "|Mon Apr 06 22:20:03 PDT 2009|2009-04-07 06:20:03|2009-04-07   |\n",
      "|Mon Apr 06 22:20:03 PDT 2009|2009-04-07 06:20:03|2009-04-07   |\n",
      "|Mon Apr 06 22:20:05 PDT 2009|2009-04-07 06:20:05|2009-04-07   |\n",
      "|Mon Apr 06 22:20:09 PDT 2009|2009-04-07 06:20:09|2009-04-07   |\n",
      "|Mon Apr 06 22:20:16 PDT 2009|2009-04-07 06:20:16|2009-04-07   |\n",
      "|Mon Apr 06 22:20:17 PDT 2009|2009-04-07 06:20:17|2009-04-07   |\n",
      "|Mon Apr 06 22:20:19 PDT 2009|2009-04-07 06:20:19|2009-04-07   |\n",
      "|Mon Apr 06 22:20:19 PDT 2009|2009-04-07 06:20:19|2009-04-07   |\n",
      "|Mon Apr 06 22:20:20 PDT 2009|2009-04-07 06:20:20|2009-04-07   |\n",
      "|Mon Apr 06 22:20:20 PDT 2009|2009-04-07 06:20:20|2009-04-07   |\n",
      "|Mon Apr 06 22:20:22 PDT 2009|2009-04-07 06:20:22|2009-04-07   |\n",
      "|Mon Apr 06 22:20:25 PDT 2009|2009-04-07 06:20:25|2009-04-07   |\n",
      "|Mon Apr 06 22:20:31 PDT 2009|2009-04-07 06:20:31|2009-04-07   |\n",
      "|Mon Apr 06 22:20:34 PDT 2009|2009-04-07 06:20:34|2009-04-07   |\n",
      "+----------------------------+-------------------+-------------+\n",
      "only showing top 20 rows\n",
      "\n"
     ]
    }
   ],
   "source": [
    "# Convert to 'yyyy-MM-dd' format\n",
    "DF = DF.withColumn(\"YearMonthDate\", col(\"TIMESTAMP\").substr(1, 10))\n",
    "\n",
    "# Show the selected columns\n",
    "DF.select(\"DATE\", \"TIMESTAMP\", \"YearMonthDate\").show(truncate=False)"
   ]
  },
  {
   "cell_type": "code",
   "execution_count": 8,
   "id": "8185e2b3",
   "metadata": {
    "collapsed": true
   },
   "outputs": [
    {
     "name": "stderr",
     "output_type": "stream",
     "text": [
      "[Stage 10:=============================>                            (1 + 1) / 2]\r"
     ]
    },
    {
     "name": "stdout",
     "output_type": "stream",
     "text": [
      "+----------------------------+--------+-------------------+-------------+\n",
      "|DATE                        |SenSCORE|TIMESTAMP          |YearMonthDate|\n",
      "+----------------------------+--------+-------------------+-------------+\n",
      "|Mon Apr 06 22:19:45 PDT 2009|-0.3818 |2009-04-07 06:19:45|2009-04-07   |\n",
      "|Mon Apr 06 22:19:49 PDT 2009|-0.4588 |2009-04-07 06:19:49|2009-04-07   |\n",
      "|Mon Apr 06 22:19:53 PDT 2009|0.4939  |2009-04-07 06:19:53|2009-04-07   |\n",
      "|Mon Apr 06 22:19:57 PDT 2009|0.0258  |2009-04-07 06:19:57|2009-04-07   |\n",
      "|Mon Apr 06 22:19:57 PDT 2009|-0.4939 |2009-04-07 06:19:57|2009-04-07   |\n",
      "|Mon Apr 06 22:20:00 PDT 2009|0.0     |2009-04-07 06:20:00|2009-04-07   |\n",
      "|Mon Apr 06 22:20:03 PDT 2009|0.4767  |2009-04-07 06:20:03|2009-04-07   |\n",
      "|Mon Apr 06 22:20:03 PDT 2009|0.8316  |2009-04-07 06:20:03|2009-04-07   |\n",
      "|Mon Apr 06 22:20:05 PDT 2009|0.0     |2009-04-07 06:20:05|2009-04-07   |\n",
      "|Mon Apr 06 22:20:09 PDT 2009|0.0     |2009-04-07 06:20:09|2009-04-07   |\n",
      "|Mon Apr 06 22:20:16 PDT 2009|0.0     |2009-04-07 06:20:16|2009-04-07   |\n",
      "|Mon Apr 06 22:20:17 PDT 2009|0.0     |2009-04-07 06:20:17|2009-04-07   |\n",
      "|Mon Apr 06 22:20:19 PDT 2009|-0.5423 |2009-04-07 06:20:19|2009-04-07   |\n",
      "|Mon Apr 06 22:20:19 PDT 2009|0.0     |2009-04-07 06:20:19|2009-04-07   |\n",
      "|Mon Apr 06 22:20:20 PDT 2009|-0.34   |2009-04-07 06:20:20|2009-04-07   |\n",
      "|Mon Apr 06 22:20:20 PDT 2009|0.2732  |2009-04-07 06:20:20|2009-04-07   |\n",
      "|Mon Apr 06 22:20:22 PDT 2009|-0.8555 |2009-04-07 06:20:22|2009-04-07   |\n",
      "|Mon Apr 06 22:20:25 PDT 2009|0.0     |2009-04-07 06:20:25|2009-04-07   |\n",
      "|Mon Apr 06 22:20:31 PDT 2009|0.6705  |2009-04-07 06:20:31|2009-04-07   |\n",
      "|Mon Apr 06 22:20:34 PDT 2009|0.1779  |2009-04-07 06:20:34|2009-04-07   |\n",
      "+----------------------------+--------+-------------------+-------------+\n",
      "only showing top 20 rows\n",
      "\n"
     ]
    },
    {
     "name": "stderr",
     "output_type": "stream",
     "text": [
      "\r",
      "                                                                                \r"
     ]
    }
   ],
   "source": [
    "# Sort ascending via TIMESTAMP column\n",
    "DF = DF.orderBy(\"TIMESTAMP\", ascending=True)\n",
    "\n",
    "# Show sorted DataFrame\n",
    "DF.show(truncate=False)"
   ]
  },
  {
   "cell_type": "code",
   "execution_count": 9,
   "id": "c75c8ea1",
   "metadata": {},
   "outputs": [
    {
     "name": "stderr",
     "output_type": "stream",
     "text": [
      "[Stage 13:=============================>                            (1 + 1) / 2]\r"
     ]
    },
    {
     "name": "stdout",
     "output_type": "stream",
     "text": [
      "THE OLDEST DATE: 2009-04-07\n",
      "THE NEWEST DATE: 2009-06-25\n"
     ]
    },
    {
     "name": "stderr",
     "output_type": "stream",
     "text": [
      "\r",
      "                                                                                \r"
     ]
    }
   ],
   "source": [
    "from pyspark.sql.functions import col\n",
    "from pyspark.sql.types import DateType\n",
    "from datetime import datetime, timedelta\n",
    "\n",
    "# Convert YearMonthDate column to DateType\n",
    "DF = DF.withColumn(\"YearMonthDateTYPE\", col(\"YearMonthDate\").cast(DateType()))\n",
    "\n",
    "# Find \"THE OLDEST DATE\" and \"THE NEWEST DATE\"\n",
    "min_date = DF.agg({\"YearMonthDateTYPE\": \"min\"}).collect()[0][0]\n",
    "max_date = DF.agg({\"YearMonthDateTYPE\": \"max\"}).collect()[0][0]\n",
    "\n",
    "# Print \"THE OLDEST DATE\" and \"THE NEWEST DATE\"\n",
    "print(\"THE OLDEST DATE:\", min_date)\n",
    "print(\"THE NEWEST DATE:\", max_date)"
   ]
  },
  {
   "cell_type": "code",
   "execution_count": 10,
   "id": "a74e8f7a",
   "metadata": {
    "collapsed": true
   },
   "outputs": [
    {
     "name": "stdout",
     "output_type": "stream",
     "text": [
      "root\n",
      " |-- DATE: string (nullable = true)\n",
      " |-- SenSCORE: double (nullable = true)\n",
      " |-- TIMESTAMP: timestamp (nullable = true)\n",
      " |-- YearMonthDate: string (nullable = true)\n",
      " |-- YearMonthDateTYPE: date (nullable = true)\n",
      "\n"
     ]
    }
   ],
   "source": [
    "# Show the type of columns\n",
    "DF.printSchema()"
   ]
  },
  {
   "cell_type": "code",
   "execution_count": 11,
   "id": "1dbe580d",
   "metadata": {
    "collapsed": true
   },
   "outputs": [
    {
     "name": "stderr",
     "output_type": "stream",
     "text": [
      "[Stage 15:=============================>                            (1 + 1) / 2]\r"
     ]
    },
    {
     "name": "stdout",
     "output_type": "stream",
     "text": [
      "+--------+-----------------+\n",
      "|SenSCORE|YearMonthDateTYPE|\n",
      "+--------+-----------------+\n",
      "| -0.3818|       2009-04-07|\n",
      "| -0.4588|       2009-04-07|\n",
      "|  0.4939|       2009-04-07|\n",
      "|  0.0258|       2009-04-07|\n",
      "| -0.4939|       2009-04-07|\n",
      "|     0.0|       2009-04-07|\n",
      "|  0.4767|       2009-04-07|\n",
      "|  0.8316|       2009-04-07|\n",
      "|     0.0|       2009-04-07|\n",
      "|     0.0|       2009-04-07|\n",
      "|     0.0|       2009-04-07|\n",
      "|     0.0|       2009-04-07|\n",
      "| -0.5423|       2009-04-07|\n",
      "|     0.0|       2009-04-07|\n",
      "|   -0.34|       2009-04-07|\n",
      "|  0.2732|       2009-04-07|\n",
      "| -0.8555|       2009-04-07|\n",
      "|     0.0|       2009-04-07|\n",
      "|  0.6705|       2009-04-07|\n",
      "|  0.1779|       2009-04-07|\n",
      "+--------+-----------------+\n",
      "only showing top 20 rows\n",
      "\n"
     ]
    },
    {
     "name": "stderr",
     "output_type": "stream",
     "text": [
      "\r",
      "                                                                                \r"
     ]
    }
   ],
   "source": [
    "# Drop the selected columns\n",
    "DF = DF.drop(\"DATE\", \"TIMESTAMP\", \"YearMonthDate\")"
   ]
  },
  {
   "cell_type": "code",
   "execution_count": 12,
   "id": "5526c8ab",
   "metadata": {},
   "outputs": [
    {
     "name": "stdout",
     "output_type": "stream",
     "text": [
      "root\n",
      " |-- SenSCORE: double (nullable = true)\n",
      " |-- YearMonthDateTYPE: date (nullable = true)\n",
      "\n"
     ]
    }
   ],
   "source": [
    "DF.printSchema()"
   ]
  },
  {
   "cell_type": "code",
   "execution_count": 13,
   "id": "209566db",
   "metadata": {},
   "outputs": [],
   "source": [
    "from pyspark.sql import functions as F\n",
    "\n",
    "# Grouping the DataFrame (DF) by the \"YearMonthDateTYPE\" column and calculating the average sentiment score (SenSCORE)\n",
    "# Then, aliasing the result as \"SenSCOREAvg\" and ordering the DataFrame by \"YearMonthDateTYPE\"\n",
    "DF = DF.groupBy(\"YearMonthDateTYPE\").agg(F.avg(\"SenSCORE\").alias(\"SenSCOREAvg\")).orderBy(\"YearMonthDateTYPE\")"
   ]
  },
  {
   "cell_type": "code",
   "execution_count": 15,
   "id": "3740a428",
   "metadata": {
    "collapsed": true
   },
   "outputs": [
    {
     "name": "stderr",
     "output_type": "stream",
     "text": [
      "[Stage 20:=================================================>    (183 + 1) / 200]\r"
     ]
    },
    {
     "name": "stdout",
     "output_type": "stream",
     "text": [
      "+-----------------+-------------------+\n",
      "|YearMonthDateTYPE|        SenSCOREAvg|\n",
      "+-----------------+-------------------+\n",
      "|       2009-04-07|0.15181246190314912|\n",
      "|       2009-04-08|                0.0|\n",
      "|       2009-04-09|                0.0|\n",
      "|       2009-04-10|                0.0|\n",
      "|       2009-04-11|                0.0|\n",
      "|       2009-04-12|                0.0|\n",
      "|       2009-04-13|                0.0|\n",
      "|       2009-04-14|                0.0|\n",
      "|       2009-04-15|                0.0|\n",
      "|       2009-04-16|                0.0|\n",
      "|       2009-04-17|                0.0|\n",
      "|       2009-04-18|0.16765145053310168|\n",
      "|       2009-04-19|0.16984666468666426|\n",
      "|       2009-04-20|0.16386924161110167|\n",
      "|       2009-04-21|0.16162267447095893|\n",
      "|       2009-04-22|                0.0|\n",
      "|       2009-04-23|                0.0|\n",
      "|       2009-04-24|                0.0|\n",
      "|       2009-04-25|                0.0|\n",
      "|       2009-04-26|                0.0|\n",
      "+-----------------+-------------------+\n",
      "only showing top 20 rows\n",
      "\n"
     ]
    },
    {
     "name": "stderr",
     "output_type": "stream",
     "text": [
      "\r",
      "[Stage 20:====================================================> (193 + 1) / 200]\r",
      "\r",
      "                                                                                \r"
     ]
    }
   ],
   "source": [
    "%%time\n",
    "\n",
    "# Creating a date range (YearMonthDateTYPErange) between min_date and max_date using list comprehension\n",
    "YearMonthDateTYPErange = [min_date + timedelta(days=x) for x in range((max_date - min_date).days + 1)]\n",
    "\n",
    "# Creating a DataFrame (YearMonthDateTYPErange_df) from the date range with a single column \"YearMonthDateTYPE\"\n",
    "YearMonthDateTYPErange_df = spark.createDataFrame([(YearMonthDateTYPE,) for YearMonthDateTYPE in YearMonthDateTYPErange], [\"YearMonthDateTYPE\"])\n",
    "\n",
    "# Joining the date range DataFrame with the existing DataFrame (DF) on the \"YearMonthDateTYPE\" column using a left join\n",
    "# Ordering the resulting DataFrame by \"YearMonthDateTYPE\" and filling null values with 0 in the \"SenSCOREAvg\" column\n",
    "DF = YearMonthDateTYPErange_df.join(DF, on=[\"YearMonthDateTYPE\"], how=\"left\").orderBy(\"YearMonthDateTYPE\").fillna(0, subset=[\"SenSCOREAvg\"])\n",
    "\n",
    "# Show the resulting DataFrame\n",
    "DF.show()"
   ]
  },
  {
   "cell_type": "code",
   "execution_count": null,
   "id": "d76b90e2",
   "metadata": {},
   "outputs": [],
   "source": [
    "from pyspark.sql import functions as F\n",
    "from pyspark.sql.window import Window\n",
    "\n",
    "class Interpolator:\n",
    "    def __init__(self, df, col_name=\"SenSCOREAvg\"):\n",
    "        self.df = df\n",
    "        self.col_name = col_name\n",
    "        self.window_spec = Window().orderBy(\"YearMonthDateTYPE\")\n",
    "\n",
    "    def linear_interpolation(self):\n",
    "        self.df = self.df.withColumn(\"LINEAR\", F.lag(self.df[self.col_name]).over(self.window_spec))\n",
    "        return self.df\n",
    "\n",
    "    def knn_mean_interpolation(self):\n",
    "        knn_interpolation = (self.df[self.col_name] + (F.lag(self.df[self.col_name]).over(self.window_spec) + F.lead(self.df[self.col_name]).over(self.window_spec)) / 2)\n",
    "        self.df = self.df.withColumn(\"KNN\", F.coalesce(knn_interpolation, self.df[self.col_name]))\n",
    "        return self.df\n",
    "\n",
    "    def seasonal_mean_interpolation(self, lag=7):\n",
    "        seasonal_interpolation = (self.df[self.col_name] + (F.lag(self.df[self.col_name], lag).over(self.window_spec) + F.lead(self.df[self.col_name], -lag).over(self.window_spec)) / 2)\n",
    "        self.df = self.df.withColumn(\"SEASONAL\", F.coalesce(seasonal_interpolation, self.df[self.col_name]))\n",
    "        return self.df\n",
    "\n",
    "# Usage example:\n",
    "# Create an instance of the Interpolator class\n",
    "interpolator = Interpolator(DF)\n",
    "\n",
    "# Apply linear interpolation\n",
    "interpolator.linear_interpolation()\n",
    "\n",
    "# Apply KNN mean interpolation\n",
    "interpolator.knn_mean_interpolation()\n",
    "\n",
    "# Apply seasonal mean interpolation\n",
    "interpolator.seasonal_mean_interpolation()\n",
    "\n",
    "# Access the DataFrame with the interpolated columns\n",
    "InterList = interpolator.df\n",
    "\n",
    "# Show the resulting DataFrame\n",
    "InterList.show()\n"
   ]
  },
  {
   "cell_type": "code",
   "execution_count": 16,
   "id": "6485be4f",
   "metadata": {},
   "outputs": [
    {
     "name": "stderr",
     "output_type": "stream",
     "text": [
      "2023-11-17 07:31:09,177 WARN window.WindowExec: No Partition Defined for Window operation! Moving all data to a single partition, this can cause serious performance degradation.\n",
      "2023-11-17 07:31:09,179 WARN window.WindowExec: No Partition Defined for Window operation! Moving all data to a single partition, this can cause serious performance degradation.\n",
      "                                                                                \r"
     ]
    }
   ],
   "source": [
    "%%time\n",
    "\n",
    "import matplotlib.pyplot as plt\n",
    "from pyspark.sql import functions as F\n",
    "from pyspark.sql.window import Window\n",
    "\n",
    "# CREATE WINDOW SPECIFICATION\n",
    "WindowSpecification = Window.orderBy(\"YearMonthDateTYPE\")\n",
    "\n",
    "# 1. APPLY LINEAR INTERPOLATION\n",
    "DF = DF.withColumn(\"LINEAR\", F.lag(DF[\"SenSCOREAvg\"]).over(WindowSpecification))\n",
    "\n",
    "# 2. APPLY KNN MEAN INTERPOLATION\n",
    "DF = DF.withColumn(\"KNN\", F.coalesce((DF[\"SenSCOREAvg\"] + (F.lag(DF[\"SenSCOREAvg\"]).over(WindowSpecification) + F.lead(DF[\"SenSCOREAvg\"]).over(WindowSpecification)) / 2), DF[\"SenSCOREAvg\"]))\n",
    "\n",
    "# 3. APPLY SEASONAL MEAN INTERPOLATION\n",
    "DF = DF.withColumn(\"SEASONAL\", F.coalesce((DF[\"SenSCOREAvg\"] + (F.lag(DF[\"SenSCOREAvg\"], 7).over(WindowSpecification) + F.lead(DF[\"SenSCOREAvg\"], -7).over(WindowSpecification)) / 2), DF[\"SenSCOREAvg\"]))\n",
    "\n",
    "# CREATE NEW LIST WITH SELECTED COLUMNS\n",
    "InterList = DF.select(\"YearMonthDateTYPE\", \"SenSCOREAvg\", \"LINEAR\", \"KNN\", \"SEASONAL\").collect()"
   ]
  },
  {
   "cell_type": "markdown",
   "id": "845bffb3",
   "metadata": {},
   "source": [
    "## 1. Linear Interpolation Plot:"
   ]
  },
  {
   "cell_type": "code",
   "execution_count": 79,
   "id": "2010b2ab",
   "metadata": {
    "collapsed": true
   },
   "outputs": [
    {
     "data": {
      "image/png": "[encoded data removed]",
      "text/plain": [
       "<Figure size 864x432 with 1 Axes>"
      ]
     },
     "metadata": {
      "needs_background": "light"
     },
     "output_type": "display_data"
    }
   ],
   "source": [
    "# PLOT CONFIGURATION\n",
    "plt.figure(figsize=(12, 6))\n",
    "plt.plot(Dates, Scores, label='ORIGINAL', color='black')\n",
    "\n",
    "# PLOT THE LINEAR INTERPOLATION METHOD\n",
    "plt.plot(Dates, [row[\"LINEAR\"] for row in InterList], label='Linear', color='r')\n",
    "\n",
    "# ADD TITLE AND LABEL\n",
    "plt.xlabel('DATE')\n",
    "plt.ylabel('SENTIMENT SCORE')\n",
    "plt.title('ORIGINAL vs. Linear Interpolation METHOD')\n",
    "\n",
    "# ADD GRID\n",
    "plt.grid(True, linestyle='--', alpha=0.7)\n",
    "\n",
    "# ADD LEGEND\n",
    "plt.legend()\n",
    "\n",
    "# SHOW THE PLOT\n",
    "plt.show()"
   ]
  },
  {
   "cell_type": "markdown",
   "id": "16c0432d",
   "metadata": {},
   "source": [
    "## 2. KNN Mean Interpolation Plot:"
   ]
  },
  {
   "cell_type": "code",
   "execution_count": 80,
   "id": "d56ba132",
   "metadata": {
    "collapsed": true
   },
   "outputs": [
    {
     "data": {
      "image/png": "[encoded data removed]",
      "text/plain": [
       "<Figure size 864x432 with 1 Axes>"
      ]
     },
     "metadata": {
      "needs_background": "light"
     },
     "output_type": "display_data"
    }
   ],
   "source": [
    "# PLOT CONFIGURATION\n",
    "plt.figure(figsize=(12, 6))\n",
    "plt.plot(Dates, Scores, label='ORIGINAL', color='black')\n",
    "\n",
    "# PLOT THE KNN MEAN INTERPOLATION METHOD\n",
    "plt.plot(Dates, [row[\"KNN\"] for row in InterList], label='KNN', color='g')\n",
    "\n",
    "# ADD TITLE AND LABEL\n",
    "plt.xlabel('DATE')\n",
    "plt.ylabel('SENTIMENT SCORE')\n",
    "plt.title('ORIGINAL vs. KNN Mean Interpolation METHOD')\n",
    "\n",
    "# ADD GRID\n",
    "plt.grid(True, linestyle='--', alpha=0.7)\n",
    "\n",
    "# ADD LEGEND\n",
    "plt.legend()\n",
    "\n",
    "# SHOW THE PLOT\n",
    "plt.show()"
   ]
  },
  {
   "cell_type": "markdown",
   "id": "65d6dedc",
   "metadata": {},
   "source": [
    "## 3. Seasonal Mean Interpolation Plot:"
   ]
  },
  {
   "cell_type": "code",
   "execution_count": 81,
   "id": "7bc892a9",
   "metadata": {
    "collapsed": true
   },
   "outputs": [
    {
     "data": {
      "image/png": "[encoded data removed]",
      "text/plain": [
       "<Figure size 864x432 with 1 Axes>"
      ]
     },
     "metadata": {
      "needs_background": "light"
     },
     "output_type": "display_data"
    }
   ],
   "source": [
    "# PLOT CONFIGURATION\n",
    "plt.figure(figsize=(12, 6))\n",
    "plt.plot(Dates, Scores, label='ORIGINAL', color='black')\n",
    "\n",
    "# PLOT THE SEASONAL MEAN INTERPOLATION METHOD\n",
    "plt.plot(Dates, [row[\"SEASONAL\"] for row in InterList], label='Seasonal', color='b')\n",
    "\n",
    "# ADD TITLE AND LABEL\n",
    "plt.xlabel('DATE')\n",
    "plt.ylabel('SENTIMENT SCORE')\n",
    "plt.title('ORIGINAL vs. Seasonal Mean Interpolation METHOD')\n",
    "\n",
    "# ADD GRID\n",
    "plt.grid(True, linestyle='--', alpha=0.7)\n",
    "\n",
    "# ADD LEGEND\n",
    "plt.legend()\n",
    "\n",
    "# SHOW THE PLOT\n",
    "plt.show()"
   ]
  },
  {
   "cell_type": "markdown",
   "id": "1ceb1449",
   "metadata": {},
   "source": [
    "## PLOT INTERACTIVE ENTIRE METHODS"
   ]
  },
  {
   "cell_type": "code",
   "execution_count": 84,
   "id": "0ed0a3d0",
   "metadata": {
    "collapsed": true
   },
   "outputs": [
    {
     "data": {
      "application/vnd.plotly.v1+json": {
       "config": {
        "plotlyServerURL": "https://plot.ly"
       },
       "data": [
        {
         "line": {
          "color": "black"
         },
         "mode": "lines",
         "name": "ORIGINAL",
         "type": "scatter",
         "x": [
          "2009-04-07",
          "2009-04-08",
          "2009-04-09",
          "2009-04-10",
          "2009-04-11",
          "2009-04-12",
          "2009-04-13",
          "2009-04-14",
          "2009-04-15",
          "2009-04-16",
          "2009-04-17",
          "2009-04-18",
          "2009-04-19",
          "2009-04-20",
          "2009-04-21",
          "2009-04-22",
          "2009-04-23",
          "2009-04-24",
          "2009-04-25",
          "2009-04-26",
          "2009-04-27",
          "2009-04-28",
          "2009-04-29",
          "2009-04-30",
          "2009-05-01",
          "2009-05-02",
          "2009-05-03",
          "2009-05-04",
          "2009-05-05",
          "2009-05-06",
          "2009-05-07",
          "2009-05-08",
          "2009-05-09",
          "2009-05-10",
          "2009-05-11",
          "2009-05-12",
          "2009-05-13",
          "2009-05-14",
          "2009-05-15",
          "2009-05-16",
          "2009-05-17",
          "2009-05-18",
          "2009-05-19",
          "2009-05-20",
          "2009-05-21",
          "2009-05-22",
          "2009-05-23",
          "2009-05-24",
          "2009-05-25",
          "2009-05-26",
          "2009-05-27",
          "2009-05-28",
          "2009-05-29",
          "2009-05-30",
          "2009-05-31",
          "2009-06-01",
          "2009-06-02",
          "2009-06-03",
          "2009-06-04",
          "2009-06-05",
          "2009-06-06",
          "2009-06-07",
          "2009-06-08",
          "2009-06-09",
          "2009-06-10",
          "2009-06-11",
          "2009-06-12",
          "2009-06-13",
          "2009-06-14",
          "2009-06-15",
          "2009-06-16",
          "2009-06-17",
          "2009-06-18",
          "2009-06-19",
          "2009-06-20",
          "2009-06-21",
          "2009-06-22",
          "2009-06-23",
          "2009-06-24",
          "2009-06-25"
         ],
         "xaxis": "x",
         "y": [
          0.15181246190314915,
          0,
          0,
          0,
          0,
          0,
          0,
          0,
          0,
          0,
          0,
          0.16765145053310157,
          0.16984666468666407,
          0.16386924161110192,
          0.16162267447095852,
          0,
          0,
          0,
          0,
          0,
          0,
          0,
          0,
          0,
          0,
          0.16764762027270327,
          0.1638343222200035,
          0.15942415249974787,
          0,
          0,
          0,
          0,
          0,
          0.16397937624797906,
          0.1664487051632612,
          0.15780451505016738,
          0,
          0.1568767118833035,
          0,
          0,
          0.17644482951098084,
          0.18015219010860722,
          0,
          0,
          0,
          0.18194754647381423,
          0,
          0.18433076923076927,
          0.18650828402366865,
          0,
          0.16209351923573426,
          0,
          0.17324229337437783,
          0.17698970285604346,
          0.17477210735210671,
          0.16599041988290578,
          0.16385637181041923,
          0.15944018607687863,
          0.14367703751617114,
          0.16406887853839344,
          0.1717230622855653,
          0.17049024068578897,
          0.1605930767243602,
          0,
          0,
          0,
          0,
          0,
          0.19052839999999993,
          0.15939992601568936,
          0.13969493197655072,
          0.0037410699270503727,
          0.006889859259088093,
          0.009044823491058106,
          0.005696671994394892,
          0.013658936814110616,
          0.0072389554531489455,
          -0.006803590325018811,
          -0.003475320432269387,
          0.00036729504097256953
         ],
         "yaxis": "y"
        },
        {
         "line": {
          "color": "red"
         },
         "mode": "lines",
         "name": "Linear",
         "type": "scatter",
         "x": [
          "2009-04-07",
          "2009-04-08",
          "2009-04-09",
          "2009-04-10",
          "2009-04-11",
          "2009-04-12",
          "2009-04-13",
          "2009-04-14",
          "2009-04-15",
          "2009-04-16",
          "2009-04-17",
          "2009-04-18",
          "2009-04-19",
          "2009-04-20",
          "2009-04-21",
          "2009-04-22",
          "2009-04-23",
          "2009-04-24",
          "2009-04-25",
          "2009-04-26",
          "2009-04-27",
          "2009-04-28",
          "2009-04-29",
          "2009-04-30",
          "2009-05-01",
          "2009-05-02",
          "2009-05-03",
          "2009-05-04",
          "2009-05-05",
          "2009-05-06",
          "2009-05-07",
          "2009-05-08",
          "2009-05-09",
          "2009-05-10",
          "2009-05-11",
          "2009-05-12",
          "2009-05-13",
          "2009-05-14",
          "2009-05-15",
          "2009-05-16",
          "2009-05-17",
          "2009-05-18",
          "2009-05-19",
          "2009-05-20",
          "2009-05-21",
          "2009-05-22",
          "2009-05-23",
          "2009-05-24",
          "2009-05-25",
          "2009-05-26",
          "2009-05-27",
          "2009-05-28",
          "2009-05-29",
          "2009-05-30",
          "2009-05-31",
          "2009-06-01",
          "2009-06-02",
          "2009-06-03",
          "2009-06-04",
          "2009-06-05",
          "2009-06-06",
          "2009-06-07",
          "2009-06-08",
          "2009-06-09",
          "2009-06-10",
          "2009-06-11",
          "2009-06-12",
          "2009-06-13",
          "2009-06-14",
          "2009-06-15",
          "2009-06-16",
          "2009-06-17",
          "2009-06-18",
          "2009-06-19",
          "2009-06-20",
          "2009-06-21",
          "2009-06-22",
          "2009-06-23",
          "2009-06-24",
          "2009-06-25"
         ],
         "xaxis": "x",
         "y": [
          null,
          0.15181246190314915,
          0,
          0,
          0,
          0,
          0,
          0,
          0,
          0,
          0,
          0,
          0.16765145053310157,
          0.16984666468666407,
          0.16386924161110192,
          0.16162267447095852,
          0,
          0,
          0,
          0,
          0,
          0,
          0,
          0,
          0,
          0,
          0.16764762027270327,
          0.1638343222200035,
          0.15942415249974787,
          0,
          0,
          0,
          0,
          0,
          0.16397937624797906,
          0.1664487051632612,
          0.15780451505016738,
          0,
          0.1568767118833035,
          0,
          0,
          0.17644482951098084,
          0.18015219010860722,
          0,
          0,
          0,
          0.18194754647381423,
          0,
          0.18433076923076927,
          0.18650828402366865,
          0,
          0.16209351923573426,
          0,
          0.17324229337437783,
          0.17698970285604346,
          0.17477210735210671,
          0.16599041988290578,
          0.16385637181041923,
          0.15944018607687863,
          0.14367703751617114,
          0.16406887853839344,
          0.1717230622855653,
          0.17049024068578897,
          0.1605930767243602,
          0,
          0,
          0,
          0,
          0,
          0.19052839999999993,
          0.15939992601568936,
          0.13969493197655072,
          0.0037410699270503727,
          0.006889859259088093,
          0.009044823491058106,
          0.005696671994394892,
          0.013658936814110616,
          0.0072389554531489455,
          -0.006803590325018811,
          -0.003475320432269387
         ],
         "yaxis": "y"
        },
        {
         "line": {
          "color": "black"
         },
         "mode": "lines",
         "name": "ORIGINAL",
         "type": "scatter",
         "x": [
          "2009-04-07",
          "2009-04-08",
          "2009-04-09",
          "2009-04-10",
          "2009-04-11",
          "2009-04-12",
          "2009-04-13",
          "2009-04-14",
          "2009-04-15",
          "2009-04-16",
          "2009-04-17",
          "2009-04-18",
          "2009-04-19",
          "2009-04-20",
          "2009-04-21",
          "2009-04-22",
          "2009-04-23",
          "2009-04-24",
          "2009-04-25",
          "2009-04-26",
          "2009-04-27",
          "2009-04-28",
          "2009-04-29",
          "2009-04-30",
          "2009-05-01",
          "2009-05-02",
          "2009-05-03",
          "2009-05-04",
          "2009-05-05",
          "2009-05-06",
          "2009-05-07",
          "2009-05-08",
          "2009-05-09",
          "2009-05-10",
          "2009-05-11",
          "2009-05-12",
          "2009-05-13",
          "2009-05-14",
          "2009-05-15",
          "2009-05-16",
          "2009-05-17",
          "2009-05-18",
          "2009-05-19",
          "2009-05-20",
          "2009-05-21",
          "2009-05-22",
          "2009-05-23",
          "2009-05-24",
          "2009-05-25",
          "2009-05-26",
          "2009-05-27",
          "2009-05-28",
          "2009-05-29",
          "2009-05-30",
          "2009-05-31",
          "2009-06-01",
          "2009-06-02",
          "2009-06-03",
          "2009-06-04",
          "2009-06-05",
          "2009-06-06",
          "2009-06-07",
          "2009-06-08",
          "2009-06-09",
          "2009-06-10",
          "2009-06-11",
          "2009-06-12",
          "2009-06-13",
          "2009-06-14",
          "2009-06-15",
          "2009-06-16",
          "2009-06-17",
          "2009-06-18",
          "2009-06-19",
          "2009-06-20",
          "2009-06-21",
          "2009-06-22",
          "2009-06-23",
          "2009-06-24",
          "2009-06-25"
         ],
         "xaxis": "x2",
         "y": [
          0.15181246190314915,
          0,
          0,
          0,
          0,
          0,
          0,
          0,
          0,
          0,
          0,
          0.16765145053310157,
          0.16984666468666407,
          0.16386924161110192,
          0.16162267447095852,
          0,
          0,
          0,
          0,
          0,
          0,
          0,
          0,
          0,
          0,
          0.16764762027270327,
          0.1638343222200035,
          0.15942415249974787,
          0,
          0,
          0,
          0,
          0,
          0.16397937624797906,
          0.1664487051632612,
          0.15780451505016738,
          0,
          0.1568767118833035,
          0,
          0,
          0.17644482951098084,
          0.18015219010860722,
          0,
          0,
          0,
          0.18194754647381423,
          0,
          0.18433076923076927,
          0.18650828402366865,
          0,
          0.16209351923573426,
          0,
          0.17324229337437783,
          0.17698970285604346,
          0.17477210735210671,
          0.16599041988290578,
          0.16385637181041923,
          0.15944018607687863,
          0.14367703751617114,
          0.16406887853839344,
          0.1717230622855653,
          0.17049024068578897,
          0.1605930767243602,
          0,
          0,
          0,
          0,
          0,
          0.19052839999999993,
          0.15939992601568936,
          0.13969493197655072,
          0.0037410699270503727,
          0.006889859259088093,
          0.009044823491058106,
          0.005696671994394892,
          0.013658936814110616,
          0.0072389554531489455,
          -0.006803590325018811,
          -0.003475320432269387,
          0.00036729504097256953
         ],
         "yaxis": "y2"
        },
        {
         "line": {
          "color": "green"
         },
         "mode": "lines",
         "name": "Knn",
         "type": "scatter",
         "x": [
          "2009-04-07",
          "2009-04-08",
          "2009-04-09",
          "2009-04-10",
          "2009-04-11",
          "2009-04-12",
          "2009-04-13",
          "2009-04-14",
          "2009-04-15",
          "2009-04-16",
          "2009-04-17",
          "2009-04-18",
          "2009-04-19",
          "2009-04-20",
          "2009-04-21",
          "2009-04-22",
          "2009-04-23",
          "2009-04-24",
          "2009-04-25",
          "2009-04-26",
          "2009-04-27",
          "2009-04-28",
          "2009-04-29",
          "2009-04-30",
          "2009-05-01",
          "2009-05-02",
          "2009-05-03",
          "2009-05-04",
          "2009-05-05",
          "2009-05-06",
          "2009-05-07",
          "2009-05-08",
          "2009-05-09",
          "2009-05-10",
          "2009-05-11",
          "2009-05-12",
          "2009-05-13",
          "2009-05-14",
          "2009-05-15",
          "2009-05-16",
          "2009-05-17",
          "2009-05-18",
          "2009-05-19",
          "2009-05-20",
          "2009-05-21",
          "2009-05-22",
          "2009-05-23",
          "2009-05-24",
          "2009-05-25",
          "2009-05-26",
          "2009-05-27",
          "2009-05-28",
          "2009-05-29",
          "2009-05-30",
          "2009-05-31",
          "2009-06-01",
          "2009-06-02",
          "2009-06-03",
          "2009-06-04",
          "2009-06-05",
          "2009-06-06",
          "2009-06-07",
          "2009-06-08",
          "2009-06-09",
          "2009-06-10",
          "2009-06-11",
          "2009-06-12",
          "2009-06-13",
          "2009-06-14",
          "2009-06-15",
          "2009-06-16",
          "2009-06-17",
          "2009-06-18",
          "2009-06-19",
          "2009-06-20",
          "2009-06-21",
          "2009-06-22",
          "2009-06-23",
          "2009-06-24",
          "2009-06-25"
         ],
         "xaxis": "x2",
         "y": [
          0.15181246190314915,
          0.07590623095157457,
          0,
          0,
          0,
          0,
          0,
          0,
          0,
          0,
          0.08382572526655079,
          0.2525747828764336,
          0.3356070107587658,
          0.32960391118991317,
          0.2435572952765095,
          0.08081133723547926,
          0,
          0,
          0,
          0,
          0,
          0,
          0,
          0,
          0.08382381013635164,
          0.24956478138270502,
          0.32737020860622906,
          0.2413413136097496,
          0.07971207624987393,
          0,
          0,
          0,
          0.08198968812398953,
          0.24720372882960967,
          0.32734065081233443,
          0.24102886763179798,
          0.15734061346673545,
          0.1568767118833035,
          0.07843835594165174,
          0.08822241475549042,
          0.2665209245652844,
          0.26837460486409764,
          0.09007609505430361,
          0,
          0.09097377323690711,
          0.18194754647381423,
          0.18313915785229173,
          0.2775849112426036,
          0.2786736686390533,
          0.17430090162970147,
          0.16209351923573426,
          0.16766790630505604,
          0.26173714480239957,
          0.3509969032192857,
          0.34626216872158133,
          0.33530465946416876,
          0.32657167479031146,
          0.3132068907401738,
          0.30543156982380715,
          0.32176892843926164,
          0.3390026218976565,
          0.3366483101907517,
          0.24583819706725468,
          0.0802965383621801,
          0,
          0,
          0,
          0.09526419999999997,
          0.2702283630078446,
          0.3245115920039647,
          0.2212654299479206,
          0.07703346554486977,
          0.013282805968142332,
          0.015338089117799599,
          0.017048552146979253,
          0.020126750537882536,
          0.010666628697694847,
          -0.004921772814579032,
          -0.006693468074292508,
          0.00036729504097256953
         ],
         "yaxis": "y2"
        },
        {
         "line": {
          "color": "black"
         },
         "mode": "lines",
         "name": "ORIGINAL",
         "type": "scatter",
         "x": [
          "2009-04-07",
          "2009-04-08",
          "2009-04-09",
          "2009-04-10",
          "2009-04-11",
          "2009-04-12",
          "2009-04-13",
          "2009-04-14",
          "2009-04-15",
          "2009-04-16",
          "2009-04-17",
          "2009-04-18",
          "2009-04-19",
          "2009-04-20",
          "2009-04-21",
          "2009-04-22",
          "2009-04-23",
          "2009-04-24",
          "2009-04-25",
          "2009-04-26",
          "2009-04-27",
          "2009-04-28",
          "2009-04-29",
          "2009-04-30",
          "2009-05-01",
          "2009-05-02",
          "2009-05-03",
          "2009-05-04",
          "2009-05-05",
          "2009-05-06",
          "2009-05-07",
          "2009-05-08",
          "2009-05-09",
          "2009-05-10",
          "2009-05-11",
          "2009-05-12",
          "2009-05-13",
          "2009-05-14",
          "2009-05-15",
          "2009-05-16",
          "2009-05-17",
          "2009-05-18",
          "2009-05-19",
          "2009-05-20",
          "2009-05-21",
          "2009-05-22",
          "2009-05-23",
          "2009-05-24",
          "2009-05-25",
          "2009-05-26",
          "2009-05-27",
          "2009-05-28",
          "2009-05-29",
          "2009-05-30",
          "2009-05-31",
          "2009-06-01",
          "2009-06-02",
          "2009-06-03",
          "2009-06-04",
          "2009-06-05",
          "2009-06-06",
          "2009-06-07",
          "2009-06-08",
          "2009-06-09",
          "2009-06-10",
          "2009-06-11",
          "2009-06-12",
          "2009-06-13",
          "2009-06-14",
          "2009-06-15",
          "2009-06-16",
          "2009-06-17",
          "2009-06-18",
          "2009-06-19",
          "2009-06-20",
          "2009-06-21",
          "2009-06-22",
          "2009-06-23",
          "2009-06-24",
          "2009-06-25"
         ],
         "xaxis": "x3",
         "y": [
          0.15181246190314915,
          0,
          0,
          0,
          0,
          0,
          0,
          0,
          0,
          0,
          0,
          0.16765145053310157,
          0.16984666468666407,
          0.16386924161110192,
          0.16162267447095852,
          0,
          0,
          0,
          0,
          0,
          0,
          0,
          0,
          0,
          0,
          0.16764762027270327,
          0.1638343222200035,
          0.15942415249974787,
          0,
          0,
          0,
          0,
          0,
          0.16397937624797906,
          0.1664487051632612,
          0.15780451505016738,
          0,
          0.1568767118833035,
          0,
          0,
          0.17644482951098084,
          0.18015219010860722,
          0,
          0,
          0,
          0.18194754647381423,
          0,
          0.18433076923076927,
          0.18650828402366865,
          0,
          0.16209351923573426,
          0,
          0.17324229337437783,
          0.17698970285604346,
          0.17477210735210671,
          0.16599041988290578,
          0.16385637181041923,
          0.15944018607687863,
          0.14367703751617114,
          0.16406887853839344,
          0.1717230622855653,
          0.17049024068578897,
          0.1605930767243602,
          0,
          0,
          0,
          0,
          0,
          0.19052839999999993,
          0.15939992601568936,
          0.13969493197655072,
          0.0037410699270503727,
          0.006889859259088093,
          0.009044823491058106,
          0.005696671994394892,
          0.013658936814110616,
          0.0072389554531489455,
          -0.006803590325018811,
          -0.003475320432269387,
          0.00036729504097256953
         ],
         "yaxis": "y3"
        },
        {
         "line": {
          "color": "blue"
         },
         "mode": "lines",
         "name": "Seasonal",
         "type": "scatter",
         "x": [
          "2009-04-07",
          "2009-04-08",
          "2009-04-09",
          "2009-04-10",
          "2009-04-11",
          "2009-04-12",
          "2009-04-13",
          "2009-04-14",
          "2009-04-15",
          "2009-04-16",
          "2009-04-17",
          "2009-04-18",
          "2009-04-19",
          "2009-04-20",
          "2009-04-21",
          "2009-04-22",
          "2009-04-23",
          "2009-04-24",
          "2009-04-25",
          "2009-04-26",
          "2009-04-27",
          "2009-04-28",
          "2009-04-29",
          "2009-04-30",
          "2009-05-01",
          "2009-05-02",
          "2009-05-03",
          "2009-05-04",
          "2009-05-05",
          "2009-05-06",
          "2009-05-07",
          "2009-05-08",
          "2009-05-09",
          "2009-05-10",
          "2009-05-11",
          "2009-05-12",
          "2009-05-13",
          "2009-05-14",
          "2009-05-15",
          "2009-05-16",
          "2009-05-17",
          "2009-05-18",
          "2009-05-19",
          "2009-05-20",
          "2009-05-21",
          "2009-05-22",
          "2009-05-23",
          "2009-05-24",
          "2009-05-25",
          "2009-05-26",
          "2009-05-27",
          "2009-05-28",
          "2009-05-29",
          "2009-05-30",
          "2009-05-31",
          "2009-06-01",
          "2009-06-02",
          "2009-06-03",
          "2009-06-04",
          "2009-06-05",
          "2009-06-06",
          "2009-06-07",
          "2009-06-08",
          "2009-06-09",
          "2009-06-10",
          "2009-06-11",
          "2009-06-12",
          "2009-06-13",
          "2009-06-14",
          "2009-06-15",
          "2009-06-16",
          "2009-06-17",
          "2009-06-18",
          "2009-06-19",
          "2009-06-20",
          "2009-06-21",
          "2009-06-22",
          "2009-06-23",
          "2009-06-24",
          "2009-06-25"
         ],
         "xaxis": "x3",
         "y": [
          0.15181246190314915,
          0,
          0,
          0,
          0,
          0,
          0,
          0.15181246190314915,
          0,
          0,
          0,
          0.16765145053310157,
          0.16984666468666407,
          0.16386924161110192,
          0.16162267447095852,
          0,
          0,
          0,
          0.16765145053310157,
          0.16984666468666407,
          0.16386924161110192,
          0.16162267447095852,
          0,
          0,
          0,
          0.16764762027270327,
          0.1638343222200035,
          0.15942415249974787,
          0,
          0,
          0,
          0,
          0.16764762027270327,
          0.3278136984679826,
          0.3258728576630091,
          0.15780451505016738,
          0,
          0.1568767118833035,
          0,
          0,
          0.34042420575895993,
          0.34660089527186844,
          0.15780451505016738,
          0,
          0.1568767118833035,
          0.18194754647381423,
          0,
          0.36077559874175014,
          0.36666047413227587,
          0,
          0.16209351923573426,
          0,
          0.3551898398481921,
          0.17698970285604346,
          0.359102876582876,
          0.35249870390657445,
          0.16385637181041923,
          0.3215337053126129,
          0.14367703751617114,
          0.33731117191277127,
          0.34871276514160876,
          0.3452623480378957,
          0.326583496607266,
          0.16385637181041923,
          0.15944018607687863,
          0.14367703751617114,
          0.16406887853839344,
          0.1717230622855653,
          0.3610186406857889,
          0.3199930027400496,
          0.13969493197655072,
          0.0037410699270503727,
          0.006889859259088093,
          0.009044823491058106,
          0.005696671994394892,
          0.20418733681411055,
          0.16663888146883832,
          0.1328913416515319,
          0.00026574949478098573,
          0.007257154300060662
         ],
         "yaxis": "y3"
        }
       ],
       "layout": {
        "annotations": [
         {
          "font": {
           "size": 16
          },
          "showarrow": false,
          "text": "ORIGINAL vs. Linear METHOD",
          "x": 0.5,
          "xanchor": "center",
          "xref": "paper",
          "y": 1,
          "yanchor": "bottom",
          "yref": "paper"
         },
         {
          "font": {
           "size": 16
          },
          "showarrow": false,
          "text": "ORIGINAL vs. Knn METHOD",
          "x": 0.5,
          "xanchor": "center",
          "xref": "paper",
          "y": 0.6111111111111112,
          "yanchor": "bottom",
          "yref": "paper"
         },
         {
          "font": {
           "size": 16
          },
          "showarrow": false,
          "text": "ORIGINAL vs. Seasonal METHOD",
          "x": 0.5,
          "xanchor": "center",
          "xref": "paper",
          "y": 0.22222222222222224,
          "yanchor": "bottom",
          "yref": "paper"
         }
        ],
        "height": 1200,
        "legend": {
         "orientation": "h",
         "traceorder": "normal",
         "x": 0,
         "y": -1
        },
        "showlegend": true,
        "template": {
         "data": {
          "bar": [
           {
            "error_x": {
             "color": "#2a3f5f"
            },
            "error_y": {
             "color": "#2a3f5f"
            },
            "marker": {
             "line": {
              "color": "#E5ECF6",
              "width": 0.5
             },
             "pattern": {
              "fillmode": "overlay",
              "size": 10,
              "solidity": 0.2
             }
            },
            "type": "bar"
           }
          ],
          "barpolar": [
           {
            "marker": {
             "line": {
              "color": "#E5ECF6",
              "width": 0.5
             },
             "pattern": {
              "fillmode": "overlay",
              "size": 10,
              "solidity": 0.2
             }
            },
            "type": "barpolar"
           }
          ],
          "carpet": [
           {
            "aaxis": {
             "endlinecolor": "#2a3f5f",
             "gridcolor": "white",
             "linecolor": "white",
             "minorgridcolor": "white",
             "startlinecolor": "#2a3f5f"
            },
            "baxis": {
             "endlinecolor": "#2a3f5f",
             "gridcolor": "white",
             "linecolor": "white",
             "minorgridcolor": "white",
             "startlinecolor": "#2a3f5f"
            },
            "type": "carpet"
           }
          ],
          "choropleth": [
           {
            "colorbar": {
             "outlinewidth": 0,
             "ticks": ""
            },
            "type": "choropleth"
           }
          ],
          "contour": [
           {
            "colorbar": {
             "outlinewidth": 0,
             "ticks": ""
            },
            "colorscale": [
             [
              0,
              "#0d0887"
             ],
             [
              0.1111111111111111,
              "#46039f"
             ],
             [
              0.2222222222222222,
              "#7201a8"
             ],
             [
              0.3333333333333333,
              "#9c179e"
             ],
             [
              0.4444444444444444,
              "#bd3786"
             ],
             [
              0.5555555555555556,
              "#d8576b"
             ],
             [
              0.6666666666666666,
              "#ed7953"
             ],
             [
              0.7777777777777778,
              "#fb9f3a"
             ],
             [
              0.8888888888888888,
              "#fdca26"
             ],
             [
              1,
              "#f0f921"
             ]
            ],
            "type": "contour"
           }
          ],
          "contourcarpet": [
           {
            "colorbar": {
             "outlinewidth": 0,
             "ticks": ""
            },
            "type": "contourcarpet"
           }
          ],
          "heatmap": [
           {
            "colorbar": {
             "outlinewidth": 0,
             "ticks": ""
            },
            "colorscale": [
             [
              0,
              "#0d0887"
             ],
             [
              0.1111111111111111,
              "#46039f"
             ],
             [
              0.2222222222222222,
              "#7201a8"
             ],
             [
              0.3333333333333333,
              "#9c179e"
             ],
             [
              0.4444444444444444,
              "#bd3786"
             ],
             [
              0.5555555555555556,
              "#d8576b"
             ],
             [
              0.6666666666666666,
              "#ed7953"
             ],
             [
              0.7777777777777778,
              "#fb9f3a"
             ],
             [
              0.8888888888888888,
              "#fdca26"
             ],
             [
              1,
              "#f0f921"
             ]
            ],
            "type": "heatmap"
           }
          ],
          "heatmapgl": [
           {
            "colorbar": {
             "outlinewidth": 0,
             "ticks": ""
            },
            "colorscale": [
             [
              0,
              "#0d0887"
             ],
             [
              0.1111111111111111,
              "#46039f"
             ],
             [
              0.2222222222222222,
              "#7201a8"
             ],
             [
              0.3333333333333333,
              "#9c179e"
             ],
             [
              0.4444444444444444,
              "#bd3786"
             ],
             [
              0.5555555555555556,
              "#d8576b"
             ],
             [
              0.6666666666666666,
              "#ed7953"
             ],
             [
              0.7777777777777778,
              "#fb9f3a"
             ],
             [
              0.8888888888888888,
              "#fdca26"
             ],
             [
              1,
              "#f0f921"
             ]
            ],
            "type": "heatmapgl"
           }
          ],
          "histogram": [
           {
            "marker": {
             "pattern": {
              "fillmode": "overlay",
              "size": 10,
              "solidity": 0.2
             }
            },
            "type": "histogram"
           }
          ],
          "histogram2d": [
           {
            "colorbar": {
             "outlinewidth": 0,
             "ticks": ""
            },
            "colorscale": [
             [
              0,
              "#0d0887"
             ],
             [
              0.1111111111111111,
              "#46039f"
             ],
             [
              0.2222222222222222,
              "#7201a8"
             ],
             [
              0.3333333333333333,
              "#9c179e"
             ],
             [
              0.4444444444444444,
              "#bd3786"
             ],
             [
              0.5555555555555556,
              "#d8576b"
             ],
             [
              0.6666666666666666,
              "#ed7953"
             ],
             [
              0.7777777777777778,
              "#fb9f3a"
             ],
             [
              0.8888888888888888,
              "#fdca26"
             ],
             [
              1,
              "#f0f921"
             ]
            ],
            "type": "histogram2d"
           }
          ],
          "histogram2dcontour": [
           {
            "colorbar": {
             "outlinewidth": 0,
             "ticks": ""
            },
            "colorscale": [
             [
              0,
              "#0d0887"
             ],
             [
              0.1111111111111111,
              "#46039f"
             ],
             [
              0.2222222222222222,
              "#7201a8"
             ],
             [
              0.3333333333333333,
              "#9c179e"
             ],
             [
              0.4444444444444444,
              "#bd3786"
             ],
             [
              0.5555555555555556,
              "#d8576b"
             ],
             [
              0.6666666666666666,
              "#ed7953"
             ],
             [
              0.7777777777777778,
              "#fb9f3a"
             ],
             [
              0.8888888888888888,
              "#fdca26"
             ],
             [
              1,
              "#f0f921"
             ]
            ],
            "type": "histogram2dcontour"
           }
          ],
          "mesh3d": [
           {
            "colorbar": {
             "outlinewidth": 0,
             "ticks": ""
            },
            "type": "mesh3d"
           }
          ],
          "parcoords": [
           {
            "line": {
             "colorbar": {
              "outlinewidth": 0,
              "ticks": ""
             }
            },
            "type": "parcoords"
           }
          ],
          "pie": [
           {
            "automargin": true,
            "type": "pie"
           }
          ],
          "scatter": [
           {
            "fillpattern": {
             "fillmode": "overlay",
             "size": 10,
             "solidity": 0.2
            },
            "type": "scatter"
           }
          ],
          "scatter3d": [
           {
            "line": {
             "colorbar": {
              "outlinewidth": 0,
              "ticks": ""
             }
            },
            "marker": {
             "colorbar": {
              "outlinewidth": 0,
              "ticks": ""
             }
            },
            "type": "scatter3d"
           }
          ],
          "scattercarpet": [
           {
            "marker": {
             "colorbar": {
              "outlinewidth": 0,
              "ticks": ""
             }
            },
            "type": "scattercarpet"
           }
          ],
          "scattergeo": [
           {
            "marker": {
             "colorbar": {
              "outlinewidth": 0,
              "ticks": ""
             }
            },
            "type": "scattergeo"
           }
          ],
          "scattergl": [
           {
            "marker": {
             "colorbar": {
              "outlinewidth": 0,
              "ticks": ""
             }
            },
            "type": "scattergl"
           }
          ],
          "scattermapbox": [
           {
            "marker": {
             "colorbar": {
              "outlinewidth": 0,
              "ticks": ""
             }
            },
            "type": "scattermapbox"
           }
          ],
          "scatterpolar": [
           {
            "marker": {
             "colorbar": {
              "outlinewidth": 0,
              "ticks": ""
             }
            },
            "type": "scatterpolar"
           }
          ],
          "scatterpolargl": [
           {
            "marker": {
             "colorbar": {
              "outlinewidth": 0,
              "ticks": ""
             }
            },
            "type": "scatterpolargl"
           }
          ],
          "scatterternary": [
           {
            "marker": {
             "colorbar": {
              "outlinewidth": 0,
              "ticks": ""
             }
            },
            "type": "scatterternary"
           }
          ],
          "surface": [
           {
            "colorbar": {
             "outlinewidth": 0,
             "ticks": ""
            },
            "colorscale": [
             [
              0,
              "#0d0887"
             ],
             [
              0.1111111111111111,
              "#46039f"
             ],
             [
              0.2222222222222222,
              "#7201a8"
             ],
             [
              0.3333333333333333,
              "#9c179e"
             ],
             [
              0.4444444444444444,
              "#bd3786"
             ],
             [
              0.5555555555555556,
              "#d8576b"
             ],
             [
              0.6666666666666666,
              "#ed7953"
             ],
             [
              0.7777777777777778,
              "#fb9f3a"
             ],
             [
              0.8888888888888888,
              "#fdca26"
             ],
             [
              1,
              "#f0f921"
             ]
            ],
            "type": "surface"
           }
          ],
          "table": [
           {
            "cells": {
             "fill": {
              "color": "#EBF0F8"
             },
             "line": {
              "color": "white"
             }
            },
            "header": {
             "fill": {
              "color": "#C8D4E3"
             },
             "line": {
              "color": "white"
             }
            },
            "type": "table"
           }
          ]
         },
         "layout": {
          "annotationdefaults": {
           "arrowcolor": "#2a3f5f",
           "arrowhead": 0,
           "arrowwidth": 1
          },
          "autotypenumbers": "strict",
          "coloraxis": {
           "colorbar": {
            "outlinewidth": 0,
            "ticks": ""
           }
          },
          "colorscale": {
           "diverging": [
            [
             0,
             "#8e0152"
            ],
            [
             0.1,
             "#c51b7d"
            ],
            [
             0.2,
             "#de77ae"
            ],
            [
             0.3,
             "#f1b6da"
            ],
            [
             0.4,
             "#fde0ef"
            ],
            [
             0.5,
             "#f7f7f7"
            ],
            [
             0.6,
             "#e6f5d0"
            ],
            [
             0.7,
             "#b8e186"
            ],
            [
             0.8,
             "#7fbc41"
            ],
            [
             0.9,
             "#4d9221"
            ],
            [
             1,
             "#276419"
            ]
           ],
           "sequential": [
            [
             0,
             "#0d0887"
            ],
            [
             0.1111111111111111,
             "#46039f"
            ],
            [
             0.2222222222222222,
             "#7201a8"
            ],
            [
             0.3333333333333333,
             "#9c179e"
            ],
            [
             0.4444444444444444,
             "#bd3786"
            ],
            [
             0.5555555555555556,
             "#d8576b"
            ],
            [
             0.6666666666666666,
             "#ed7953"
            ],
            [
             0.7777777777777778,
             "#fb9f3a"
            ],
            [
             0.8888888888888888,
             "#fdca26"
            ],
            [
             1,
             "#f0f921"
            ]
           ],
           "sequentialminus": [
            [
             0,
             "#0d0887"
            ],
            [
             0.1111111111111111,
             "#46039f"
            ],
            [
             0.2222222222222222,
             "#7201a8"
            ],
            [
             0.3333333333333333,
             "#9c179e"
            ],
            [
             0.4444444444444444,
             "#bd3786"
            ],
            [
             0.5555555555555556,
             "#d8576b"
            ],
            [
             0.6666666666666666,
             "#ed7953"
            ],
            [
             0.7777777777777778,
             "#fb9f3a"
            ],
            [
             0.8888888888888888,
             "#fdca26"
            ],
            [
             1,
             "#f0f921"
            ]
           ]
          },
          "colorway": [
           "#636efa",
           "#EF553B",
           "#00cc96",
           "#ab63fa",
           "#FFA15A",
           "#19d3f3",
           "#FF6692",
           "#B6E880",
           "#FF97FF",
           "#FECB52"
          ],
          "font": {
           "color": "#2a3f5f"
          },
          "geo": {
           "bgcolor": "white",
           "lakecolor": "white",
           "landcolor": "#E5ECF6",
           "showlakes": true,
           "showland": true,
           "subunitcolor": "white"
          },
          "hoverlabel": {
           "align": "left"
          },
          "hovermode": "closest",
          "mapbox": {
           "style": "light"
          },
          "paper_bgcolor": "white",
          "plot_bgcolor": "#E5ECF6",
          "polar": {
           "angularaxis": {
            "gridcolor": "white",
            "linecolor": "white",
            "ticks": ""
           },
           "bgcolor": "#E5ECF6",
           "radialaxis": {
            "gridcolor": "white",
            "linecolor": "white",
            "ticks": ""
           }
          },
          "scene": {
           "xaxis": {
            "backgroundcolor": "#E5ECF6",
            "gridcolor": "white",
            "gridwidth": 2,
            "linecolor": "white",
            "showbackground": true,
            "ticks": "",
            "zerolinecolor": "white"
           },
           "yaxis": {
            "backgroundcolor": "#E5ECF6",
            "gridcolor": "white",
            "gridwidth": 2,
            "linecolor": "white",
            "showbackground": true,
            "ticks": "",
            "zerolinecolor": "white"
           },
           "zaxis": {
            "backgroundcolor": "#E5ECF6",
            "gridcolor": "white",
            "gridwidth": 2,
            "linecolor": "white",
            "showbackground": true,
            "ticks": "",
            "zerolinecolor": "white"
           }
          },
          "shapedefaults": {
           "line": {
            "color": "#2a3f5f"
           }
          },
          "ternary": {
           "aaxis": {
            "gridcolor": "white",
            "linecolor": "white",
            "ticks": ""
           },
           "baxis": {
            "gridcolor": "white",
            "linecolor": "white",
            "ticks": ""
           },
           "bgcolor": "#E5ECF6",
           "caxis": {
            "gridcolor": "white",
            "linecolor": "white",
            "ticks": ""
           }
          },
          "title": {
           "x": 0.05
          },
          "xaxis": {
           "automargin": true,
           "gridcolor": "white",
           "linecolor": "white",
           "ticks": "",
           "title": {
            "standoff": 15
           },
           "zerolinecolor": "white",
           "zerolinewidth": 2
          },
          "yaxis": {
           "automargin": true,
           "gridcolor": "white",
           "linecolor": "white",
           "ticks": "",
           "title": {
            "standoff": 15
           },
           "zerolinecolor": "white",
           "zerolinewidth": 2
          }
         }
        },
        "title": {
         "text": "Sentiment Score Interpolation Methods"
        },
        "width": 800,
        "xaxis": {
         "anchor": "y",
         "domain": [
          0,
          1
         ],
         "matches": "x3",
         "showticklabels": false,
         "title": {
          "text": "Date"
         }
        },
        "xaxis2": {
         "anchor": "y2",
         "domain": [
          0,
          1
         ],
         "matches": "x3",
         "showticklabels": false,
         "title": {
          "text": "Date"
         }
        },
        "xaxis3": {
         "anchor": "y3",
         "domain": [
          0,
          1
         ],
         "title": {
          "text": "Date"
         }
        },
        "yaxis": {
         "anchor": "x",
         "domain": [
          0.7777777777777778,
          1
         ],
         "title": {
          "text": "Sentiment Score"
         }
        },
        "yaxis2": {
         "anchor": "x2",
         "domain": [
          0.3888888888888889,
          0.6111111111111112
         ],
         "title": {
          "text": "Sentiment Score"
         }
        },
        "yaxis3": {
         "anchor": "x3",
         "domain": [
          0,
          0.22222222222222224
         ],
         "title": {
          "text": "Sentiment Score"
         }
        }
       }
      },
      "text/html": [
       "<div>                            <div id=\"ba2cf465-e0f7-49f3-b02b-74c3d46d2f5a\" class=\"plotly-graph-div\" style=\"height:1200px; width:800px;\"></div>            <script type=\"text/javascript\">                require([\"plotly\"], function(Plotly) {                    window.PLOTLYENV=window.PLOTLYENV || {};                                    if (document.getElementById(\"ba2cf465-e0f7-49f3-b02b-74c3d46d2f5a\")) {                    Plotly.newPlot(                        \"ba2cf465-e0f7-49f3-b02b-74c3d46d2f5a\",                        [{\"line\":{\"color\":\"black\"},\"mode\":\"lines\",\"name\":\"ORIGINAL\",\"x\":[\"2009-04-07\",\"2009-04-08\",\"2009-04-09\",\"2009-04-10\",\"2009-04-11\",\"2009-04-12\",\"2009-04-13\",\"2009-04-14\",\"2009-04-15\",\"2009-04-16\",\"2009-04-17\",\"2009-04-18\",\"2009-04-19\",\"2009-04-20\",\"2009-04-21\",\"2009-04-22\",\"2009-04-23\",\"2009-04-24\",\"2009-04-25\",\"2009-04-26\",\"2009-04-27\",\"2009-04-28\",\"2009-04-29\",\"2009-04-30\",\"2009-05-01\",\"2009-05-02\",\"2009-05-03\",\"2009-05-04\",\"2009-05-05\",\"2009-05-06\",\"2009-05-07\",\"2009-05-08\",\"2009-05-09\",\"2009-05-10\",\"2009-05-11\",\"2009-05-12\",\"2009-05-13\",\"2009-05-14\",\"2009-05-15\",\"2009-05-16\",\"2009-05-17\",\"2009-05-18\",\"2009-05-19\",\"2009-05-20\",\"2009-05-21\",\"2009-05-22\",\"2009-05-23\",\"2009-05-24\",\"2009-05-25\",\"2009-05-26\",\"2009-05-27\",\"2009-05-28\",\"2009-05-29\",\"2009-05-30\",\"2009-05-31\",\"2009-06-01\",\"2009-06-02\",\"2009-06-03\",\"2009-06-04\",\"2009-06-05\",\"2009-06-06\",\"2009-06-07\",\"2009-06-08\",\"2009-06-09\",\"2009-06-10\",\"2009-06-11\",\"2009-06-12\",\"2009-06-13\",\"2009-06-14\",\"2009-06-15\",\"2009-06-16\",\"2009-06-17\",\"2009-06-18\",\"2009-06-19\",\"2009-06-20\",\"2009-06-21\",\"2009-06-22\",\"2009-06-23\",\"2009-06-24\",\"2009-06-25\"],\"y\":[0.15181246190314915,0.0,0.0,0.0,0.0,0.0,0.0,0.0,0.0,0.0,0.0,0.16765145053310157,0.16984666468666407,0.16386924161110192,0.16162267447095852,0.0,0.0,0.0,0.0,0.0,0.0,0.0,0.0,0.0,0.0,0.16764762027270327,0.1638343222200035,0.15942415249974787,0.0,0.0,0.0,0.0,0.0,0.16397937624797906,0.1664487051632612,0.15780451505016738,0.0,0.1568767118833035,0.0,0.0,0.17644482951098084,0.18015219010860722,0.0,0.0,0.0,0.18194754647381423,0.0,0.18433076923076927,0.18650828402366865,0.0,0.16209351923573426,0.0,0.17324229337437783,0.17698970285604346,0.17477210735210671,0.16599041988290578,0.16385637181041923,0.15944018607687863,0.14367703751617114,0.16406887853839344,0.1717230622855653,0.17049024068578897,0.1605930767243602,0.0,0.0,0.0,0.0,0.0,0.19052839999999993,0.15939992601568936,0.13969493197655072,0.0037410699270503727,0.006889859259088093,0.009044823491058106,0.005696671994394892,0.013658936814110616,0.0072389554531489455,-0.006803590325018811,-0.003475320432269387,0.00036729504097256953],\"type\":\"scatter\",\"xaxis\":\"x\",\"yaxis\":\"y\"},{\"line\":{\"color\":\"red\"},\"mode\":\"lines\",\"name\":\"Linear\",\"x\":[\"2009-04-07\",\"2009-04-08\",\"2009-04-09\",\"2009-04-10\",\"2009-04-11\",\"2009-04-12\",\"2009-04-13\",\"2009-04-14\",\"2009-04-15\",\"2009-04-16\",\"2009-04-17\",\"2009-04-18\",\"2009-04-19\",\"2009-04-20\",\"2009-04-21\",\"2009-04-22\",\"2009-04-23\",\"2009-04-24\",\"2009-04-25\",\"2009-04-26\",\"2009-04-27\",\"2009-04-28\",\"2009-04-29\",\"2009-04-30\",\"2009-05-01\",\"2009-05-02\",\"2009-05-03\",\"2009-05-04\",\"2009-05-05\",\"2009-05-06\",\"2009-05-07\",\"2009-05-08\",\"2009-05-09\",\"2009-05-10\",\"2009-05-11\",\"2009-05-12\",\"2009-05-13\",\"2009-05-14\",\"2009-05-15\",\"2009-05-16\",\"2009-05-17\",\"2009-05-18\",\"2009-05-19\",\"2009-05-20\",\"2009-05-21\",\"2009-05-22\",\"2009-05-23\",\"2009-05-24\",\"2009-05-25\",\"2009-05-26\",\"2009-05-27\",\"2009-05-28\",\"2009-05-29\",\"2009-05-30\",\"2009-05-31\",\"2009-06-01\",\"2009-06-02\",\"2009-06-03\",\"2009-06-04\",\"2009-06-05\",\"2009-06-06\",\"2009-06-07\",\"2009-06-08\",\"2009-06-09\",\"2009-06-10\",\"2009-06-11\",\"2009-06-12\",\"2009-06-13\",\"2009-06-14\",\"2009-06-15\",\"2009-06-16\",\"2009-06-17\",\"2009-06-18\",\"2009-06-19\",\"2009-06-20\",\"2009-06-21\",\"2009-06-22\",\"2009-06-23\",\"2009-06-24\",\"2009-06-25\"],\"y\":[null,0.15181246190314915,0.0,0.0,0.0,0.0,0.0,0.0,0.0,0.0,0.0,0.0,0.16765145053310157,0.16984666468666407,0.16386924161110192,0.16162267447095852,0.0,0.0,0.0,0.0,0.0,0.0,0.0,0.0,0.0,0.0,0.16764762027270327,0.1638343222200035,0.15942415249974787,0.0,0.0,0.0,0.0,0.0,0.16397937624797906,0.1664487051632612,0.15780451505016738,0.0,0.1568767118833035,0.0,0.0,0.17644482951098084,0.18015219010860722,0.0,0.0,0.0,0.18194754647381423,0.0,0.18433076923076927,0.18650828402366865,0.0,0.16209351923573426,0.0,0.17324229337437783,0.17698970285604346,0.17477210735210671,0.16599041988290578,0.16385637181041923,0.15944018607687863,0.14367703751617114,0.16406887853839344,0.1717230622855653,0.17049024068578897,0.1605930767243602,0.0,0.0,0.0,0.0,0.0,0.19052839999999993,0.15939992601568936,0.13969493197655072,0.0037410699270503727,0.006889859259088093,0.009044823491058106,0.005696671994394892,0.013658936814110616,0.0072389554531489455,-0.006803590325018811,-0.003475320432269387],\"type\":\"scatter\",\"xaxis\":\"x\",\"yaxis\":\"y\"},{\"line\":{\"color\":\"black\"},\"mode\":\"lines\",\"name\":\"ORIGINAL\",\"x\":[\"2009-04-07\",\"2009-04-08\",\"2009-04-09\",\"2009-04-10\",\"2009-04-11\",\"2009-04-12\",\"2009-04-13\",\"2009-04-14\",\"2009-04-15\",\"2009-04-16\",\"2009-04-17\",\"2009-04-18\",\"2009-04-19\",\"2009-04-20\",\"2009-04-21\",\"2009-04-22\",\"2009-04-23\",\"2009-04-24\",\"2009-04-25\",\"2009-04-26\",\"2009-04-27\",\"2009-04-28\",\"2009-04-29\",\"2009-04-30\",\"2009-05-01\",\"2009-05-02\",\"2009-05-03\",\"2009-05-04\",\"2009-05-05\",\"2009-05-06\",\"2009-05-07\",\"2009-05-08\",\"2009-05-09\",\"2009-05-10\",\"2009-05-11\",\"2009-05-12\",\"2009-05-13\",\"2009-05-14\",\"2009-05-15\",\"2009-05-16\",\"2009-05-17\",\"2009-05-18\",\"2009-05-19\",\"2009-05-20\",\"2009-05-21\",\"2009-05-22\",\"2009-05-23\",\"2009-05-24\",\"2009-05-25\",\"2009-05-26\",\"2009-05-27\",\"2009-05-28\",\"2009-05-29\",\"2009-05-30\",\"2009-05-31\",\"2009-06-01\",\"2009-06-02\",\"2009-06-03\",\"2009-06-04\",\"2009-06-05\",\"2009-06-06\",\"2009-06-07\",\"2009-06-08\",\"2009-06-09\",\"2009-06-10\",\"2009-06-11\",\"2009-06-12\",\"2009-06-13\",\"2009-06-14\",\"2009-06-15\",\"2009-06-16\",\"2009-06-17\",\"2009-06-18\",\"2009-06-19\",\"2009-06-20\",\"2009-06-21\",\"2009-06-22\",\"2009-06-23\",\"2009-06-24\",\"2009-06-25\"],\"y\":[0.15181246190314915,0.0,0.0,0.0,0.0,0.0,0.0,0.0,0.0,0.0,0.0,0.16765145053310157,0.16984666468666407,0.16386924161110192,0.16162267447095852,0.0,0.0,0.0,0.0,0.0,0.0,0.0,0.0,0.0,0.0,0.16764762027270327,0.1638343222200035,0.15942415249974787,0.0,0.0,0.0,0.0,0.0,0.16397937624797906,0.1664487051632612,0.15780451505016738,0.0,0.1568767118833035,0.0,0.0,0.17644482951098084,0.18015219010860722,0.0,0.0,0.0,0.18194754647381423,0.0,0.18433076923076927,0.18650828402366865,0.0,0.16209351923573426,0.0,0.17324229337437783,0.17698970285604346,0.17477210735210671,0.16599041988290578,0.16385637181041923,0.15944018607687863,0.14367703751617114,0.16406887853839344,0.1717230622855653,0.17049024068578897,0.1605930767243602,0.0,0.0,0.0,0.0,0.0,0.19052839999999993,0.15939992601568936,0.13969493197655072,0.0037410699270503727,0.006889859259088093,0.009044823491058106,0.005696671994394892,0.013658936814110616,0.0072389554531489455,-0.006803590325018811,-0.003475320432269387,0.00036729504097256953],\"type\":\"scatter\",\"xaxis\":\"x2\",\"yaxis\":\"y2\"},{\"line\":{\"color\":\"green\"},\"mode\":\"lines\",\"name\":\"Knn\",\"x\":[\"2009-04-07\",\"2009-04-08\",\"2009-04-09\",\"2009-04-10\",\"2009-04-11\",\"2009-04-12\",\"2009-04-13\",\"2009-04-14\",\"2009-04-15\",\"2009-04-16\",\"2009-04-17\",\"2009-04-18\",\"2009-04-19\",\"2009-04-20\",\"2009-04-21\",\"2009-04-22\",\"2009-04-23\",\"2009-04-24\",\"2009-04-25\",\"2009-04-26\",\"2009-04-27\",\"2009-04-28\",\"2009-04-29\",\"2009-04-30\",\"2009-05-01\",\"2009-05-02\",\"2009-05-03\",\"2009-05-04\",\"2009-05-05\",\"2009-05-06\",\"2009-05-07\",\"2009-05-08\",\"2009-05-09\",\"2009-05-10\",\"2009-05-11\",\"2009-05-12\",\"2009-05-13\",\"2009-05-14\",\"2009-05-15\",\"2009-05-16\",\"2009-05-17\",\"2009-05-18\",\"2009-05-19\",\"2009-05-20\",\"2009-05-21\",\"2009-05-22\",\"2009-05-23\",\"2009-05-24\",\"2009-05-25\",\"2009-05-26\",\"2009-05-27\",\"2009-05-28\",\"2009-05-29\",\"2009-05-30\",\"2009-05-31\",\"2009-06-01\",\"2009-06-02\",\"2009-06-03\",\"2009-06-04\",\"2009-06-05\",\"2009-06-06\",\"2009-06-07\",\"2009-06-08\",\"2009-06-09\",\"2009-06-10\",\"2009-06-11\",\"2009-06-12\",\"2009-06-13\",\"2009-06-14\",\"2009-06-15\",\"2009-06-16\",\"2009-06-17\",\"2009-06-18\",\"2009-06-19\",\"2009-06-20\",\"2009-06-21\",\"2009-06-22\",\"2009-06-23\",\"2009-06-24\",\"2009-06-25\"],\"y\":[0.15181246190314915,0.07590623095157457,0.0,0.0,0.0,0.0,0.0,0.0,0.0,0.0,0.08382572526655079,0.2525747828764336,0.3356070107587658,0.32960391118991317,0.2435572952765095,0.08081133723547926,0.0,0.0,0.0,0.0,0.0,0.0,0.0,0.0,0.08382381013635164,0.24956478138270502,0.32737020860622906,0.2413413136097496,0.07971207624987393,0.0,0.0,0.0,0.08198968812398953,0.24720372882960967,0.32734065081233443,0.24102886763179798,0.15734061346673545,0.1568767118833035,0.07843835594165174,0.08822241475549042,0.2665209245652844,0.26837460486409764,0.09007609505430361,0.0,0.09097377323690711,0.18194754647381423,0.18313915785229173,0.2775849112426036,0.2786736686390533,0.17430090162970147,0.16209351923573426,0.16766790630505604,0.26173714480239957,0.3509969032192857,0.34626216872158133,0.33530465946416876,0.32657167479031146,0.3132068907401738,0.30543156982380715,0.32176892843926164,0.3390026218976565,0.3366483101907517,0.24583819706725468,0.0802965383621801,0.0,0.0,0.0,0.09526419999999997,0.2702283630078446,0.3245115920039647,0.2212654299479206,0.07703346554486977,0.013282805968142332,0.015338089117799599,0.017048552146979253,0.020126750537882536,0.010666628697694847,-0.004921772814579032,-0.006693468074292508,0.00036729504097256953],\"type\":\"scatter\",\"xaxis\":\"x2\",\"yaxis\":\"y2\"},{\"line\":{\"color\":\"black\"},\"mode\":\"lines\",\"name\":\"ORIGINAL\",\"x\":[\"2009-04-07\",\"2009-04-08\",\"2009-04-09\",\"2009-04-10\",\"2009-04-11\",\"2009-04-12\",\"2009-04-13\",\"2009-04-14\",\"2009-04-15\",\"2009-04-16\",\"2009-04-17\",\"2009-04-18\",\"2009-04-19\",\"2009-04-20\",\"2009-04-21\",\"2009-04-22\",\"2009-04-23\",\"2009-04-24\",\"2009-04-25\",\"2009-04-26\",\"2009-04-27\",\"2009-04-28\",\"2009-04-29\",\"2009-04-30\",\"2009-05-01\",\"2009-05-02\",\"2009-05-03\",\"2009-05-04\",\"2009-05-05\",\"2009-05-06\",\"2009-05-07\",\"2009-05-08\",\"2009-05-09\",\"2009-05-10\",\"2009-05-11\",\"2009-05-12\",\"2009-05-13\",\"2009-05-14\",\"2009-05-15\",\"2009-05-16\",\"2009-05-17\",\"2009-05-18\",\"2009-05-19\",\"2009-05-20\",\"2009-05-21\",\"2009-05-22\",\"2009-05-23\",\"2009-05-24\",\"2009-05-25\",\"2009-05-26\",\"2009-05-27\",\"2009-05-28\",\"2009-05-29\",\"2009-05-30\",\"2009-05-31\",\"2009-06-01\",\"2009-06-02\",\"2009-06-03\",\"2009-06-04\",\"2009-06-05\",\"2009-06-06\",\"2009-06-07\",\"2009-06-08\",\"2009-06-09\",\"2009-06-10\",\"2009-06-11\",\"2009-06-12\",\"2009-06-13\",\"2009-06-14\",\"2009-06-15\",\"2009-06-16\",\"2009-06-17\",\"2009-06-18\",\"2009-06-19\",\"2009-06-20\",\"2009-06-21\",\"2009-06-22\",\"2009-06-23\",\"2009-06-24\",\"2009-06-25\"],\"y\":[0.15181246190314915,0.0,0.0,0.0,0.0,0.0,0.0,0.0,0.0,0.0,0.0,0.16765145053310157,0.16984666468666407,0.16386924161110192,0.16162267447095852,0.0,0.0,0.0,0.0,0.0,0.0,0.0,0.0,0.0,0.0,0.16764762027270327,0.1638343222200035,0.15942415249974787,0.0,0.0,0.0,0.0,0.0,0.16397937624797906,0.1664487051632612,0.15780451505016738,0.0,0.1568767118833035,0.0,0.0,0.17644482951098084,0.18015219010860722,0.0,0.0,0.0,0.18194754647381423,0.0,0.18433076923076927,0.18650828402366865,0.0,0.16209351923573426,0.0,0.17324229337437783,0.17698970285604346,0.17477210735210671,0.16599041988290578,0.16385637181041923,0.15944018607687863,0.14367703751617114,0.16406887853839344,0.1717230622855653,0.17049024068578897,0.1605930767243602,0.0,0.0,0.0,0.0,0.0,0.19052839999999993,0.15939992601568936,0.13969493197655072,0.0037410699270503727,0.006889859259088093,0.009044823491058106,0.005696671994394892,0.013658936814110616,0.0072389554531489455,-0.006803590325018811,-0.003475320432269387,0.00036729504097256953],\"type\":\"scatter\",\"xaxis\":\"x3\",\"yaxis\":\"y3\"},{\"line\":{\"color\":\"blue\"},\"mode\":\"lines\",\"name\":\"Seasonal\",\"x\":[\"2009-04-07\",\"2009-04-08\",\"2009-04-09\",\"2009-04-10\",\"2009-04-11\",\"2009-04-12\",\"2009-04-13\",\"2009-04-14\",\"2009-04-15\",\"2009-04-16\",\"2009-04-17\",\"2009-04-18\",\"2009-04-19\",\"2009-04-20\",\"2009-04-21\",\"2009-04-22\",\"2009-04-23\",\"2009-04-24\",\"2009-04-25\",\"2009-04-26\",\"2009-04-27\",\"2009-04-28\",\"2009-04-29\",\"2009-04-30\",\"2009-05-01\",\"2009-05-02\",\"2009-05-03\",\"2009-05-04\",\"2009-05-05\",\"2009-05-06\",\"2009-05-07\",\"2009-05-08\",\"2009-05-09\",\"2009-05-10\",\"2009-05-11\",\"2009-05-12\",\"2009-05-13\",\"2009-05-14\",\"2009-05-15\",\"2009-05-16\",\"2009-05-17\",\"2009-05-18\",\"2009-05-19\",\"2009-05-20\",\"2009-05-21\",\"2009-05-22\",\"2009-05-23\",\"2009-05-24\",\"2009-05-25\",\"2009-05-26\",\"2009-05-27\",\"2009-05-28\",\"2009-05-29\",\"2009-05-30\",\"2009-05-31\",\"2009-06-01\",\"2009-06-02\",\"2009-06-03\",\"2009-06-04\",\"2009-06-05\",\"2009-06-06\",\"2009-06-07\",\"2009-06-08\",\"2009-06-09\",\"2009-06-10\",\"2009-06-11\",\"2009-06-12\",\"2009-06-13\",\"2009-06-14\",\"2009-06-15\",\"2009-06-16\",\"2009-06-17\",\"2009-06-18\",\"2009-06-19\",\"2009-06-20\",\"2009-06-21\",\"2009-06-22\",\"2009-06-23\",\"2009-06-24\",\"2009-06-25\"],\"y\":[0.15181246190314915,0.0,0.0,0.0,0.0,0.0,0.0,0.15181246190314915,0.0,0.0,0.0,0.16765145053310157,0.16984666468666407,0.16386924161110192,0.16162267447095852,0.0,0.0,0.0,0.16765145053310157,0.16984666468666407,0.16386924161110192,0.16162267447095852,0.0,0.0,0.0,0.16764762027270327,0.1638343222200035,0.15942415249974787,0.0,0.0,0.0,0.0,0.16764762027270327,0.3278136984679826,0.3258728576630091,0.15780451505016738,0.0,0.1568767118833035,0.0,0.0,0.34042420575895993,0.34660089527186844,0.15780451505016738,0.0,0.1568767118833035,0.18194754647381423,0.0,0.36077559874175014,0.36666047413227587,0.0,0.16209351923573426,0.0,0.3551898398481921,0.17698970285604346,0.359102876582876,0.35249870390657445,0.16385637181041923,0.3215337053126129,0.14367703751617114,0.33731117191277127,0.34871276514160876,0.3452623480378957,0.326583496607266,0.16385637181041923,0.15944018607687863,0.14367703751617114,0.16406887853839344,0.1717230622855653,0.3610186406857889,0.3199930027400496,0.13969493197655072,0.0037410699270503727,0.006889859259088093,0.009044823491058106,0.005696671994394892,0.20418733681411055,0.16663888146883832,0.1328913416515319,0.00026574949478098573,0.007257154300060662],\"type\":\"scatter\",\"xaxis\":\"x3\",\"yaxis\":\"y3\"}],                        {\"template\":{\"data\":{\"histogram2dcontour\":[{\"type\":\"histogram2dcontour\",\"colorbar\":{\"outlinewidth\":0,\"ticks\":\"\"},\"colorscale\":[[0.0,\"#0d0887\"],[0.1111111111111111,\"#46039f\"],[0.2222222222222222,\"#7201a8\"],[0.3333333333333333,\"#9c179e\"],[0.4444444444444444,\"#bd3786\"],[0.5555555555555556,\"#d8576b\"],[0.6666666666666666,\"#ed7953\"],[0.7777777777777778,\"#fb9f3a\"],[0.8888888888888888,\"#fdca26\"],[1.0,\"#f0f921\"]]}],\"choropleth\":[{\"type\":\"choropleth\",\"colorbar\":{\"outlinewidth\":0,\"ticks\":\"\"}}],\"histogram2d\":[{\"type\":\"histogram2d\",\"colorbar\":{\"outlinewidth\":0,\"ticks\":\"\"},\"colorscale\":[[0.0,\"#0d0887\"],[0.1111111111111111,\"#46039f\"],[0.2222222222222222,\"#7201a8\"],[0.3333333333333333,\"#9c179e\"],[0.4444444444444444,\"#bd3786\"],[0.5555555555555556,\"#d8576b\"],[0.6666666666666666,\"#ed7953\"],[0.7777777777777778,\"#fb9f3a\"],[0.8888888888888888,\"#fdca26\"],[1.0,\"#f0f921\"]]}],\"heatmap\":[{\"type\":\"heatmap\",\"colorbar\":{\"outlinewidth\":0,\"ticks\":\"\"},\"colorscale\":[[0.0,\"#0d0887\"],[0.1111111111111111,\"#46039f\"],[0.2222222222222222,\"#7201a8\"],[0.3333333333333333,\"#9c179e\"],[0.4444444444444444,\"#bd3786\"],[0.5555555555555556,\"#d8576b\"],[0.6666666666666666,\"#ed7953\"],[0.7777777777777778,\"#fb9f3a\"],[0.8888888888888888,\"#fdca26\"],[1.0,\"#f0f921\"]]}],\"heatmapgl\":[{\"type\":\"heatmapgl\",\"colorbar\":{\"outlinewidth\":0,\"ticks\":\"\"},\"colorscale\":[[0.0,\"#0d0887\"],[0.1111111111111111,\"#46039f\"],[0.2222222222222222,\"#7201a8\"],[0.3333333333333333,\"#9c179e\"],[0.4444444444444444,\"#bd3786\"],[0.5555555555555556,\"#d8576b\"],[0.6666666666666666,\"#ed7953\"],[0.7777777777777778,\"#fb9f3a\"],[0.8888888888888888,\"#fdca26\"],[1.0,\"#f0f921\"]]}],\"contourcarpet\":[{\"type\":\"contourcarpet\",\"colorbar\":{\"outlinewidth\":0,\"ticks\":\"\"}}],\"contour\":[{\"type\":\"contour\",\"colorbar\":{\"outlinewidth\":0,\"ticks\":\"\"},\"colorscale\":[[0.0,\"#0d0887\"],[0.1111111111111111,\"#46039f\"],[0.2222222222222222,\"#7201a8\"],[0.3333333333333333,\"#9c179e\"],[0.4444444444444444,\"#bd3786\"],[0.5555555555555556,\"#d8576b\"],[0.6666666666666666,\"#ed7953\"],[0.7777777777777778,\"#fb9f3a\"],[0.8888888888888888,\"#fdca26\"],[1.0,\"#f0f921\"]]}],\"surface\":[{\"type\":\"surface\",\"colorbar\":{\"outlinewidth\":0,\"ticks\":\"\"},\"colorscale\":[[0.0,\"#0d0887\"],[0.1111111111111111,\"#46039f\"],[0.2222222222222222,\"#7201a8\"],[0.3333333333333333,\"#9c179e\"],[0.4444444444444444,\"#bd3786\"],[0.5555555555555556,\"#d8576b\"],[0.6666666666666666,\"#ed7953\"],[0.7777777777777778,\"#fb9f3a\"],[0.8888888888888888,\"#fdca26\"],[1.0,\"#f0f921\"]]}],\"mesh3d\":[{\"type\":\"mesh3d\",\"colorbar\":{\"outlinewidth\":0,\"ticks\":\"\"}}],\"scatter\":[{\"fillpattern\":{\"fillmode\":\"overlay\",\"size\":10,\"solidity\":0.2},\"type\":\"scatter\"}],\"parcoords\":[{\"type\":\"parcoords\",\"line\":{\"colorbar\":{\"outlinewidth\":0,\"ticks\":\"\"}}}],\"scatterpolargl\":[{\"type\":\"scatterpolargl\",\"marker\":{\"colorbar\":{\"outlinewidth\":0,\"ticks\":\"\"}}}],\"bar\":[{\"error_x\":{\"color\":\"#2a3f5f\"},\"error_y\":{\"color\":\"#2a3f5f\"},\"marker\":{\"line\":{\"color\":\"#E5ECF6\",\"width\":0.5},\"pattern\":{\"fillmode\":\"overlay\",\"size\":10,\"solidity\":0.2}},\"type\":\"bar\"}],\"scattergeo\":[{\"type\":\"scattergeo\",\"marker\":{\"colorbar\":{\"outlinewidth\":0,\"ticks\":\"\"}}}],\"scatterpolar\":[{\"type\":\"scatterpolar\",\"marker\":{\"colorbar\":{\"outlinewidth\":0,\"ticks\":\"\"}}}],\"histogram\":[{\"marker\":{\"pattern\":{\"fillmode\":\"overlay\",\"size\":10,\"solidity\":0.2}},\"type\":\"histogram\"}],\"scattergl\":[{\"type\":\"scattergl\",\"marker\":{\"colorbar\":{\"outlinewidth\":0,\"ticks\":\"\"}}}],\"scatter3d\":[{\"type\":\"scatter3d\",\"line\":{\"colorbar\":{\"outlinewidth\":0,\"ticks\":\"\"}},\"marker\":{\"colorbar\":{\"outlinewidth\":0,\"ticks\":\"\"}}}],\"scattermapbox\":[{\"type\":\"scattermapbox\",\"marker\":{\"colorbar\":{\"outlinewidth\":0,\"ticks\":\"\"}}}],\"scatterternary\":[{\"type\":\"scatterternary\",\"marker\":{\"colorbar\":{\"outlinewidth\":0,\"ticks\":\"\"}}}],\"scattercarpet\":[{\"type\":\"scattercarpet\",\"marker\":{\"colorbar\":{\"outlinewidth\":0,\"ticks\":\"\"}}}],\"carpet\":[{\"aaxis\":{\"endlinecolor\":\"#2a3f5f\",\"gridcolor\":\"white\",\"linecolor\":\"white\",\"minorgridcolor\":\"white\",\"startlinecolor\":\"#2a3f5f\"},\"baxis\":{\"endlinecolor\":\"#2a3f5f\",\"gridcolor\":\"white\",\"linecolor\":\"white\",\"minorgridcolor\":\"white\",\"startlinecolor\":\"#2a3f5f\"},\"type\":\"carpet\"}],\"table\":[{\"cells\":{\"fill\":{\"color\":\"#EBF0F8\"},\"line\":{\"color\":\"white\"}},\"header\":{\"fill\":{\"color\":\"#C8D4E3\"},\"line\":{\"color\":\"white\"}},\"type\":\"table\"}],\"barpolar\":[{\"marker\":{\"line\":{\"color\":\"#E5ECF6\",\"width\":0.5},\"pattern\":{\"fillmode\":\"overlay\",\"size\":10,\"solidity\":0.2}},\"type\":\"barpolar\"}],\"pie\":[{\"automargin\":true,\"type\":\"pie\"}]},\"layout\":{\"autotypenumbers\":\"strict\",\"colorway\":[\"#636efa\",\"#EF553B\",\"#00cc96\",\"#ab63fa\",\"#FFA15A\",\"#19d3f3\",\"#FF6692\",\"#B6E880\",\"#FF97FF\",\"#FECB52\"],\"font\":{\"color\":\"#2a3f5f\"},\"hovermode\":\"closest\",\"hoverlabel\":{\"align\":\"left\"},\"paper_bgcolor\":\"white\",\"plot_bgcolor\":\"#E5ECF6\",\"polar\":{\"bgcolor\":\"#E5ECF6\",\"angularaxis\":{\"gridcolor\":\"white\",\"linecolor\":\"white\",\"ticks\":\"\"},\"radialaxis\":{\"gridcolor\":\"white\",\"linecolor\":\"white\",\"ticks\":\"\"}},\"ternary\":{\"bgcolor\":\"#E5ECF6\",\"aaxis\":{\"gridcolor\":\"white\",\"linecolor\":\"white\",\"ticks\":\"\"},\"baxis\":{\"gridcolor\":\"white\",\"linecolor\":\"white\",\"ticks\":\"\"},\"caxis\":{\"gridcolor\":\"white\",\"linecolor\":\"white\",\"ticks\":\"\"}},\"coloraxis\":{\"colorbar\":{\"outlinewidth\":0,\"ticks\":\"\"}},\"colorscale\":{\"sequential\":[[0.0,\"#0d0887\"],[0.1111111111111111,\"#46039f\"],[0.2222222222222222,\"#7201a8\"],[0.3333333333333333,\"#9c179e\"],[0.4444444444444444,\"#bd3786\"],[0.5555555555555556,\"#d8576b\"],[0.6666666666666666,\"#ed7953\"],[0.7777777777777778,\"#fb9f3a\"],[0.8888888888888888,\"#fdca26\"],[1.0,\"#f0f921\"]],\"sequentialminus\":[[0.0,\"#0d0887\"],[0.1111111111111111,\"#46039f\"],[0.2222222222222222,\"#7201a8\"],[0.3333333333333333,\"#9c179e\"],[0.4444444444444444,\"#bd3786\"],[0.5555555555555556,\"#d8576b\"],[0.6666666666666666,\"#ed7953\"],[0.7777777777777778,\"#fb9f3a\"],[0.8888888888888888,\"#fdca26\"],[1.0,\"#f0f921\"]],\"diverging\":[[0,\"#8e0152\"],[0.1,\"#c51b7d\"],[0.2,\"#de77ae\"],[0.3,\"#f1b6da\"],[0.4,\"#fde0ef\"],[0.5,\"#f7f7f7\"],[0.6,\"#e6f5d0\"],[0.7,\"#b8e186\"],[0.8,\"#7fbc41\"],[0.9,\"#4d9221\"],[1,\"#276419\"]]},\"xaxis\":{\"gridcolor\":\"white\",\"linecolor\":\"white\",\"ticks\":\"\",\"title\":{\"standoff\":15},\"zerolinecolor\":\"white\",\"automargin\":true,\"zerolinewidth\":2},\"yaxis\":{\"gridcolor\":\"white\",\"linecolor\":\"white\",\"ticks\":\"\",\"title\":{\"standoff\":15},\"zerolinecolor\":\"white\",\"automargin\":true,\"zerolinewidth\":2},\"scene\":{\"xaxis\":{\"backgroundcolor\":\"#E5ECF6\",\"gridcolor\":\"white\",\"linecolor\":\"white\",\"showbackground\":true,\"ticks\":\"\",\"zerolinecolor\":\"white\",\"gridwidth\":2},\"yaxis\":{\"backgroundcolor\":\"#E5ECF6\",\"gridcolor\":\"white\",\"linecolor\":\"white\",\"showbackground\":true,\"ticks\":\"\",\"zerolinecolor\":\"white\",\"gridwidth\":2},\"zaxis\":{\"backgroundcolor\":\"#E5ECF6\",\"gridcolor\":\"white\",\"linecolor\":\"white\",\"showbackground\":true,\"ticks\":\"\",\"zerolinecolor\":\"white\",\"gridwidth\":2}},\"shapedefaults\":{\"line\":{\"color\":\"#2a3f5f\"}},\"annotationdefaults\":{\"arrowcolor\":\"#2a3f5f\",\"arrowhead\":0,\"arrowwidth\":1},\"geo\":{\"bgcolor\":\"white\",\"landcolor\":\"#E5ECF6\",\"subunitcolor\":\"white\",\"showland\":true,\"showlakes\":true,\"lakecolor\":\"white\"},\"title\":{\"x\":0.05},\"mapbox\":{\"style\":\"light\"}}},\"xaxis\":{\"anchor\":\"y\",\"domain\":[0.0,1.0],\"matches\":\"x3\",\"showticklabels\":false,\"title\":{\"text\":\"Date\"}},\"yaxis\":{\"anchor\":\"x\",\"domain\":[0.7777777777777778,1.0],\"title\":{\"text\":\"Sentiment Score\"}},\"xaxis2\":{\"anchor\":\"y2\",\"domain\":[0.0,1.0],\"matches\":\"x3\",\"showticklabels\":false,\"title\":{\"text\":\"Date\"}},\"yaxis2\":{\"anchor\":\"x2\",\"domain\":[0.3888888888888889,0.6111111111111112],\"title\":{\"text\":\"Sentiment Score\"}},\"xaxis3\":{\"anchor\":\"y3\",\"domain\":[0.0,1.0],\"title\":{\"text\":\"Date\"}},\"yaxis3\":{\"anchor\":\"x3\",\"domain\":[0.0,0.22222222222222224],\"title\":{\"text\":\"Sentiment Score\"}},\"annotations\":[{\"font\":{\"size\":16},\"showarrow\":false,\"text\":\"ORIGINAL vs. Linear METHOD\",\"x\":0.5,\"xanchor\":\"center\",\"xref\":\"paper\",\"y\":1.0,\"yanchor\":\"bottom\",\"yref\":\"paper\"},{\"font\":{\"size\":16},\"showarrow\":false,\"text\":\"ORIGINAL vs. Knn METHOD\",\"x\":0.5,\"xanchor\":\"center\",\"xref\":\"paper\",\"y\":0.6111111111111112,\"yanchor\":\"bottom\",\"yref\":\"paper\"},{\"font\":{\"size\":16},\"showarrow\":false,\"text\":\"ORIGINAL vs. Seasonal METHOD\",\"x\":0.5,\"xanchor\":\"center\",\"xref\":\"paper\",\"y\":0.22222222222222224,\"yanchor\":\"bottom\",\"yref\":\"paper\"}],\"legend\":{\"x\":0,\"y\":-1,\"traceorder\":\"normal\",\"orientation\":\"h\"},\"showlegend\":true,\"title\":{\"text\":\"Sentiment Score Interpolation Methods\"},\"height\":1200,\"width\":800},                        {\"responsive\": true}                    ).then(function(){\n",
       "                            \n",
       "var gd = document.getElementById('ba2cf465-e0f7-49f3-b02b-74c3d46d2f5a');\n",
       "var x = new MutationObserver(function (mutations, observer) {{\n",
       "        var display = window.getComputedStyle(gd).display;\n",
       "        if (!display || display === 'none') {{\n",
       "            console.log([gd, 'removed!']);\n",
       "            Plotly.purge(gd);\n",
       "            observer.disconnect();\n",
       "        }}\n",
       "}});\n",
       "\n",
       "// Listen for the removal of the full notebook cells\n",
       "var notebookContainer = gd.closest('#notebook-container');\n",
       "if (notebookContainer) {{\n",
       "    x.observe(notebookContainer, {childList: true});\n",
       "}}\n",
       "\n",
       "// Listen for the clearing of the current output cell\n",
       "var outputEl = gd.closest('.output');\n",
       "if (outputEl) {{\n",
       "    x.observe(outputEl, {childList: true});\n",
       "}}\n",
       "\n",
       "                        })                };                });            </script>        </div>"
      ]
     },
     "metadata": {},
     "output_type": "display_data"
    }
   ],
   "source": [
    "import plotly.graph_objects as go\n",
    "from plotly.subplots import make_subplots\n",
    "\n",
    "Dates = [row.YearMonthDateTYPE for row in InterList]\n",
    "Scores = [row.SenSCOREAvg for row in InterList]\n",
    "Methods = [\"LINEAR\", \"KNN\", \"SEASONAL\"]\n",
    "colors = ['red', 'green', 'blue']\n",
    "\n",
    "# Create subplots with shared x-axis\n",
    "fig = make_subplots(rows=3, cols=1, shared_xaxes=True, subplot_titles=[f'ORIGINAL vs. {Method.title()} METHOD' for Method in Methods])\n",
    "\n",
    "# Loop through each method\n",
    "for i, Method in enumerate(Methods):\n",
    "    # Add trace for ORIGINAL\n",
    "    fig.add_trace(go.Scatter(x=Dates, y=Scores, mode='lines', name='ORIGINAL', line=dict(color='black')), row=i+1, col=1)\n",
    "    # Add trace for the INTERPOLATION METHOD\n",
    "    fig.add_trace(go.Scatter(x=Dates, y=[row[Method] for row in InterList], mode='lines', name=Method.title(), line=dict(color=colors[i])), row=i+1, col=1)\n",
    "\n",
    "    # Update layout for each subplot\n",
    "    fig.update_xaxes(title_text='Date', row=i+1, col=1)\n",
    "    fig.update_yaxes(title_text='Sentiment Score', row=i+1, col=1)\n",
    "    fig.update_layout(showlegend=True, legend=dict(x=0, y=-1, traceorder='normal', orientation='h'))\n",
    "\n",
    "# Update overall layout\n",
    "fig.update_layout(height=1200, width=800, title_text=\"Sentiment Score Interpolation Methods\", showlegend=True)\n",
    "\n",
    "# Show the interactive plot\n",
    "fig.show()"
   ]
  },
  {
   "cell_type": "code",
   "execution_count": 19,
   "id": "7128ac01",
   "metadata": {
    "collapsed": true
   },
   "outputs": [
    {
     "name": "stderr",
     "output_type": "stream",
     "text": [
      "2023-11-17 07:37:12,690 WARN window.WindowExec: No Partition Defined for Window operation! Moving all data to a single partition, this can cause serious performance degradation.\n",
      "2023-11-17 07:37:12,691 WARN window.WindowExec: No Partition Defined for Window operation! Moving all data to a single partition, this can cause serious performance degradation.\n",
      "2023-11-17 07:37:12,692 WARN window.WindowExec: No Partition Defined for Window operation! Moving all data to a single partition, this can cause serious performance degradation.\n",
      "[Stage 41:==========================================>             (60 + 1) / 80]\r"
     ]
    },
    {
     "name": "stdout",
     "output_type": "stream",
     "text": [
      "+-----------------+-------------------+-------------------+-------------------+-------------------+-------------------+-------------------+-------------------+\n",
      "|YearMonthDateTYPE|        SenSCOREAvg|             LINEAR|                KNN|           SEASONAL|                 UP|               DOWN|              VALUE|\n",
      "+-----------------+-------------------+-------------------+-------------------+-------------------+-------------------+-------------------+-------------------+\n",
      "|       2009-04-07|0.15181246190314915|               null|0.15181246190314915|0.15181246190314915|0.15181246190314915|0.15181246190314915|0.15181246190314915|\n",
      "|       2009-04-08|                0.0|0.15181246190314915|0.07590623095157457|                0.0|                0.0|0.15181246190314915|0.07590623095157457|\n",
      "|       2009-04-09|                0.0|                0.0|                0.0|                0.0|                0.0|0.15181246190314915|0.07590623095157457|\n",
      "|       2009-04-10|                0.0|                0.0|                0.0|                0.0|                0.0|0.15181246190314915|0.07590623095157457|\n",
      "|       2009-04-11|                0.0|                0.0|                0.0|                0.0|                0.0|0.15181246190314915|0.07590623095157457|\n",
      "|       2009-04-12|                0.0|                0.0|                0.0|                0.0|                0.0|0.15181246190314915|0.07590623095157457|\n",
      "|       2009-04-13|                0.0|                0.0|                0.0|                0.0|                0.0|0.15181246190314915|0.07590623095157457|\n",
      "|       2009-04-14|                0.0|                0.0|                0.0|0.15181246190314915|                0.0|0.15181246190314915|0.07590623095157457|\n",
      "|       2009-04-15|                0.0|                0.0|                0.0|                0.0|                0.0|0.15181246190314915|0.07590623095157457|\n",
      "|       2009-04-16|                0.0|                0.0|                0.0|                0.0|                0.0|0.15181246190314915|0.07590623095157457|\n",
      "|       2009-04-17|                0.0|                0.0|0.08382572526655069|                0.0|                0.0|0.15181246190314915|0.07590623095157457|\n",
      "|       2009-04-18|0.16765145053310138|                0.0| 0.2525747828764335|0.16765145053310138|0.16765145053310138|0.15181246190314915|0.16765145053310138|\n",
      "|       2009-04-19| 0.1698466646866642|0.16765145053310138|0.33560701075876576| 0.1698466646866642| 0.1698466646866642|0.15181246190314915| 0.1698466646866642|\n",
      "|       2009-04-20| 0.1638692416111017| 0.1698466646866642| 0.3296039111899133| 0.1638692416111017| 0.1638692416111017|0.15181246190314915| 0.1638692416111017|\n",
      "|       2009-04-21|0.16162267447095893| 0.1638692416111017|0.24355729527650977|0.16162267447095893|0.16162267447095893|0.15181246190314915|0.16162267447095893|\n",
      "|       2009-04-22|                0.0|0.16162267447095893|0.08081133723547947|                0.0|                0.0|0.15181246190314915|0.07590623095157457|\n",
      "|       2009-04-23|                0.0|                0.0|                0.0|                0.0|                0.0|0.15181246190314915|0.07590623095157457|\n",
      "|       2009-04-24|                0.0|                0.0|                0.0|                0.0|                0.0|0.15181246190314915|0.07590623095157457|\n",
      "|       2009-04-25|                0.0|                0.0|                0.0|0.16765145053310138|                0.0|0.15181246190314915|0.07590623095157457|\n",
      "|       2009-04-26|                0.0|                0.0|                0.0| 0.1698466646866642|                0.0|0.15181246190314915|0.07590623095157457|\n",
      "+-----------------+-------------------+-------------------+-------------------+-------------------+-------------------+-------------------+-------------------+\n",
      "only showing top 20 rows\n",
      "\n"
     ]
    },
    {
     "name": "stderr",
     "output_type": "stream",
     "text": [
      "\r",
      "                                                                                \r"
     ]
    }
   ],
   "source": [
    "%%time\n",
    "\n",
    "# Use the last non-null value in the 'SenSCOREAvg' column and create a new column 'UP'\n",
    "InterDF = DF.withColumn(\"UP\", F.last(\"SenSCOREAvg\", True).over(WindowSpecification))\n",
    "\n",
    "# Use the first non-null value in the 'SenSCOREAvg' column and create a new column 'DOWN'\n",
    "InterDF = InterDF.withColumn(\"DOWN\", F.first(\"SenSCOREAvg\", True).over(WindowSpecification))\n",
    "\n",
    "# Create a new column 'VALUE' based on conditions:\n",
    "# If 'SenSCOREAvg' is 0, set 'VALUE' as the average of 'UP' and 'DOWN'\n",
    "# Otherwise, set 'VALUE' as the original 'SenSCOREAvg'\n",
    "InterDF = InterDF.withColumn(\"VALUE\", F.when(F.col(\"SenSCOREAvg\") == 0, (F.col(\"UP\") + F.col(\"DOWN\")) / 2).otherwise(F.col(\"SenSCOREAvg\")))\n",
    "\n",
    "# Show the first 3 rows of the DataFrame\n",
    "InterDF.show(3)"
   ]
  },
  {
   "cell_type": "code",
   "execution_count": 20,
   "id": "efc7eb7b",
   "metadata": {},
   "outputs": [
    {
     "name": "stdout",
     "output_type": "stream",
     "text": [
      "root\n",
      " |-- YearMonthDateTYPE: date (nullable = true)\n",
      " |-- VALUE: double (nullable = true)\n",
      "\n"
     ]
    }
   ],
   "source": [
    "# Drop the specified columns from the DataFrame ('InterDF')\n",
    "InterDF = InterDF.drop(\"SenSCOREAvg\", \"LINEAR\", \"KNN\", \"SEASONAL\", \"UP\", \"DOWN\")\n",
    "\n",
    "# Print the schema of the modified DataFrame\n",
    "InterDF.printSchema()"
   ]
  },
  {
   "cell_type": "markdown",
   "id": "ede6a7df",
   "metadata": {},
   "source": [
    "#### INTERACTIVE DASHBOARD"
   ]
  },
  {
   "cell_type": "code",
   "execution_count": 22,
   "id": "ae171270",
   "metadata": {
    "collapsed": true
   },
   "outputs": [
    {
     "data": {
      "text/html": [
       "\n",
       "        <iframe\n",
       "            width=\"100%\"\n",
       "            height=\"650\"\n",
       "            src=\"http://127.0.0.1:8080/\"\n",
       "            frameborder=\"0\"\n",
       "            allowfullscreen\n",
       "            \n",
       "        ></iframe>\n",
       "        "
      ],
      "text/plain": [
       "<IPython.lib.display.IFrame at 0x7f4ea5008fa0>"
      ]
     },
     "metadata": {},
     "output_type": "display_data"
    }
   ],
   "source": [
    "import dash\n",
    "from dash import html, dcc\n",
    "import plotly.express as px\n",
    "\n",
    "# Start your Dash application\n",
    "app = dash.Dash(__name__)\n",
    "\n",
    "# Create the layout\n",
    "app.layout = html.Div([\n",
    "    # Add a dropdown menu\n",
    "    dcc.Dropdown(\n",
    "        id='chart-type-dropdown',\n",
    "        options=[\n",
    "            {'label': 'LINE GRAPH', 'value': 'line'},\n",
    "            {'label': 'BAR GRAPH', 'value': 'bar'},\n",
    "            {'label': 'SCATTER GRAPH', 'value': 'scatter'}\n",
    "        ],\n",
    "        value='line',  # Initial chart type to be displayed\n",
    "        clearable=False,\n",
    "        style={'width': '50%'}\n",
    "    ),\n",
    "    # Section displaying the chart\n",
    "    dcc.Graph(\n",
    "        id='chart',\n",
    "        # Create a figure based on the initial chart type to be displayed\n",
    "        figure=px.line(InterDF, x='YearMonthDateTYPE', y='VALUE', title='SENTIMENT SCORE')\n",
    "    )\n",
    "])\n",
    "\n",
    "# Respond to changes in the dropdown menu with the callback function\n",
    "@app.callback(\n",
    "    dash.dependencies.Output('chart', 'figure'),\n",
    "    [dash.dependencies.Input('chart-type-dropdown', 'value')]\n",
    ")\n",
    "def update_chart(selected_chart_type):\n",
    "    # Create an appropriate figure based on the selected chart type\n",
    "    if selected_chart_type == 'bar':\n",
    "        return px.bar(InterDF, x='YearMonthDateTYPE', y='VALUE', title='SENTIMENT SCORE - BAR CHART')\n",
    "    elif selected_chart_type == 'scatter':\n",
    "        return px.scatter(InterDF, x='YearMonthDateTYPE', y='VALUE', title='SENTIMENT SCORE - SCATTER PLOT')\n",
    "    else:\n",
    "        return px.line(InterDF, x='YearMonthDateTYPE', y='VALUE', title='SENTIMENT SCORE')\n",
    "\n",
    "# Run the application\n",
    "if __name__ == '__main__':\n",
    "    app.run_server(debug=True, port=8080)\n"
   ]
  },
  {
   "cell_type": "markdown",
   "id": "a4c0aee8",
   "metadata": {},
   "source": [
    "df_for_sentiment_1 === DF\n",
    "sentiment_score === SenSCORE\n",
    "date === YearMonthDateTYPE\n",
    "date_range === YearMonthDateTYPErange\n",
    "date_range_df === YearMonthDateTYPErange_df\n",
    "avg_sentiment_score === SenSCOREAvg\n",
    "window_spec === WindowSpecification\n",
    "interpolated_data ==== DataFrame\n",
    "interpolated_value === VALUE\n",
    "interpolated_df === InterDF\n",
    "values === VALUES"
   ]
  },
  {
   "cell_type": "markdown",
   "id": "bb92fa5d",
   "metadata": {},
   "source": [
    "# ========================\n",
    "# TIME SERIES FORECASTING\n",
    "# ========================"
   ]
  },
  {
   "cell_type": "code",
   "execution_count": 23,
   "id": "086e8547",
   "metadata": {},
   "outputs": [
    {
     "name": "stderr",
     "output_type": "stream",
     "text": [
      "2023-11-17 07:44:02,085 WARN window.WindowExec: No Partition Defined for Window operation! Moving all data to a single partition, this can cause serious performance degradation.\n",
      "                                                                                \r"
     ]
    }
   ],
   "source": [
    "%%time\n",
    "\n",
    "# Convert the InterDF to NumPy array as VALUES\n",
    "VALUES = InterDF.select(\"VALUE\").rdd.flatMap(lambda x: x).collect()"
   ]
  },
  {
   "cell_type": "markdown",
   "id": "ba4d069e",
   "metadata": {},
   "source": [
    "#### ADF ( Augmented Dickey Fuller ) TEST"
   ]
  },
  {
   "cell_type": "code",
   "execution_count": 85,
   "id": "9da0d5e9",
   "metadata": {
    "collapsed": true
   },
   "outputs": [
    {
     "name": "stdout",
     "output_type": "stream",
     "text": [
      "ADF Statistic: -4.224170590892076\n",
      "p-value: 0.000599501322790417\n",
      "Critical Values:\n",
      " 1%: -3.5159766913976376\n",
      " 5%: -2.898885703483903\n",
      " 10%: -2.5866935058484217\n"
     ]
    }
   ],
   "source": [
    "from statsmodels.tsa.stattools import adfuller\n",
    "\n",
    "def adf_test_and_print(series, autolag='AIC'):\n",
    "    # Perform the ADF test\n",
    "    result_adf = adfuller(series, autolag=autolag)\n",
    "\n",
    "    # Print the ADF Statistic and p-value\n",
    "    print(f'ADF Statistic: {result_adf[0]}')\n",
    "    print(f'p-value: {result_adf[1]}')\n",
    "\n",
    "    # Print the Critical Values\n",
    "    print('Critical Values:')\n",
    "    for key, value in result_adf[4].items():\n",
    "        print(f' {key}: {value}')\n",
    "\n",
    "adf_test_and_print(VALUES)"
   ]
  },
  {
   "cell_type": "markdown",
   "id": "1378ab00",
   "metadata": {},
   "source": [
    "#### KPSS ( Kwiatkowski-Phillips-Schmidt-Shin ) TEST"
   ]
  },
  {
   "cell_type": "code",
   "execution_count": 88,
   "id": "07f2e0ec",
   "metadata": {
    "collapsed": true
   },
   "outputs": [
    {
     "name": "stdout",
     "output_type": "stream",
     "text": [
      "KPSS Statistic: 0.23063307272434677\n",
      "p-value: 0.1\n",
      "Critical Values:\n",
      " 10%: 0.347\n",
      " 5%: 0.463\n",
      " 2.5%: 0.574\n",
      " 1%: 0.739\n"
     ]
    },
    {
     "name": "stderr",
     "output_type": "stream",
     "text": [
      "/home/hduser/.local/lib/python3.10/site-packages/statsmodels/tsa/stattools.py:2022: InterpolationWarning:\n",
      "\n",
      "The test statistic is outside of the range of p-values available in the\n",
      "look-up table. The actual p-value is greater than the p-value returned.\n",
      "\n",
      "\n"
     ]
    }
   ],
   "source": [
    "from statsmodels.tsa.stattools import kpss\n",
    "\n",
    "def kpss_test_and_print(series, regression='c'):\n",
    "    # Perform the KPSS test\n",
    "    result_kpss = kpss(series, regression=regression)\n",
    "\n",
    "    # Print the KPSS Statistic and p-value\n",
    "    print(f'KPSS Statistic: {result_kpss[0]}')\n",
    "    print(f'p-value: {result_kpss[1]}')\n",
    "\n",
    "    # Print the Critical Values\n",
    "    print('Critical Values:')\n",
    "    for key, value in result_kpss[3].items():\n",
    "        print(f' {key}: {value}')\n",
    "\n",
    "kpss_test_and_print(VALUES)"
   ]
  },
  {
   "cell_type": "code",
   "execution_count": 29,
   "id": "368c79b1",
   "metadata": {},
   "outputs": [
    {
     "name": "stdout",
     "output_type": "stream",
     "text": [
      "CPU times: user 20.3 ms, sys: 637 µs, total: 21 ms\n",
      "Wall time: 249 ms\n"
     ]
    }
   ],
   "source": [
    "# Convert the PySpark DataFrame 'InterDF' to a Pandas DataFrame 'InterDFpandas'\n",
    "InterDFpandas = InterDF.toPandas()"
   ]
  },
  {
   "cell_type": "code",
   "execution_count": 30,
   "id": "ce49121d",
   "metadata": {},
   "outputs": [
    {
     "data": {
      "text/plain": [
       "YearMonthDateTYPE     object\n",
       "VALUE                float64\n",
       "dtype: object"
      ]
     },
     "execution_count": 30,
     "metadata": {},
     "output_type": "execute_result"
    }
   ],
   "source": [
    "# Check and display the data types of each column in the Pandas DataFrame 'InterDFpandas'\n",
    "InterDFpandas.dtypes"
   ]
  },
  {
   "cell_type": "code",
   "execution_count": 31,
   "id": "330cdb4e",
   "metadata": {
    "collapsed": true
   },
   "outputs": [
    {
     "data": {
      "text/html": [
       "<div>\n",
       "<style scoped>\n",
       "    .dataframe tbody tr th:only-of-type {\n",
       "        vertical-align: middle;\n",
       "    }\n",
       "\n",
       "    .dataframe tbody tr th {\n",
       "        vertical-align: top;\n",
       "    }\n",
       "\n",
       "    .dataframe thead th {\n",
       "        text-align: right;\n",
       "    }\n",
       "</style>\n",
       "<table border=\"1\" class=\"dataframe\">\n",
       "  <thead>\n",
       "    <tr style=\"text-align: right;\">\n",
       "      <th></th>\n",
       "      <th>VALUE</th>\n",
       "    </tr>\n",
       "    <tr>\n",
       "      <th>YearMonthDateTYPE</th>\n",
       "      <th></th>\n",
       "    </tr>\n",
       "  </thead>\n",
       "  <tbody>\n",
       "    <tr>\n",
       "      <th>2009-04-07</th>\n",
       "      <td>0.151812</td>\n",
       "    </tr>\n",
       "    <tr>\n",
       "      <th>2009-04-08</th>\n",
       "      <td>0.075906</td>\n",
       "    </tr>\n",
       "    <tr>\n",
       "      <th>2009-04-09</th>\n",
       "      <td>0.075906</td>\n",
       "    </tr>\n",
       "    <tr>\n",
       "      <th>2009-04-10</th>\n",
       "      <td>0.075906</td>\n",
       "    </tr>\n",
       "    <tr>\n",
       "      <th>2009-04-11</th>\n",
       "      <td>0.075906</td>\n",
       "    </tr>\n",
       "  </tbody>\n",
       "</table>\n",
       "</div>"
      ],
      "text/plain": [
       "                      VALUE\n",
       "YearMonthDateTYPE          \n",
       "2009-04-07         0.151812\n",
       "2009-04-08         0.075906\n",
       "2009-04-09         0.075906\n",
       "2009-04-10         0.075906\n",
       "2009-04-11         0.075906"
      ]
     },
     "execution_count": 31,
     "metadata": {},
     "output_type": "execute_result"
    }
   ],
   "source": [
    "import pandas as pd\n",
    "\n",
    "# Convert the 'YearMonthDateTYPE' column to datetime objects\n",
    "InterDFpandas['YearMonthDateTYPE'] = pd.to_datetime(InterDFpandas['YearMonthDateTYPE'], format='%Y/%m/%d')\n",
    "\n",
    "# Set the 'YearMonthDateTYPE' column as the index\n",
    "InterDFpandas.set_index('YearMonthDateTYPE', inplace=True)\n",
    "\n",
    "# Resample with a daily frequency\n",
    "InterDFpandas = InterDFpandas.resample('D').asfreq()\n",
    "\n",
    "# Sort the DataFrame by the index\n",
    "InterDFpandas.sort_index(inplace=True)\n",
    "\n",
    "# Display the head of the DataFrame\n",
    "InterDFpandas.head()"
   ]
  },
  {
   "cell_type": "code",
   "execution_count": 32,
   "id": "e3cecdc8",
   "metadata": {},
   "outputs": [
    {
     "name": "stdout",
     "output_type": "stream",
     "text": [
      "TRAIN DATES : 2009-04-07 00:00:00 --- 2009-06-15 00:00:00 (n=70)\n",
      "TEST DATES  : 2009-06-16 00:00:00 --- 2009-06-25 00:00:00 (n=10)\n"
     ]
    }
   ],
   "source": [
    "# Split data into train-test\n",
    "steps = 10\n",
    "\n",
    "# Split the data into training and test sets\n",
    "TrainData = InterDFpandas[:-steps]\n",
    "TestData = InterDFpandas[-steps:]\n",
    "\n",
    "# Print information about the split\n",
    "print(f\"TRAIN DATES : {TrainData.index.min()} --- {TrainData.index.max()} (n={len(TrainData)})\")\n",
    "print(f\"TEST DATES  : {TestData.index.min()} --- {TestData.index.max()} (n={len(TestData)})\")"
   ]
  },
  {
   "cell_type": "markdown",
   "id": "4622a2b5",
   "metadata": {},
   "source": [
    "### COMPARISON OF TRAINING AND TESTING DATA"
   ]
  },
  {
   "cell_type": "code",
   "execution_count": 94,
   "id": "292de72b",
   "metadata": {
    "collapsed": true
   },
   "outputs": [
    {
     "data": {
      "image/png": "[encoded data removed]",
      "text/plain": [
       "<Figure size 1008x576 with 1 Axes>"
      ]
     },
     "metadata": {
      "needs_background": "light"
     },
     "output_type": "display_data"
    }
   ],
   "source": [
    "# Plotting the 'VALUE' column of the training and testing datasets\n",
    "fig, ax = plt.subplots(figsize=(14, 8))\n",
    "\n",
    "# Plot the 'VALUE' column of the training dataset with markers\n",
    "TrainData['VALUE'].plot(ax=ax, label='TRAIN', marker='o', linestyle='-')\n",
    "\n",
    "# Plot the 'VALUE' column of the testing dataset with markers\n",
    "TestData['VALUE'].plot(ax=ax, label='TEST', marker='o', linestyle='-')\n",
    "\n",
    "# Add a legend to the plot\n",
    "ax.legend()\n",
    "\n",
    "# Set plot labels and title\n",
    "ax.set_xlabel('Index')\n",
    "ax.set_ylabel('VALUE')\n",
    "ax.set_title('Comparison of Training and Testing Data')\n",
    "\n",
    "# Add a grid\n",
    "ax.grid(True, linestyle='--', alpha=0.7)\n",
    "\n",
    "# Show the plot\n",
    "plt.show()"
   ]
  },
  {
   "cell_type": "code",
   "execution_count": 95,
   "id": "47299453",
   "metadata": {},
   "outputs": [
    {
     "name": "stdout",
     "output_type": "stream",
     "text": [
      "Coefficients: [0.34121026 0.10733893]\n",
      "Intercept: 0.06639316926238756\n",
      "Mean Squared Error: 0.0015217358966112446\n"
     ]
    }
   ],
   "source": [
    "from sklearn.linear_model import LinearRegression\n",
    "from sklearn.model_selection import train_test_split\n",
    "from sklearn.metrics import mean_squared_error\n",
    "import pandas as pd\n",
    "\n",
    "# Define your lag variables\n",
    "TrainData['outlier1'] = TrainData['VALUE'].shift(1)\n",
    "TrainData['outlier2'] = TrainData['VALUE'].shift(2)\n",
    "\n",
    "# Drop missing values\n",
    "TrainData = TrainData.dropna()\n",
    "\n",
    "# Create feature matrix X and target variable y\n",
    "X = TrainData[['outlier1', 'outlier2']]\n",
    "y = TrainData['VALUE']\n",
    "\n",
    "# Split the data into training and testing sets (you can adjust test_size as needed)\n",
    "X_train, X_test, y_train, y_test = train_test_split(X, y, test_size=0.2, random_state=42)\n",
    "\n",
    "# Create and train Linear Regression model\n",
    "model = LinearRegression()\n",
    "model.fit(X_train, y_train)\n",
    "\n",
    "# Print the coefficients and intercept\n",
    "print('Coefficients:', model.coef_)\n",
    "print('Intercept:', model.intercept_)\n",
    "\n",
    "# Make predictions on the test set\n",
    "y_pred = model.predict(X_test)\n",
    "\n",
    "# Calculate and print the Mean Squared Error\n",
    "mse = mean_squared_error(y_test, y_pred)\n",
    "print('Mean Squared Error:', mse)"
   ]
  },
  {
   "cell_type": "code",
   "execution_count": 35,
   "id": "fd39c475",
   "metadata": {
    "collapsed": true
   },
   "outputs": [
    {
     "name": "stderr",
     "output_type": "stream",
     "text": [
      "/tmp/ipykernel_3681/3245013581.py:4: SettingWithCopyWarning:\n",
      "\n",
      "\n",
      "A value is trying to be set on a copy of a slice from a DataFrame.\n",
      "Try using .loc[row_indexer,col_indexer] = value instead\n",
      "\n",
      "See the caveats in the documentation: https://pandas.pydata.org/pandas-docs/stable/user_guide/indexing.html#returning-a-view-versus-a-copy\n",
      "\n",
      "/tmp/ipykernel_3681/3245013581.py:5: SettingWithCopyWarning:\n",
      "\n",
      "\n",
      "A value is trying to be set on a copy of a slice from a DataFrame.\n",
      "Try using .loc[row_indexer,col_indexer] = value instead\n",
      "\n",
      "See the caveats in the documentation: https://pandas.pydata.org/pandas-docs/stable/user_guide/indexing.html#returning-a-view-versus-a-copy\n",
      "\n"
     ]
    },
    {
     "data": {
      "text/html": [
       "<table class=\"simpletable\">\n",
       "<caption>OLS Regression Results</caption>\n",
       "<tr>\n",
       "  <th>Dep. Variable:</th>          <td>VALUE</td>      <th>  R-squared:         </th> <td>   0.169</td>\n",
       "</tr>\n",
       "<tr>\n",
       "  <th>Model:</th>                   <td>OLS</td>       <th>  Adj. R-squared:    </th> <td>   0.144</td>\n",
       "</tr>\n",
       "<tr>\n",
       "  <th>Method:</th>             <td>Least Squares</td>  <th>  F-statistic:       </th> <td>   6.618</td>\n",
       "</tr>\n",
       "<tr>\n",
       "  <th>Date:</th>             <td>Fri, 17 Nov 2023</td> <th>  Prob (F-statistic):</th>  <td>0.00242</td>\n",
       "</tr>\n",
       "<tr>\n",
       "  <th>Time:</th>                 <td>07:51:42</td>     <th>  Log-Likelihood:    </th> <td>  118.77</td>\n",
       "</tr>\n",
       "<tr>\n",
       "  <th>No. Observations:</th>      <td>    68</td>      <th>  AIC:               </th> <td>  -231.5</td>\n",
       "</tr>\n",
       "<tr>\n",
       "  <th>Df Residuals:</th>          <td>    65</td>      <th>  BIC:               </th> <td>  -224.9</td>\n",
       "</tr>\n",
       "<tr>\n",
       "  <th>Df Model:</th>              <td>     2</td>      <th>                     </th>     <td> </td>   \n",
       "</tr>\n",
       "<tr>\n",
       "  <th>Covariance Type:</th>      <td>nonrobust</td>    <th>                     </th>     <td> </td>   \n",
       "</tr>\n",
       "</table>\n",
       "<table class=\"simpletable\">\n",
       "<tr>\n",
       "      <td></td>        <th>coef</th>     <th>std err</th>      <th>t</th>      <th>P>|t|</th>  <th>[0.025</th>    <th>0.975]</th>  \n",
       "</tr>\n",
       "<tr>\n",
       "  <th>const</th>    <td>    0.0647</td> <td>    0.017</td> <td>    3.885</td> <td> 0.000</td> <td>    0.031</td> <td>    0.098</td>\n",
       "</tr>\n",
       "<tr>\n",
       "  <th>outlier1</th> <td>    0.3806</td> <td>    0.122</td> <td>    3.111</td> <td> 0.003</td> <td>    0.136</td> <td>    0.625</td>\n",
       "</tr>\n",
       "<tr>\n",
       "  <th>outlier2</th> <td>    0.0699</td> <td>    0.124</td> <td>    0.563</td> <td> 0.576</td> <td>   -0.178</td> <td>    0.318</td>\n",
       "</tr>\n",
       "</table>\n",
       "<table class=\"simpletable\">\n",
       "<tr>\n",
       "  <th>Omnibus:</th>       <td> 5.640</td> <th>  Durbin-Watson:     </th> <td>   2.004</td>\n",
       "</tr>\n",
       "<tr>\n",
       "  <th>Prob(Omnibus):</th> <td> 0.060</td> <th>  Jarque-Bera (JB):  </th> <td>   3.354</td>\n",
       "</tr>\n",
       "<tr>\n",
       "  <th>Skew:</th>          <td> 0.348</td> <th>  Prob(JB):          </th> <td>   0.187</td>\n",
       "</tr>\n",
       "<tr>\n",
       "  <th>Kurtosis:</th>      <td> 2.164</td> <th>  Cond. No.          </th> <td>    28.0</td>\n",
       "</tr>\n",
       "</table><br/><br/>Notes:<br/>[1] Standard Errors assume that the covariance matrix of the errors is correctly specified."
      ],
      "text/plain": [
       "<class 'statsmodels.iolib.summary.Summary'>\n",
       "\"\"\"\n",
       "                            OLS Regression Results                            \n",
       "==============================================================================\n",
       "Dep. Variable:                  VALUE   R-squared:                       0.169\n",
       "Model:                            OLS   Adj. R-squared:                  0.144\n",
       "Method:                 Least Squares   F-statistic:                     6.618\n",
       "Date:                Fri, 17 Nov 2023   Prob (F-statistic):            0.00242\n",
       "Time:                        07:51:42   Log-Likelihood:                 118.77\n",
       "No. Observations:                  68   AIC:                            -231.5\n",
       "Df Residuals:                      65   BIC:                            -224.9\n",
       "Df Model:                           2                                         \n",
       "Covariance Type:            nonrobust                                         \n",
       "==============================================================================\n",
       "                 coef    std err          t      P>|t|      [0.025      0.975]\n",
       "------------------------------------------------------------------------------\n",
       "const          0.0647      0.017      3.885      0.000       0.031       0.098\n",
       "outlier1       0.3806      0.122      3.111      0.003       0.136       0.625\n",
       "outlier2       0.0699      0.124      0.563      0.576      -0.178       0.318\n",
       "==============================================================================\n",
       "Omnibus:                        5.640   Durbin-Watson:                   2.004\n",
       "Prob(Omnibus):                  0.060   Jarque-Bera (JB):                3.354\n",
       "Skew:                           0.348   Prob(JB):                        0.187\n",
       "Kurtosis:                       2.164   Cond. No.                         28.0\n",
       "==============================================================================\n",
       "\n",
       "Notes:\n",
       "[1] Standard Errors assume that the covariance matrix of the errors is correctly specified.\n",
       "\"\"\""
      ]
     },
     "execution_count": 35,
     "metadata": {},
     "output_type": "execute_result"
    }
   ],
   "source": [
    "import statsmodels.api as sm\n",
    "\n",
    "# Define your lag variables\n",
    "TrainData['outlier1'] = TrainData['VALUE'].shift(1)\n",
    "TrainData['outlier2'] = TrainData['VALUE'].shift(2)\n",
    "\n",
    "# Drop missing values\n",
    "TrainData = TrainData.dropna()\n",
    "\n",
    "# Create and train AR model\n",
    "X = TrainData[['outlier1', 'outlier2']]\n",
    "X = sm.add_constant(X)\n",
    "y = TrainData['VALUE']\n",
    "\n",
    "model = sm.OLS(y, X).fit()\n",
    "\n",
    "# Print model summary\n",
    "model.summary()"
   ]
  },
  {
   "cell_type": "code",
   "execution_count": 36,
   "id": "10745afa",
   "metadata": {
    "collapsed": true
   },
   "outputs": [
    {
     "data": {
      "text/html": [
       "<div>\n",
       "<style scoped>\n",
       "    .dataframe tbody tr th:only-of-type {\n",
       "        vertical-align: middle;\n",
       "    }\n",
       "\n",
       "    .dataframe tbody tr th {\n",
       "        vertical-align: top;\n",
       "    }\n",
       "\n",
       "    .dataframe thead th {\n",
       "        text-align: right;\n",
       "    }\n",
       "</style>\n",
       "<table border=\"1\" class=\"dataframe\">\n",
       "  <thead>\n",
       "    <tr style=\"text-align: right;\">\n",
       "      <th></th>\n",
       "      <th>PREDICTED</th>\n",
       "    </tr>\n",
       "    <tr>\n",
       "      <th>YearMonthDateTYPE</th>\n",
       "      <th></th>\n",
       "    </tr>\n",
       "  </thead>\n",
       "  <tbody>\n",
       "    <tr>\n",
       "      <th>2009-06-16</th>\n",
       "      <td>0.142494</td>\n",
       "    </tr>\n",
       "    <tr>\n",
       "      <th>2009-06-17</th>\n",
       "      <td>0.132222</td>\n",
       "    </tr>\n",
       "    <tr>\n",
       "      <th>2009-06-18</th>\n",
       "      <td>0.124955</td>\n",
       "    </tr>\n",
       "    <tr>\n",
       "      <th>2009-06-19</th>\n",
       "      <td>0.121472</td>\n",
       "    </tr>\n",
       "    <tr>\n",
       "      <th>2009-06-20</th>\n",
       "      <td>0.119638</td>\n",
       "    </tr>\n",
       "    <tr>\n",
       "      <th>2009-06-21</th>\n",
       "      <td>0.118697</td>\n",
       "    </tr>\n",
       "    <tr>\n",
       "      <th>2009-06-22</th>\n",
       "      <td>0.118211</td>\n",
       "    </tr>\n",
       "    <tr>\n",
       "      <th>2009-06-23</th>\n",
       "      <td>0.117960</td>\n",
       "    </tr>\n",
       "    <tr>\n",
       "      <th>2009-06-24</th>\n",
       "      <td>0.117830</td>\n",
       "    </tr>\n",
       "    <tr>\n",
       "      <th>2009-06-25</th>\n",
       "      <td>0.117763</td>\n",
       "    </tr>\n",
       "  </tbody>\n",
       "</table>\n",
       "</div>"
      ],
      "text/plain": [
       "                   PREDICTED\n",
       "YearMonthDateTYPE           \n",
       "2009-06-16          0.142494\n",
       "2009-06-17          0.132222\n",
       "2009-06-18          0.124955\n",
       "2009-06-19          0.121472\n",
       "2009-06-20          0.119638\n",
       "2009-06-21          0.118697\n",
       "2009-06-22          0.118211\n",
       "2009-06-23          0.117960\n",
       "2009-06-24          0.117830\n",
       "2009-06-25          0.117763"
      ]
     },
     "execution_count": 36,
     "metadata": {},
     "output_type": "execute_result"
    }
   ],
   "source": [
    "# Initialize lag values\n",
    "outlier1 = TrainData['outlier1'].iloc[-1]  \n",
    "outlier2 = TrainData['outlier2'].iloc[-1]  \n",
    "\n",
    "# Predict 'steps' time periods into the future\n",
    "ForecastValues = []\n",
    "\n",
    "for _ in range(steps):\n",
    "    # Calculate the prediction\n",
    "    y_pred = model.predict([1, outlier1, outlier2])\n",
    "    ForecastValues.append(y_pred[0])  # Access the first element directly\n",
    "\n",
    "    # Update lag values for the next prediction\n",
    "    outlier2 = outlier1\n",
    "    outlier1 = y_pred[0]  # Access the first element directly\n",
    "\n",
    "# Create a DataFrame for the predictions with date index\n",
    "PredictionDates = TestData.index[-steps:]\n",
    "predictions = pd.DataFrame({'PREDICTED': ForecastValues}, index=PredictionDates)\n",
    "\n",
    "# Print the first 20 rows of the DataFrames\n",
    "# predictions.head(20)\n",
    "# TestData.head(20)"
   ]
  },
  {
   "cell_type": "code",
   "execution_count": 99,
   "id": "cd4387d0",
   "metadata": {
    "collapsed": true
   },
   "outputs": [
    {
     "name": "stdout",
     "output_type": "stream",
     "text": [
      "TEST ERROR (MSE): 0.012348746465417264\n"
     ]
    },
    {
     "data": {
      "image/png": "[encoded data removed]",
      "text/plain": [
       "<Figure size 864x576 with 1 Axes>"
      ]
     },
     "metadata": {
      "needs_background": "light"
     },
     "output_type": "display_data"
    }
   ],
   "source": [
    "# Plotting the 'VALUE' column of the training and testing datasets along with predictions\n",
    "fig, ax = plt.subplots(figsize=(12, 8))\n",
    "\n",
    "# Plot the 'VALUE' column of the training dataset\n",
    "TrainData['VALUE'].plot(ax=ax, label='TRAIN', color='blue')\n",
    "\n",
    "# Plot the 'VALUE' column of the testing dataset\n",
    "TestData['VALUE'].plot(ax=ax, label='TEST', color='orange')\n",
    "\n",
    "# Plot the predicted values\n",
    "predictions.plot(ax=ax, label='PREDICTION', linestyle='--', color='red')\n",
    "\n",
    "# Add grid\n",
    "ax.grid(True, linestyle='--', alpha=0.7)\n",
    "\n",
    "# Add legend to the plot\n",
    "ax.legend()\n",
    "\n",
    "# Set plot labels and title\n",
    "ax.set_xlabel('Index')\n",
    "ax.set_ylabel('VALUE')\n",
    "ax.set_title('Comparison of Training, Testing, and Prediction Data')\n",
    "\n",
    "# Calculate the test error (MSE)\n",
    "error_mse = mean_squared_error(y_true=TestData['VALUE'], y_pred=predictions['PREDICTED'])\n",
    "\n",
    "# Print the test error\n",
    "print(f\"TEST ERROR (MSE): {error_mse}\")\n",
    "\n",
    "# Show the plot\n",
    "plt.show()"
   ]
  },
  {
   "cell_type": "code",
   "execution_count": 139,
   "id": "bbd2c139",
   "metadata": {},
   "outputs": [
    {
     "data": {
      "text/html": [
       "<style>#sk-container-id-12 {color: black;}#sk-container-id-12 pre{padding: 0;}#sk-container-id-12 div.sk-toggleable {background-color: white;}#sk-container-id-12 label.sk-toggleable__label {cursor: pointer;display: block;width: 100%;margin-bottom: 0;padding: 0.3em;box-sizing: border-box;text-align: center;}#sk-container-id-12 label.sk-toggleable__label-arrow:before {content: \"▸\";float: left;margin-right: 0.25em;color: #696969;}#sk-container-id-12 label.sk-toggleable__label-arrow:hover:before {color: black;}#sk-container-id-12 div.sk-estimator:hover label.sk-toggleable__label-arrow:before {color: black;}#sk-container-id-12 div.sk-toggleable__content {max-height: 0;max-width: 0;overflow: hidden;text-align: left;background-color: #f0f8ff;}#sk-container-id-12 div.sk-toggleable__content pre {margin: 0.2em;color: black;border-radius: 0.25em;background-color: #f0f8ff;}#sk-container-id-12 input.sk-toggleable__control:checked~div.sk-toggleable__content {max-height: 200px;max-width: 100%;overflow: auto;}#sk-container-id-12 input.sk-toggleable__control:checked~label.sk-toggleable__label-arrow:before {content: \"▾\";}#sk-container-id-12 div.sk-estimator input.sk-toggleable__control:checked~label.sk-toggleable__label {background-color: #d4ebff;}#sk-container-id-12 div.sk-label input.sk-toggleable__control:checked~label.sk-toggleable__label {background-color: #d4ebff;}#sk-container-id-12 input.sk-hidden--visually {border: 0;clip: rect(1px 1px 1px 1px);clip: rect(1px, 1px, 1px, 1px);height: 1px;margin: -1px;overflow: hidden;padding: 0;position: absolute;width: 1px;}#sk-container-id-12 div.sk-estimator {font-family: monospace;background-color: #f0f8ff;border: 1px dotted black;border-radius: 0.25em;box-sizing: border-box;margin-bottom: 0.5em;}#sk-container-id-12 div.sk-estimator:hover {background-color: #d4ebff;}#sk-container-id-12 div.sk-parallel-item::after {content: \"\";width: 100%;border-bottom: 1px solid gray;flex-grow: 1;}#sk-container-id-12 div.sk-label:hover label.sk-toggleable__label {background-color: #d4ebff;}#sk-container-id-12 div.sk-serial::before {content: \"\";position: absolute;border-left: 1px solid gray;box-sizing: border-box;top: 0;bottom: 0;left: 50%;z-index: 0;}#sk-container-id-12 div.sk-serial {display: flex;flex-direction: column;align-items: center;background-color: white;padding-right: 0.2em;padding-left: 0.2em;position: relative;}#sk-container-id-12 div.sk-item {position: relative;z-index: 1;}#sk-container-id-12 div.sk-parallel {display: flex;align-items: stretch;justify-content: center;background-color: white;position: relative;}#sk-container-id-12 div.sk-item::before, #sk-container-id-12 div.sk-parallel-item::before {content: \"\";position: absolute;border-left: 1px solid gray;box-sizing: border-box;top: 0;bottom: 0;left: 50%;z-index: -1;}#sk-container-id-12 div.sk-parallel-item {display: flex;flex-direction: column;z-index: 1;position: relative;background-color: white;}#sk-container-id-12 div.sk-parallel-item:first-child::after {align-self: flex-end;width: 50%;}#sk-container-id-12 div.sk-parallel-item:last-child::after {align-self: flex-start;width: 50%;}#sk-container-id-12 div.sk-parallel-item:only-child::after {width: 0;}#sk-container-id-12 div.sk-dashed-wrapped {border: 1px dashed gray;margin: 0 0.4em 0.5em 0.4em;box-sizing: border-box;padding-bottom: 0.4em;background-color: white;}#sk-container-id-12 div.sk-label label {font-family: monospace;font-weight: bold;display: inline-block;line-height: 1.2em;}#sk-container-id-12 div.sk-label-container {text-align: center;}#sk-container-id-12 div.sk-container {/* jupyter's `normalize.less` sets `[hidden] { display: none; }` but bootstrap.min.css set `[hidden] { display: none !important; }` so we also need the `!important` here to be able to override the default hidden behavior on the sphinx rendered scikit-learn.org. See: https://github.com/scikit-learn/scikit-learn/issues/21755 */display: inline-block !important;position: relative;}#sk-container-id-12 div.sk-text-repr-fallback {display: none;}</style><div id=\"sk-container-id-12\" class=\"sk-top-container\"><div class=\"sk-text-repr-fallback\"><pre>RandomForestRegressor(max_depth=2, n_estimators=300, random_state=42)</pre><b>In a Jupyter environment, please rerun this cell to show the HTML representation or trust the notebook. <br />On GitHub, the HTML representation is unable to render, please try loading this page with nbviewer.org.</b></div><div class=\"sk-container\" hidden><div class=\"sk-item\"><div class=\"sk-estimator sk-toggleable\"><input class=\"sk-toggleable__control sk-hidden--visually\" id=\"sk-estimator-id-12\" type=\"checkbox\" checked><label for=\"sk-estimator-id-12\" class=\"sk-toggleable__label sk-toggleable__label-arrow\">RandomForestRegressor</label><div class=\"sk-toggleable__content\"><pre>RandomForestRegressor(max_depth=2, n_estimators=300, random_state=42)</pre></div></div></div></div></div>"
      ],
      "text/plain": [
       "RandomForestRegressor(max_depth=2, n_estimators=300, random_state=42)"
      ]
     },
     "execution_count": 139,
     "metadata": {},
     "output_type": "execute_result"
    }
   ],
   "source": [
    "from sklearn.model_selection import train_test_split\n",
    "\n",
    "# Split the data into training and testing sets\n",
    "X_train, X_test, y_train, y_test = train_test_split(X, y, test_size=0.30, random_state=42)\n",
    "\n",
    "# Create and train a RandomForestRegressor with the specified hyperparameters\n",
    "regressor = RandomForestRegressor(max_depth=3, n_estimators=250, random_state=42)\n",
    "\n",
    "# Fit the regressor to the training data\n",
    "regressor.fit(X, y)"
   ]
  },
  {
   "cell_type": "code",
   "execution_count": 140,
   "id": "cb41afca",
   "metadata": {},
   "outputs": [
    {
     "name": "stdout",
     "output_type": "stream",
     "text": [
      "Length of ForecastValues: 10\n",
      "Length of ForecastIndex: 10\n"
     ]
    }
   ],
   "source": [
    "# Print the length of ForecastValues and ForecastIndex\n",
    "print(\"Length of ForecastValues:\", len(ForecastValues))\n",
    "print(\"Length of ForecastIndex:\", len(ForecastIndex))"
   ]
  },
  {
   "cell_type": "code",
   "execution_count": 141,
   "id": "af300ec4",
   "metadata": {},
   "outputs": [
    {
     "data": {
      "text/html": [
       "<div>\n",
       "<style scoped>\n",
       "    .dataframe tbody tr th:only-of-type {\n",
       "        vertical-align: middle;\n",
       "    }\n",
       "\n",
       "    .dataframe tbody tr th {\n",
       "        vertical-align: top;\n",
       "    }\n",
       "\n",
       "    .dataframe thead th {\n",
       "        text-align: right;\n",
       "    }\n",
       "</style>\n",
       "<table border=\"1\" class=\"dataframe\">\n",
       "  <thead>\n",
       "    <tr style=\"text-align: right;\">\n",
       "      <th></th>\n",
       "      <th>PREDICTED</th>\n",
       "    </tr>\n",
       "    <tr>\n",
       "      <th>YearMonthDateTYPE</th>\n",
       "      <th></th>\n",
       "    </tr>\n",
       "  </thead>\n",
       "  <tbody>\n",
       "    <tr>\n",
       "      <th>2009-06-21</th>\n",
       "      <td>0.097015</td>\n",
       "    </tr>\n",
       "    <tr>\n",
       "      <th>2009-06-22</th>\n",
       "      <td>0.097015</td>\n",
       "    </tr>\n",
       "    <tr>\n",
       "      <th>2009-06-23</th>\n",
       "      <td>0.102063</td>\n",
       "    </tr>\n",
       "    <tr>\n",
       "      <th>2009-06-24</th>\n",
       "      <td>0.133948</td>\n",
       "    </tr>\n",
       "    <tr>\n",
       "      <th>2009-06-25</th>\n",
       "      <td>0.163176</td>\n",
       "    </tr>\n",
       "  </tbody>\n",
       "</table>\n",
       "</div>"
      ],
      "text/plain": [
       "                   PREDICTED\n",
       "YearMonthDateTYPE           \n",
       "2009-06-21          0.097015\n",
       "2009-06-22          0.097015\n",
       "2009-06-23          0.102063\n",
       "2009-06-24          0.133948\n",
       "2009-06-25          0.163176"
      ]
     },
     "execution_count": 141,
     "metadata": {},
     "output_type": "execute_result"
    }
   ],
   "source": [
    "# Predictions on the test set\n",
    "ForecastValues = regressor.predict(X_test)\n",
    "\n",
    "# Create an index for the forecasted values\n",
    "ForecastIndex = TestData.index[:len(ForecastValues)]\n",
    "\n",
    "# Take only the first len(ForecastIndex) data points\n",
    "ForecastValues = ForecastValues[:len(ForecastIndex)]\n",
    "\n",
    "# Append missing data to the end (e.g., zeros)\n",
    "while len(ForecastValues) < len(ForecastIndex):\n",
    "    ForecastValues.append(0)  # or you can append another value\n",
    "\n",
    "# Convert prediction values and index to a DataFrame\n",
    "ForecastData = pd.DataFrame({'PREDICTED': ForecastValues}, index=ForecastIndex)\n",
    "\n",
    "# Print the last 20 rows of the DataFrames\n",
    "ForecastData.tail()"
   ]
  },
  {
   "cell_type": "code",
   "execution_count": 143,
   "id": "40d04fed",
   "metadata": {
    "collapsed": true
   },
   "outputs": [
    {
     "data": {
      "image/png": "[encoded data removed]",
      "text/plain": [
       "<Figure size 1152x576 with 1 Axes>"
      ]
     },
     "metadata": {
      "needs_background": "light"
     },
     "output_type": "display_data"
    }
   ],
   "source": [
    "# Plot\n",
    "fig, ax = plt.subplots(figsize=(16, 8))\n",
    "\n",
    "# Plot the 'VALUE' column of the training dataset as a line\n",
    "TrainData['VALUE'].plot(ax=ax, label='TRAIN')\n",
    "\n",
    "# Scatter plot the 'VALUE' column of the training dataset as points\n",
    "ax.scatter(TrainData.index, TrainData['VALUE'], label='TRAIN', marker='o')\n",
    "\n",
    "# Plot the 'VALUE' column of the testing dataset as a line\n",
    "TestData['VALUE'].plot(ax=ax, label='TEST')\n",
    "\n",
    "# Scatter plot the 'VALUE' column of the testing dataset as points\n",
    "ax.scatter(TestData.index, TestData['VALUE'], label='TEST', marker='o')\n",
    "\n",
    "# Plot the 'PREDICTED' column of the forecast dataset as a line\n",
    "ForecastData['PREDICTED'].plot(ax=ax, label='PREDICTION')\n",
    "\n",
    "# Scatter plot the 'PREDICTED' column of the forecast dataset as points\n",
    "ax.scatter(ForecastData.index, ForecastData['PREDICTED'], label='PREDICTION', marker='o')\n",
    "\n",
    "# Add a legend to the plot\n",
    "ax.legend()\n",
    "\n",
    "# Set plot labels and title\n",
    "ax.set_xlabel('Index')\n",
    "ax.set_ylabel('VALUE')\n",
    "ax.set_title('Comparison of Training, Testing, and Prediction Data')\n",
    "\n",
    "# Add grid\n",
    "ax.grid(True, linestyle='--', alpha=0.7)\n",
    "\n",
    "# Show the plot\n",
    "plt.show()"
   ]
  },
  {
   "cell_type": "markdown",
   "id": "43f125ee",
   "metadata": {},
   "source": [
    "## AutoRegressive Integrated Moving Average (ARMA)"
   ]
  },
  {
   "cell_type": "code",
   "execution_count": 144,
   "id": "2bc363a2",
   "metadata": {},
   "outputs": [
    {
     "name": "stderr",
     "output_type": "stream",
     "text": [
      "/home/hduser/.local/lib/python3.10/site-packages/statsmodels/tsa/statespace/sarimax.py:966: UserWarning:\n",
      "\n",
      "Non-stationary starting autoregressive parameters found. Using zeros as starting parameters.\n",
      "\n",
      "/home/hduser/.local/lib/python3.10/site-packages/statsmodels/tsa/statespace/sarimax.py:978: UserWarning:\n",
      "\n",
      "Non-invertible starting MA parameters found. Using zeros as starting parameters.\n",
      "\n"
     ]
    },
    {
     "name": "stdout",
     "output_type": "stream",
     "text": [
      "Best ARMA order: (0, 0, 1)\n"
     ]
    }
   ],
   "source": [
    "import itertools\n",
    "\n",
    "# Define the range of p and q values\n",
    "p_values = range(3)\n",
    "q_values = range(3)\n",
    "\n",
    "# Perform a grid search\n",
    "best_mse = float('inf')\n",
    "best_order = None\n",
    "\n",
    "for p, q in itertools.product(p_values, q_values):\n",
    "    order = (p, 0, q)  # d=0 for ARMA\n",
    "    arma_model = ARIMA(TrainData['VALUE'], order=order)\n",
    "    arma_result = arma_model.fit()\n",
    "\n",
    "    # Make predictions on the test set\n",
    "    forecast_values_arma = arma_result.predict(start=len(TrainData), end=len(TrainData) + len(TestData) - 1, typ='levels')\n",
    "\n",
    "    # Calculate the test error (MSE)\n",
    "    error_mse_arma = mean_squared_error(y_true=TestData['VALUE'], y_pred=forecast_values_arma)\n",
    "\n",
    "    # Update best order if the current model is better\n",
    "    if error_mse_arma < best_mse:\n",
    "        best_mse = error_mse_arma\n",
    "        best_order = order\n",
    "\n",
    "print(f\"Best ARMA order: {best_order}\")"
   ]
  },
  {
   "cell_type": "code",
   "execution_count": 145,
   "id": "60648ecd",
   "metadata": {},
   "outputs": [
    {
     "data": {
      "image/png": "[encoded data removed]",
      "text/plain": [
       "<Figure size 1152x576 with 1 Axes>"
      ]
     },
     "metadata": {
      "needs_background": "light"
     },
     "output_type": "display_data"
    },
    {
     "name": "stdout",
     "output_type": "stream",
     "text": [
      "ARMA Test error (MSE): 0.01170183000683153\n"
     ]
    }
   ],
   "source": [
    "from statsmodels.tsa.arima.model import ARIMA\n",
    "import matplotlib.pyplot as plt\n",
    "from sklearn.metrics import mean_squared_error\n",
    "\n",
    "# Fit an ARMA model (without seasonality)\n",
    "order_arma = (0, 0, 1)  # Non-seasonal order\n",
    "\n",
    "ARMA_model = ARIMA(TrainData['VALUE'], order=order_arma)\n",
    "ARMA_result = ARMA_model.fit()\n",
    "\n",
    "# Make predictions on the test set\n",
    "ForecastValuesARMA = ARMA_result.predict(start=len(TrainData), end=len(TrainData) + len(TestData) - 1, typ='levels')\n",
    "\n",
    "# Create an index for the forecasted values\n",
    "ForecastIndexARMA = TestData.index[:len(ForecastValuesARMA)]\n",
    "\n",
    "# Plot\n",
    "fig, ax = plt.subplots(figsize=(16, 8))\n",
    "TrainData['VALUE'].plot(ax=ax, label='TRAIN')\n",
    "TestData['VALUE'].plot(ax=ax, label='TEST')\n",
    "ForecastValuesARMA.plot(ax=ax, label='ARMA PREDICTIONS', color='red')\n",
    "ax.legend()\n",
    "plt.show()\n",
    "\n",
    "# Calculate the test error (MSE)\n",
    "error_mse_arma = mean_squared_error(\n",
    "    y_true=TestData['VALUE'],\n",
    "    y_pred=ForecastValuesARMA\n",
    ")\n",
    "\n",
    "# Print the test error for ARMA\n",
    "print(f\"ARMA Test error (MSE): {error_mse_arma}\")\n"
   ]
  },
  {
   "cell_type": "markdown",
   "id": "5922c311",
   "metadata": {},
   "source": [
    "## AutoRegressive Integrated Moving Average (ARIMA)"
   ]
  },
  {
   "cell_type": "code",
   "execution_count": 146,
   "id": "d926b59b",
   "metadata": {},
   "outputs": [
    {
     "name": "stderr",
     "output_type": "stream",
     "text": [
      "/home/hduser/.local/lib/python3.10/site-packages/statsmodels/tsa/statespace/sarimax.py:966: UserWarning:\n",
      "\n",
      "Non-stationary starting autoregressive parameters found. Using zeros as starting parameters.\n",
      "\n",
      "/home/hduser/.local/lib/python3.10/site-packages/statsmodels/tsa/statespace/sarimax.py:978: UserWarning:\n",
      "\n",
      "Non-invertible starting MA parameters found. Using zeros as starting parameters.\n",
      "\n"
     ]
    },
    {
     "name": "stdout",
     "output_type": "stream",
     "text": [
      "Best ARIMA Order: (2, 0, 2) with AIC: -223.5796774407103\n"
     ]
    }
   ],
   "source": [
    "import itertools\n",
    "\n",
    "# Define the range of p, d, and q values\n",
    "p_values = range(0, 3)\n",
    "d_values = range(0, 1)  # Assuming your data is non-seasonal\n",
    "q_values = range(0, 3)\n",
    "\n",
    "# Generate all possible combinations of p, d, and q\n",
    "orders = list(itertools.product(p_values, d_values, q_values))\n",
    "\n",
    "# Initialize variables to store best parameters and lowest AIC\n",
    "best_aic = float(\"inf\")\n",
    "best_order = None\n",
    "\n",
    "# Iterate over all combinations\n",
    "for order in orders:\n",
    "    try:\n",
    "        # Fit the ARIMA model\n",
    "        model = ARIMA(TrainData['VALUE'], order=order)\n",
    "        result = model.fit()\n",
    "\n",
    "        # Check AIC\n",
    "        aic = result.aic\n",
    "\n",
    "        # Update best parameters if current AIC is lower\n",
    "        if aic < best_aic:\n",
    "            best_aic = aic\n",
    "            best_order = order\n",
    "    except:\n",
    "        continue\n",
    "\n",
    "# Print the best parameters\n",
    "print(f\"Best ARIMA Order: {best_order} with AIC: {best_aic}\")"
   ]
  },
  {
   "cell_type": "code",
   "execution_count": 147,
   "id": "502f54be",
   "metadata": {},
   "outputs": [
    {
     "data": {
      "image/png": "[encoded data removed]",
      "text/plain": [
       "<Figure size 1152x576 with 1 Axes>"
      ]
     },
     "metadata": {
      "needs_background": "light"
     },
     "output_type": "display_data"
    },
    {
     "name": "stdout",
     "output_type": "stream",
     "text": [
      "ARIMA Test error (MSE): 0.011755393597907475\n"
     ]
    }
   ],
   "source": [
    "from statsmodels.tsa.arima.model import ARIMA\n",
    "\n",
    "# Fit an ARIMA model\n",
    "order_arima = (2, 0, 2)  # Non-seasonal order\n",
    "\n",
    "ARIMA = ARIMA(TrainData['VALUE'], order=order_arima)\n",
    "ARIMAresult = ARIMA.fit()\n",
    "\n",
    "# Make predictions on the test set\n",
    "ForecastValuesARIMA = ARIMAresult.predict(start=len(TrainData), end=len(TrainData) + len(TestData) - 1, typ='levels')\n",
    "\n",
    "# Create an index for the forecasted values\n",
    "ForecastIndexARIMA = TestData.index[:len(ForecastValuesARIMA)]\n",
    "\n",
    "# Plot\n",
    "fig, ax = plt.subplots(figsize=(16, 8))\n",
    "TrainData['VALUE'].plot(ax=ax, label='TRAIN')\n",
    "TestData['VALUE'].plot(ax=ax, label='TEST')\n",
    "ForecastValuesARIMA.plot(ax=ax, label='ARIMA PREDICTIONS', color='green')\n",
    "ax.legend()\n",
    "plt.show()\n",
    "\n",
    "# Calculate the test error (MSE)\n",
    "error_mse_arima = mean_squared_error(\n",
    "    y_true=TestData['VALUE'],\n",
    "    y_pred=ForecastValuesARIMA\n",
    ")\n",
    "\n",
    "# Print the test error for ARIMA\n",
    "print(f\"ARIMA Test error (MSE): {error_mse_arima}\")\n"
   ]
  },
  {
   "cell_type": "markdown",
   "id": "6ad0e105",
   "metadata": {},
   "source": [
    "## Seasonal AutoRegressive Integrated Moving Average (SARIMA)"
   ]
  },
  {
   "cell_type": "code",
   "execution_count": 148,
   "id": "26134dce",
   "metadata": {},
   "outputs": [
    {
     "name": "stderr",
     "output_type": "stream",
     "text": [
      "/home/hduser/.local/lib/python3.10/site-packages/statsmodels/tsa/statespace/sarimax.py:997: UserWarning:\n",
      "\n",
      "Non-stationary starting seasonal autoregressive Using zeros as starting parameters.\n",
      "\n",
      "/home/hduser/.local/lib/python3.10/site-packages/statsmodels/tsa/statespace/sarimax.py:997: UserWarning:\n",
      "\n",
      "Non-stationary starting seasonal autoregressive Using zeros as starting parameters.\n",
      "\n",
      "/home/hduser/.local/lib/python3.10/site-packages/statsmodels/tsa/statespace/sarimax.py:997: UserWarning:\n",
      "\n",
      "Non-stationary starting seasonal autoregressive Using zeros as starting parameters.\n",
      "\n",
      "/home/hduser/.local/lib/python3.10/site-packages/statsmodels/base/model.py:604: ConvergenceWarning:\n",
      "\n",
      "Maximum Likelihood optimization failed to converge. Check mle_retvals\n",
      "\n",
      "/home/hduser/.local/lib/python3.10/site-packages/statsmodels/tsa/statespace/sarimax.py:997: UserWarning:\n",
      "\n",
      "Non-stationary starting seasonal autoregressive Using zeros as starting parameters.\n",
      "\n",
      "/home/hduser/.local/lib/python3.10/site-packages/statsmodels/tsa/statespace/sarimax.py:997: UserWarning:\n",
      "\n",
      "Non-stationary starting seasonal autoregressive Using zeros as starting parameters.\n",
      "\n",
      "/home/hduser/.local/lib/python3.10/site-packages/statsmodels/base/model.py:604: ConvergenceWarning:\n",
      "\n",
      "Maximum Likelihood optimization failed to converge. Check mle_retvals\n",
      "\n",
      "/home/hduser/.local/lib/python3.10/site-packages/statsmodels/base/model.py:604: ConvergenceWarning:\n",
      "\n",
      "Maximum Likelihood optimization failed to converge. Check mle_retvals\n",
      "\n",
      "/home/hduser/.local/lib/python3.10/site-packages/statsmodels/tsa/statespace/sarimax.py:997: UserWarning:\n",
      "\n",
      "Non-stationary starting seasonal autoregressive Using zeros as starting parameters.\n",
      "\n",
      "/home/hduser/.local/lib/python3.10/site-packages/statsmodels/base/model.py:604: ConvergenceWarning:\n",
      "\n",
      "Maximum Likelihood optimization failed to converge. Check mle_retvals\n",
      "\n",
      "/home/hduser/.local/lib/python3.10/site-packages/statsmodels/tsa/statespace/sarimax.py:997: UserWarning:\n",
      "\n",
      "Non-stationary starting seasonal autoregressive Using zeros as starting parameters.\n",
      "\n",
      "/home/hduser/.local/lib/python3.10/site-packages/statsmodels/base/model.py:604: ConvergenceWarning:\n",
      "\n",
      "Maximum Likelihood optimization failed to converge. Check mle_retvals\n",
      "\n",
      "/home/hduser/.local/lib/python3.10/site-packages/statsmodels/base/model.py:604: ConvergenceWarning:\n",
      "\n",
      "Maximum Likelihood optimization failed to converge. Check mle_retvals\n",
      "\n",
      "/home/hduser/.local/lib/python3.10/site-packages/statsmodels/base/model.py:604: ConvergenceWarning:\n",
      "\n",
      "Maximum Likelihood optimization failed to converge. Check mle_retvals\n",
      "\n",
      "/home/hduser/.local/lib/python3.10/site-packages/statsmodels/tsa/statespace/sarimax.py:997: UserWarning:\n",
      "\n",
      "Non-stationary starting seasonal autoregressive Using zeros as starting parameters.\n",
      "\n",
      "/home/hduser/.local/lib/python3.10/site-packages/statsmodels/base/model.py:604: ConvergenceWarning:\n",
      "\n",
      "Maximum Likelihood optimization failed to converge. Check mle_retvals\n",
      "\n",
      "/home/hduser/.local/lib/python3.10/site-packages/statsmodels/base/model.py:604: ConvergenceWarning:\n",
      "\n",
      "Maximum Likelihood optimization failed to converge. Check mle_retvals\n",
      "\n",
      "/home/hduser/.local/lib/python3.10/site-packages/statsmodels/base/model.py:604: ConvergenceWarning:\n",
      "\n",
      "Maximum Likelihood optimization failed to converge. Check mle_retvals\n",
      "\n",
      "/home/hduser/.local/lib/python3.10/site-packages/statsmodels/base/model.py:604: ConvergenceWarning:\n",
      "\n",
      "Maximum Likelihood optimization failed to converge. Check mle_retvals\n",
      "\n",
      "/home/hduser/.local/lib/python3.10/site-packages/statsmodels/tsa/statespace/sarimax.py:997: UserWarning:\n",
      "\n",
      "Non-stationary starting seasonal autoregressive Using zeros as starting parameters.\n",
      "\n"
     ]
    },
    {
     "name": "stdout",
     "output_type": "stream",
     "text": [
      "Best SARIMA Order: (1, 0, 1) and Seasonal Order: (1, 0, 1, 7) with AIC: -218.0654124167277\n"
     ]
    },
    {
     "name": "stderr",
     "output_type": "stream",
     "text": [
      "/home/hduser/.local/lib/python3.10/site-packages/statsmodels/base/model.py:604: ConvergenceWarning:\n",
      "\n",
      "Maximum Likelihood optimization failed to converge. Check mle_retvals\n",
      "\n"
     ]
    }
   ],
   "source": [
    "import itertools\n",
    "\n",
    "# Define the range of p, d, q, P, D, Q, and S values\n",
    "p_values = range(0, 3)\n",
    "d_values = range(0, 1)  # Assuming your data is non-seasonal\n",
    "q_values = range(0, 3)\n",
    "P_values = range(0, 2)\n",
    "D_values = range(0, 1)  # Assuming your data is non-seasonal\n",
    "Q_values = range(0, 2)\n",
    "s_values = [7]  # Assuming weekly seasonality, adjust as needed\n",
    "\n",
    "# Generate all possible combinations of p, d, q, P, D, Q, and S\n",
    "orders = list(itertools.product(p_values, d_values, q_values))\n",
    "seasonal_orders = list(itertools.product(P_values, D_values, Q_values, s_values))\n",
    "\n",
    "# Initialize variables to store best parameters and lowest AIC\n",
    "best_aic = float(\"inf\")\n",
    "best_order = None\n",
    "best_seasonal_order = None\n",
    "\n",
    "# Iterate over all combinations\n",
    "for order in orders:\n",
    "    for seasonal_order in seasonal_orders:\n",
    "        try:\n",
    "            # Fit the SARIMA model\n",
    "            model = SARIMAX(TrainData['VALUE'], order=order, seasonal_order=seasonal_order)\n",
    "            result = model.fit(disp=False)\n",
    "\n",
    "            # Check AIC\n",
    "            aic = result.aic\n",
    "\n",
    "            # Update best parameters if current AIC is lower\n",
    "            if aic < best_aic:\n",
    "                best_aic = aic\n",
    "                best_order = order\n",
    "                best_seasonal_order = seasonal_order\n",
    "        except:\n",
    "            continue\n",
    "\n",
    "# Print the best parameters\n",
    "print(f\"Best SARIMA Order: {best_order} and Seasonal Order: {best_seasonal_order} with AIC: {best_aic}\")"
   ]
  },
  {
   "cell_type": "code",
   "execution_count": 149,
   "id": "4c808d0f",
   "metadata": {},
   "outputs": [
    {
     "name": "stderr",
     "output_type": "stream",
     "text": [
      "/home/hduser/.local/lib/python3.10/site-packages/statsmodels/tsa/statespace/sarimax.py:997: UserWarning:\n",
      "\n",
      "Non-stationary starting seasonal autoregressive Using zeros as starting parameters.\n",
      "\n"
     ]
    },
    {
     "name": "stdout",
     "output_type": "stream",
     "text": [
      "RUNNING THE L-BFGS-B CODE\n",
      "\n",
      "           * * *\n",
      "\n",
      "Machine precision = 2.220D-16\n",
      " N =            5     M =           10\n",
      " This problem is unconstrained.\n",
      "\n",
      "At X0         0 variables are exactly at the bounds\n",
      "\n",
      "At iterate    0    f= -5.24256D-01    |proj g|=  4.24521D+01\n",
      "\n",
      "At iterate    5    f= -1.09365D+00    |proj g|=  7.66905D+00\n",
      "\n",
      "At iterate   10    f= -1.66531D+00    |proj g|=  9.22513D-01\n",
      "\n",
      "At iterate   15    f= -1.66772D+00    |proj g|=  7.87690D-01\n",
      "\n",
      "At iterate   20    f= -1.69482D+00    |proj g|=  1.51101D+00\n",
      "\n",
      "At iterate   25    f= -1.70206D+00    |proj g|=  1.04075D+00\n",
      "\n",
      "At iterate   30    f= -1.71881D+00    |proj g|=  2.21779D-01\n",
      "\n",
      "At iterate   35    f= -1.72211D+00    |proj g|=  1.75343D-01\n",
      "\n",
      "At iterate   40    f= -1.72624D+00    |proj g|=  2.18858D-01\n",
      "\n",
      "At iterate   45    f= -1.72777D+00    |proj g|=  1.90436D-02\n",
      "\n",
      "At iterate   50    f= -1.72777D+00    |proj g|=  1.84540D-05\n",
      "\n",
      "           * * *\n",
      "\n",
      "Tit   = total number of iterations\n",
      "Tnf   = total number of function evaluations\n",
      "Tnint = total number of segments explored during Cauchy searches\n",
      "Skip  = number of BFGS updates skipped\n",
      "Nact  = number of active bounds at final generalized Cauchy point\n",
      "Projg = norm of the final projected gradient\n",
      "F     = final function value\n",
      "\n",
      "           * * *\n",
      "\n",
      "   N    Tit     Tnf  Tnint  Skip  Nact     Projg        F\n",
      "    5     50     61      1     0     0   1.845D-05  -1.728D+00\n",
      "  F =  -1.7277682758843007     \n",
      "\n",
      "STOP: TOTAL NO. of ITERATIONS REACHED LIMIT                 \n"
     ]
    },
    {
     "name": "stderr",
     "output_type": "stream",
     "text": [
      "/home/hduser/.local/lib/python3.10/site-packages/statsmodels/base/model.py:604: ConvergenceWarning:\n",
      "\n",
      "Maximum Likelihood optimization failed to converge. Check mle_retvals\n",
      "\n"
     ]
    },
    {
     "data": {
      "image/png": "[encoded data removed]",
      "text/plain": [
       "<Figure size 1152x576 with 1 Axes>"
      ]
     },
     "metadata": {
      "needs_background": "light"
     },
     "output_type": "display_data"
    },
    {
     "name": "stdout",
     "output_type": "stream",
     "text": [
      "SARIMA Test error (MSE): 0.010447119447456027\n"
     ]
    }
   ],
   "source": [
    "from statsmodels.tsa.statespace.sarimax import SARIMAX\n",
    "\n",
    "# Fit a SARIMA model\n",
    "order = (1, 0, 1)  # Non-seasonal order\n",
    "seasonal_order = (1, 0, 1, 7)  # Seasonal order (p, d, q, S)\n",
    "\n",
    "SARIMA = SARIMAX(TrainData['VALUE'], order=order, seasonal_order=seasonal_order)\n",
    "SARIMAresult = SARIMA.fit()\n",
    "\n",
    "# Make predictions on the test set\n",
    "ForecastValuesSARIMA = SARIMAresult.predict(start=len(TrainData), end=len(TrainData) + len(TestData) - 1, typ='levels')\n",
    "\n",
    "# Create an index for the forecasted values\n",
    "ForecastIndexSARIMA = TestData.index[:len(ForecastValuesSARIMA)]\n",
    "\n",
    "# Plot\n",
    "fig, ax = plt.subplots(figsize=(16, 8))\n",
    "TrainData['VALUE'].plot(ax=ax, label='TRAIN')\n",
    "TestData['VALUE'].plot(ax=ax, label='TEST')\n",
    "ForecastValuesSARIMA.plot(ax=ax, label='SARIMA PREDICTIONS', color='black')\n",
    "ax.legend()\n",
    "plt.show()\n",
    "\n",
    "# Calculate the test error (MSE)\n",
    "error_mse_sarima = mean_squared_error(\n",
    "    y_true=TestData['VALUE'],\n",
    "    y_pred=ForecastValuesSARIMA\n",
    ")\n",
    "\n",
    "# Print the test error for SARIMA\n",
    "print(f\"SARIMA Test error (MSE): {error_mse_sarima}\")"
   ]
  },
  {
   "cell_type": "markdown",
   "id": "4c842743",
   "metadata": {},
   "source": [
    "## Simple Exponential Smoothing (SES) Model"
   ]
  },
  {
   "cell_type": "code",
   "execution_count": 74,
   "id": "5e7274bc",
   "metadata": {},
   "outputs": [
    {
     "data": {
      "image/png": "[encoded data removed]",
      "text/plain": [
       "<Figure size 1152x576 with 1 Axes>"
      ]
     },
     "metadata": {
      "needs_background": "light"
     },
     "output_type": "display_data"
    },
    {
     "name": "stdout",
     "output_type": "stream",
     "text": [
      "SES Test error (MSE): 0.011959276289301634\n"
     ]
    }
   ],
   "source": [
    "from statsmodels.tsa.holtwinters import ExponentialSmoothing\n",
    "\n",
    "# Fit a Simple Exponential Smoothing (SES) model\n",
    "ses_model = ExponentialSmoothing(TrainData['VALUE'], trend='add', seasonal='add', seasonal_periods=7)\n",
    "ses_result = ses_model.fit()\n",
    "\n",
    "# Make predictions on the test set\n",
    "ForecastValuesSES = ses_result.predict(start=len(TrainData), end=len(TrainData) + len(TestData) - 1)\n",
    "\n",
    "# Create an index for the forecasted values\n",
    "ForecastIndexSES = TestData.index[:len(ForecastValuesSES)]\n",
    "\n",
    "# Plot\n",
    "fig, ax = plt.subplots(figsize=(16, 8))\n",
    "TrainData['VALUE'].plot(ax=ax, label='TRAIN')\n",
    "TestData['VALUE'].plot(ax=ax, label='TEST')\n",
    "ForecastValuesSES.plot(ax=ax, label='SES PREDICTIONS', color='red')\n",
    "ax.legend()\n",
    "plt.show()\n",
    "\n",
    "# Calculate the test error (MSE) for SES\n",
    "error_mse_ses = mean_squared_error(\n",
    "    y_true=TestData['VALUE'],\n",
    "    y_pred=ForecastValuesSES\n",
    ")\n",
    "\n",
    "# Print the test error for SES\n",
    "print(f\"SES Test error (MSE): {error_mse_ses}\")"
   ]
  },
  {
   "cell_type": "markdown",
   "id": "1684b887",
   "metadata": {},
   "source": [
    "# ================================\n",
    "# MYSQL CONNECTION AND YCSB TEST\n",
    "# ================================"
   ]
  },
  {
   "cell_type": "code",
   "execution_count": null,
   "id": "80e5ed75",
   "metadata": {},
   "outputs": [],
   "source": [
    "!mysql --version"
   ]
  },
  {
   "cell_type": "code",
   "execution_count": null,
   "id": "bdbcd83e",
   "metadata": {},
   "outputs": [],
   "source": [
    "%%time\n",
    "from pyspark.sql import SparkSession\n",
    "\n",
    "# Create Spark Session\n",
    "spark = SparkSession.builder.appName(\"MySQL\").getOrCreate()\n",
    "\n",
    "# Read CSV file with Spark DataFrame\n",
    "mysql_df = spark.read.csv(\"/ProjectTweets.csv\", header=False, inferSchema=True)"
   ]
  },
  {
   "cell_type": "code",
   "execution_count": null,
   "id": "98edee66",
   "metadata": {},
   "outputs": [],
   "source": [
    "# INITILAZE THE MYSQL IN TERMINAL\n",
    "# !mysql -u root -p"
   ]
  },
  {
   "cell_type": "code",
   "execution_count": null,
   "id": "65591e5b",
   "metadata": {},
   "outputs": [],
   "source": [
    "%%time\n",
    "# Configure MySQL Database Connection\n",
    "MySQL_Configuration = {\n",
    "    \"url\": \"jdbc:mysql://localhost:3306/sample\",\n",
    "    \"driver\": \"com.mysql.cj.jdbc.Driver\",\n",
    "    \"dbtable\": \"yourtable\",\n",
    "    \"user\": \"root\",\n",
    "    \"password\": \"password\"\n",
    "}"
   ]
  },
  {
   "cell_type": "code",
   "execution_count": null,
   "id": "c2e927b9",
   "metadata": {},
   "outputs": [],
   "source": [
    "%%time\n",
    "# Load DataFrame into MySQL database\n",
    "mysql_df.write.format(\"jdbc\").options(**MySQL_Configuration).mode(\"overwrite\").save()"
   ]
  },
  {
   "cell_type": "code",
   "execution_count": null,
   "id": "72ddc32f",
   "metadata": {},
   "outputs": [],
   "source": [
    "%%time\n",
    "# Read DataFrame via MySQL\n",
    "mysql_df = spark.read.jdbc(url = \"jdbc:mysql://localhost:3306/sample\",\n",
    "                           table = \"yourtable\",\n",
    "                           properties = MySQL_Configuration)"
   ]
  },
  {
   "cell_type": "code",
   "execution_count": null,
   "id": "39ab3fef",
   "metadata": {},
   "outputs": [],
   "source": [
    "%%time\n",
    "# Show DataFrame via MySQL\n",
    "mysql_df.show()"
   ]
  },
  {
   "cell_type": "code",
   "execution_count": null,
   "id": "8c9fcc26",
   "metadata": {},
   "outputs": [],
   "source": [
    "%%time\n",
    "# YCSB TEST FOR MYSQL\n",
    "!/home/hduser/ycsb-0.17.0/bin/ycsb.sh run jdbc -P /home/hduser/ycsb-0.17.0/workloads/workloada -p db.url=jdbc:mysql://localhost:3306/sample -p db.user=root -p db.passwd=password -p db.driver=com.mysql.cj.jdbc.Driver"
   ]
  },
  {
   "cell_type": "markdown",
   "id": "1f3bdccc",
   "metadata": {},
   "source": [
    "# ===================================\n",
    "# MONGODB CONNECTION AND YCSB TEST\n",
    "# ==================================="
   ]
  },
  {
   "cell_type": "code",
   "execution_count": null,
   "id": "fe4d1608",
   "metadata": {},
   "outputs": [],
   "source": [
    "!mongo --version"
   ]
  },
  {
   "cell_type": "code",
   "execution_count": null,
   "id": "46a6763b",
   "metadata": {},
   "outputs": [],
   "source": [
    "%%time\n",
    "from pyspark.sql import SparkSession\n",
    "\n",
    "# Create Spark Session\n",
    "spark = SparkSession.builder.appName(\"MongoDB\").getOrCreate()\n",
    "\n",
    "# Read CSV file with Spark DataFrame\n",
    "mongodb_df = spark.read.csv(\"/ProjectTweets.csv\", header=False, inferSchema=True)"
   ]
  },
  {
   "cell_type": "code",
   "execution_count": null,
   "id": "e5713371",
   "metadata": {},
   "outputs": [],
   "source": [
    "# INITILAZE THE MONGODB IN TERMINAL\n",
    "# mongod"
   ]
  },
  {
   "cell_type": "code",
   "execution_count": null,
   "id": "b77c4994",
   "metadata": {},
   "outputs": [],
   "source": [
    "%%time\n",
    "# Configure MongoDB Database Connection\n",
    "mongodb_df.write.format(\"mongodb\") \\\n",
    "                .option(\"uri\",\"mongodb://127.0.0.1:27017/\") \\\n",
    "                .option(\"database\",\"TweetDatabaseMongoDB\") \\\n",
    "                .option(\"collection\",\"TweetCollectionMongoDB\") \\\n",
    "                .mode(\"append\").save()"
   ]
  },
  {
   "cell_type": "code",
   "execution_count": null,
   "id": "370ad252",
   "metadata": {},
   "outputs": [],
   "source": [
    "# Show DataFrame via MongoDB\n",
    "mongodb_df.show()"
   ]
  },
  {
   "cell_type": "code",
   "execution_count": null,
   "id": "f21e0050",
   "metadata": {},
   "outputs": [],
   "source": [
    "%%time\n",
    "# YCSB TEST FOR MONGODB\n",
    "!/home/hduser/ycsb-0.17.0/bin/ycsb.sh run mongodb -P /home/hduser/ycsb-0.17.0/workloads/workloada -p mongodb.url=mongodb://localhost:27017 -p mongodb.database=TweetDatabaseMongoDB "
   ]
  }
 ],
 "metadata": {
  "kernelspec": {
   "display_name": "Python 3 (ipykernel)",
   "language": "python",
   "name": "python3"
  },
  "language_info": {
   "codemirror_mode": {
    "name": "ipython",
    "version": 3
   },
   "file_extension": ".py",
   "mimetype": "text/x-python",
   "name": "python",
   "nbconvert_exporter": "python",
   "pygments_lexer": "ipython3",
   "version": "3.10.12"
  }
 },
 "nbformat": 4,
 "nbformat_minor": 5
}
